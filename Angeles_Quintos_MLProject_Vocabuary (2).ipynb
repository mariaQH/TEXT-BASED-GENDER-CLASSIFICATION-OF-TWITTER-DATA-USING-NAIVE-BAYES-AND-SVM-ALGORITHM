{
 "cells": [
  {
   "cell_type": "markdown",
   "metadata": {},
   "source": [
    "# Machine Learning Project (Text-Based Gender Classification of Twitter Data using Naive Bayes and Support Vector Machine)\n",
    "# Vocabulary or Bag of Words (BOW)\n",
    "## Quintos, Maria Nikki H.\n",
    "## Angeles, Angelic L.\n",
    "## BSCS-ML COM 181"
   ]
  },
  {
   "cell_type": "markdown",
   "metadata": {},
   "source": [
    "### 1.   Importing the modules, libraries, and dataset"
   ]
  },
  {
   "cell_type": "markdown",
   "metadata": {},
   "source": [
    "A library is essentially a collection of modules that can be called and used and we can import the libraries by using 'import' to make use of the different functions. This part of the code imports modules and libraries to have access to the functions that we will be needing to build the classification model using Naive Bayes and SVM. Python libraries such as:\n",
    "\n",
    "1. <b>Numpy</b> - works with arrays and matrices used for computation in the algorithm \n",
    "2. <b>Pandas</b> - works with data manipulation and analysis \n",
    "3. <b>Sklearn</b> - works with classification, clustering and regression\n",
    "4. <b>Re</b> - works with regular expressions which are a special sequence of characters that helps you match or find other strings or sets of strings, using a specialized syntax held in a pattern.\n",
    "5. <b>Nltk</b> - known as natural language tool kit that works with human language data along with text processing libraries."
   ]
  },
  {
   "cell_type": "code",
   "execution_count": 1,
   "metadata": {
    "executionInfo": {
     "elapsed": 1463,
     "status": "ok",
     "timestamp": 1602035089058,
     "user": {
      "displayName": "Manolito Jr Octaviano",
      "photoUrl": "https://lh3.googleusercontent.com/a-/AOh14Ghs1xvUMckq1vKHdJp8tGrLFhPyYF-cpyKeFE6H=s64",
      "userId": "16598801986864972123"
     },
     "user_tz": -480
    },
    "id": "9jZImxjA6Nz9"
   },
   "outputs": [],
   "source": [
    "import pandas as pd\n",
    "import numpy as np\n",
    "import re"
   ]
  },
  {
   "cell_type": "markdown",
   "metadata": {},
   "source": [
    "<b>Importing the dataset</b>\n",
    "\n",
    "Data is raw information, it is the representation of both human and machine observation of the world. The dataset that you should used entirely depends on what type of problem you want to solve. This study is mainly focus on the gender classification problem and in this part of the code we are importing the dataset that we will used in the classification task. The dataset collected is from Kaggle. The dataset has 26 independent variables and 20,050 data. Since we are focusing on the text-based gender classification, we will only get the “gender” and “text” variables, where in the “text” represents the Twitter user’s tweets. "
   ]
  },
  {
   "cell_type": "code",
   "execution_count": 2,
   "metadata": {
    "executionInfo": {
     "elapsed": 1816,
     "status": "ok",
     "timestamp": 1602035214049,
     "user": {
      "displayName": "Manolito Jr Octaviano",
      "photoUrl": "https://lh3.googleusercontent.com/a-/AOh14Ghs1xvUMckq1vKHdJp8tGrLFhPyYF-cpyKeFE6H=s64",
      "userId": "16598801986864972123"
     },
     "user_tz": -480
    },
    "id": "vwnnKVwt6Vz_"
   },
   "outputs": [],
   "source": [
    "# https://www.kaggle.com/rahulvks/gender-identification-analysis/notebook\n",
    "# https://stackabuse.com/the-naive-bayes-algorithm-in-python-with-scikit-learn/\n",
    "\n",
    "url_train = 'https://raw.githubusercontent.com/mdeff/ntds_2016/master/project/reports/twitter_gender/gender-classifier-DFE-791531.csv'\n",
    "data_with_duplicate = pd.read_csv(url_train, encoding='latin1')"
   ]
  },
  {
   "cell_type": "markdown",
   "metadata": {},
   "source": [
    "### 2. Data Pre-Processing"
   ]
  },
  {
   "cell_type": "markdown",
   "metadata": {},
   "source": [
    "We are living in the age of data and data are very significant when implementing machine learning algorithms since this is where the model gets all the information that they should process and learn. Data Pre-Processing is a technique to prepare the data to get more out of it. To have better and improved datasets that are cleaner and are more manageable to analyze and work with, we must apply this technique. The purpose of using this technique is to avoid noisy, inconsistent, and missing data that can lead to poor accuracy of the machine learning model. "
   ]
  },
  {
   "cell_type": "markdown",
   "metadata": {},
   "source": [
    "<b>Dropping the duplicates</b>\n",
    "\n",
    "In this part of the code we are simply removing the duplicates from the DataFrame using the 'drop_duplicates' method and storing the new DataFrame with duplicate rows removed in the 'data' variable."
   ]
  },
  {
   "cell_type": "code",
   "execution_count": 3,
   "metadata": {
    "colab": {
     "base_uri": "https://localhost:8080/"
    },
    "executionInfo": {
     "elapsed": 803,
     "status": "ok",
     "timestamp": 1602035281777,
     "user": {
      "displayName": "Manolito Jr Octaviano",
      "photoUrl": "https://lh3.googleusercontent.com/a-/AOh14Ghs1xvUMckq1vKHdJp8tGrLFhPyYF-cpyKeFE6H=s64",
      "userId": "16598801986864972123"
     },
     "user_tz": -480
    },
    "id": "ZoxbE5KT6e6-",
    "outputId": "678ce434-1fb9-4c35-9a44-617c5d9ffaf5"
   },
   "outputs": [
    {
     "name": "stdout",
     "output_type": "stream",
     "text": [
      "20050\n",
      "Index(['_unit_id', '_golden', '_unit_state', '_trusted_judgments',\n",
      "       '_last_judgment_at', 'gender', 'gender:confidence', 'profile_yn',\n",
      "       'profile_yn:confidence', 'created', 'description', 'fav_number',\n",
      "       'gender_gold', 'link_color', 'name', 'profile_yn_gold', 'profileimage',\n",
      "       'retweet_count', 'sidebar_color', 'text', 'tweet_coord', 'tweet_count',\n",
      "       'tweet_created', 'tweet_id', 'tweet_location', 'user_timezone'],\n",
      "      dtype='object')\n",
      "18412\n"
     ]
    }
   ],
   "source": [
    "print(len(data_with_duplicate))\n",
    "print(data_with_duplicate.columns)\n",
    "#print(data_with_duplicate.shape)\n",
    "data = data_with_duplicate.sort_values('text', ascending=True).drop_duplicates('text').sort_index()\n",
    "print(len(data))"
   ]
  },
  {
   "cell_type": "markdown",
   "metadata": {},
   "source": [
    "<b>Getting the significant columns that we will used in the classification task and dealing with missing values</b>\n",
    "\n",
    "The dataset will surely have missing and noisy data because the data gathering process is not perfect, so the dataset will have many irrelevant and missing parts. Data cleaning is one of the method that we should use to solve this problem. In this part of the code, we are only getting the significant columns that we will used in the classification task which are 'text' (independent variable) that represents the Twitter user's tweets and 'gender' (dependent variable) that represents if the Twitter user is a male or female. Then after getting the significant columns, we will find all the null values in the dataset and replace it with 'XXX' just so that we can easily distinguish if there is any null or missing values in the data. "
   ]
  },
  {
   "cell_type": "code",
   "execution_count": 4,
   "metadata": {
    "colab": {
     "base_uri": "https://localhost:8080/"
    },
    "executionInfo": {
     "elapsed": 755,
     "status": "ok",
     "timestamp": 1602035503770,
     "user": {
      "displayName": "Manolito Jr Octaviano",
      "photoUrl": "https://lh3.googleusercontent.com/a-/AOh14Ghs1xvUMckq1vKHdJp8tGrLFhPyYF-cpyKeFE6H=s64",
      "userId": "16598801986864972123"
     },
     "user_tz": -480
    },
    "id": "PnWLv5O06he-",
    "outputId": "d1d16419-8afe-4272-daf6-76073f9b45ee"
   },
   "outputs": [
    {
     "name": "stdout",
     "output_type": "stream",
     "text": [
      "                                                text  gender\n",
      "0  Robbie E Responds To Critics After Win Against...    male\n",
      "1  ÛÏIt felt like they were my friends and I was...    male\n",
      "2  i absolutely adore when louis starts the songs...    male\n",
      "3  Hi @JordanSpieth - Looking at the url - do you...    male\n",
      "4  Watching Neighbours on Sky+ catching up with t...  female\n",
      "cleaned\n"
     ]
    },
    {
     "name": "stderr",
     "output_type": "stream",
     "text": [
      "<ipython-input-4-52e004f9ebe3>:7: SettingWithCopyWarning: \n",
      "A value is trying to be set on a copy of a slice from a DataFrame.\n",
      "Try using .loc[row_indexer,col_indexer] = value instead\n",
      "\n",
      "See the caveats in the documentation: https://pandas.pydata.org/pandas-docs/stable/user_guide/indexing.html#returning-a-view-versus-a-copy\n",
      "  data_text_label['gender'] = data_text_label['gender'].fillna('XXX')\n"
     ]
    }
   ],
   "source": [
    "# only get the text and label.\n",
    "data_text_label = data[['text', 'gender']]\n",
    "print(data_text_label.head(5))\n",
    "\n",
    "# sanity check of our data\n",
    "if data_text_label['gender'].isnull().any():\n",
    "  data_text_label['gender'] = data_text_label['gender'].fillna('XXX')\n",
    "  print('cleaned')"
   ]
  },
  {
   "cell_type": "markdown",
   "metadata": {},
   "source": [
    "<b>Data Cleaning</b>\n",
    "\n",
    "One of the data preprocessing techniques is data cleaning, by applying this technique the model can improve the accuracy and performance of the machine learning model. The Regular Expression (RegEx) method is a faster process of cleaning text data that is simpler to use compared to manually splitting the strings. Regular Expressions (RegEx) are essentially text patterns that you can use to automate searching through and replacing elements within strings of text. We convert all strings into lowercase using '.lower()' method and in this case, we used 're.sub()' method to replace irrelevant and insignificant strings or characters in the 'text' or tweets of the users such as:\n",
    "1. Converting all strings into lower case\n",
    "2. Links and urls are removed\n",
    "3. Remove all non-ASCII code\n",
    "4. Remove all punctuations\n",
    "5. Delete double spaces and replace with one space\n",
    "6. Remove special characters\n",
    "7. Remove numbers"
   ]
  },
  {
   "cell_type": "code",
   "execution_count": 5,
   "metadata": {
    "colab": {
     "base_uri": "https://localhost:8080/",
     "height": 299
    },
    "executionInfo": {
     "elapsed": 1626,
     "status": "ok",
     "timestamp": 1602035819394,
     "user": {
      "displayName": "Manolito Jr Octaviano",
      "photoUrl": "https://lh3.googleusercontent.com/a-/AOh14Ghs1xvUMckq1vKHdJp8tGrLFhPyYF-cpyKeFE6H=s64",
      "userId": "16598801986864972123"
     },
     "user_tz": -480
    },
    "id": "uq9VK9mj9-Mq",
    "outputId": "eb40f571-c1da-4872-ba29-d684054c9239"
   },
   "outputs": [
    {
     "name": "stderr",
     "output_type": "stream",
     "text": [
      "<ipython-input-5-d036128efde5>:17: SettingWithCopyWarning: \n",
      "A value is trying to be set on a copy of a slice from a DataFrame.\n",
      "Try using .loc[row_indexer,col_indexer] = value instead\n",
      "\n",
      "See the caveats in the documentation: https://pandas.pydata.org/pandas-docs/stable/user_guide/indexing.html#returning-a-view-versus-a-copy\n",
      "  data_text_label['text'] = data_text_label.apply(lambda x: cleaning(x['text']), axis=1)\n"
     ]
    },
    {
     "data": {
      "text/html": [
       "<div>\n",
       "<style scoped>\n",
       "    .dataframe tbody tr th:only-of-type {\n",
       "        vertical-align: middle;\n",
       "    }\n",
       "\n",
       "    .dataframe tbody tr th {\n",
       "        vertical-align: top;\n",
       "    }\n",
       "\n",
       "    .dataframe thead th {\n",
       "        text-align: right;\n",
       "    }\n",
       "</style>\n",
       "<table border=\"1\" class=\"dataframe\">\n",
       "  <thead>\n",
       "    <tr style=\"text-align: right;\">\n",
       "      <th></th>\n",
       "      <th>text</th>\n",
       "      <th>gender</th>\n",
       "    </tr>\n",
       "  </thead>\n",
       "  <tbody>\n",
       "    <tr>\n",
       "      <th>0</th>\n",
       "      <td>robbie e responds to critics after win against...</td>\n",
       "      <td>male</td>\n",
       "    </tr>\n",
       "    <tr>\n",
       "      <th>1</th>\n",
       "      <td>it felt like they were my friends and i was li...</td>\n",
       "      <td>male</td>\n",
       "    </tr>\n",
       "    <tr>\n",
       "      <th>2</th>\n",
       "      <td>i absolutely adore when louis starts the songs...</td>\n",
       "      <td>male</td>\n",
       "    </tr>\n",
       "    <tr>\n",
       "      <th>3</th>\n",
       "      <td>hi jordanspieth looking at the url do you use ...</td>\n",
       "      <td>male</td>\n",
       "    </tr>\n",
       "    <tr>\n",
       "      <th>4</th>\n",
       "      <td>watching neighbours on sky catching up with th...</td>\n",
       "      <td>female</td>\n",
       "    </tr>\n",
       "  </tbody>\n",
       "</table>\n",
       "</div>"
      ],
      "text/plain": [
       "                                                text  gender\n",
       "0  robbie e responds to critics after win against...    male\n",
       "1  it felt like they were my friends and i was li...    male\n",
       "2  i absolutely adore when louis starts the songs...    male\n",
       "3  hi jordanspieth looking at the url do you use ...    male\n",
       "4  watching neighbours on sky catching up with th...  female"
      ]
     },
     "execution_count": 5,
     "metadata": {},
     "output_type": "execute_result"
    }
   ],
   "source": [
    "def cleaning(s):\n",
    "    s = str(s)\n",
    "    s = s.lower()\n",
    "    s = re.sub(r\"http\\S+\", \"\", s)\n",
    "    encoded_string = s.encode(\"ascii\", \"ignore\")\n",
    "    s = encoded_string.decode()\n",
    "    s = re.sub(r\"[^a-zA-Z0-9]+\", ' ', s)\n",
    "    s = re.sub(' +', ' ', s)\n",
    "    s = re.sub(r\"\\b\\d+\\b\", \"\", s)\n",
    "    s = re.sub(r'[0-9]+', '', s)\n",
    "    return s\n",
    "'''\n",
    "def sample(s):\n",
    "  return 'M'+s\n",
    "'''\n",
    "\n",
    "data_text_label['text'] = data_text_label.apply(lambda x: cleaning(x['text']), axis=1)\n",
    "data_text_label.head(5)"
   ]
  },
  {
   "cell_type": "markdown",
   "metadata": {},
   "source": [
    "<b>Getting the stop words</b>\n",
    "\n",
    "Now we will make use of the natural languange tool kit, this tool kit contain natural languange processing or text processing libraries. We will be downloading the list of stopwords from the nltk. Stop words are commonly used words (such as “the”, “a”, “an”, “in”) which does not add much meaning or weight to a sentence. They can be ignored without sacrificing the meaning of the sentence since sometimes irrelevant words and characters can cause the machine learning model to perform poorly."
   ]
  },
  {
   "cell_type": "code",
   "execution_count": 6,
   "metadata": {},
   "outputs": [
    {
     "name": "stdout",
     "output_type": "stream",
     "text": [
      "Requirement already satisfied: nltk in c:\\users\\nikki\\anaconda3\\lib\\site-packages (3.5)Note: you may need to restart the kernel to use updated packages.\n",
      "Requirement already satisfied: click in c:\\users\\nikki\\anaconda3\\lib\\site-packages (from nltk) (7.1.2)\n",
      "Requirement already satisfied: joblib in c:\\users\\nikki\\anaconda3\\lib\\site-packages (from nltk) (0.16.0)\n",
      "Requirement already satisfied: tqdm in c:\\users\\nikki\\anaconda3\\lib\\site-packages (from nltk) (4.47.0)\n",
      "Requirement already satisfied: regex in c:\\users\\nikki\\anaconda3\\lib\\site-packages (from nltk) (2020.6.8)\n",
      "\n"
     ]
    }
   ],
   "source": [
    "pip install nltk"
   ]
  },
  {
   "cell_type": "code",
   "execution_count": 7,
   "metadata": {
    "colab": {
     "base_uri": "https://localhost:8080/"
    },
    "executionInfo": {
     "elapsed": 872,
     "status": "ok",
     "timestamp": 1602035933134,
     "user": {
      "displayName": "Manolito Jr Octaviano",
      "photoUrl": "https://lh3.googleusercontent.com/a-/AOh14Ghs1xvUMckq1vKHdJp8tGrLFhPyYF-cpyKeFE6H=s64",
      "userId": "16598801986864972123"
     },
     "user_tz": -480
    },
    "id": "Pk6hB7QeAXTX",
    "outputId": "c1774496-fd03-42fd-e8b4-d60876077fdb"
   },
   "outputs": [
    {
     "name": "stderr",
     "output_type": "stream",
     "text": [
      "[nltk_data] Downloading package stopwords to\n",
      "[nltk_data]     C:\\Users\\Nikki\\AppData\\Roaming\\nltk_data...\n",
      "[nltk_data]   Package stopwords is already up-to-date!\n"
     ]
    },
    {
     "data": {
      "text/plain": [
       "True"
      ]
     },
     "execution_count": 7,
     "metadata": {},
     "output_type": "execute_result"
    }
   ],
   "source": [
    "import nltk\n",
    "nltk.download('stopwords')"
   ]
  },
  {
   "cell_type": "markdown",
   "metadata": {},
   "source": [
    "<b>Stop Words Removal</b> \n",
    "\n",
    "Stopwords are the most commonly used words. For the purpose of analyzing a text data and building Natural Languange Processing (NLP) models such as text-based gender classication model using Twitter data, these stopwords might not add much value or weight to the meaning of the text. For tasks like text classification, where the text is to be classified into different categories which is male or female, stopwords are removed or excluded from the given text so that more focus can be given to those words which focuses on and define the meaning of the text. After downloading the list of stop words, we will now import it from nltk to make use of it. We store the english stop words in the 'stop' variable and remove all stop words in the text. As you can see on the first print of the dataset there are still stop words in the text such as 'to', 'after', 'it', 'they', 'were', 'my', 'and', 'i', 'when', 'the', 'at', 'do', 'on', 'up', etc. But on the second print of the dataset, all the stop words have been removed already."
   ]
  },
  {
   "cell_type": "code",
   "execution_count": 8,
   "metadata": {
    "colab": {
     "base_uri": "https://localhost:8080/"
    },
    "executionInfo": {
     "elapsed": 1021,
     "status": "ok",
     "timestamp": 1602035935355,
     "user": {
      "displayName": "Manolito Jr Octaviano",
      "photoUrl": "https://lh3.googleusercontent.com/a-/AOh14Ghs1xvUMckq1vKHdJp8tGrLFhPyYF-cpyKeFE6H=s64",
      "userId": "16598801986864972123"
     },
     "user_tz": -480
    },
    "id": "RsA9PTGDBwRk",
    "outputId": "16d8a23e-54cd-4152-d79e-7a10001955bb"
   },
   "outputs": [
    {
     "name": "stdout",
     "output_type": "stream",
     "text": [
      "                                                text  gender\n",
      "0  [robbie, e, responds, to, critics, after, win,...    male\n",
      "1  [it, felt, like, they, were, my, friends, and,...    male\n",
      "2  [i, absolutely, adore, when, louis, starts, th...    male\n",
      "3  [hi, jordanspieth, looking, at, the, url, do, ...    male\n",
      "4  [watching, neighbours, on, sky, catching, up, ...  female\n",
      "                                                text  gender\n",
      "0  [robbie, e, responds, critics, win, eddie, edw...    male\n",
      "1  [felt, like, friends, living, story, retired, ...    male\n",
      "2  [absolutely, adore, louis, starts, songs, hits...    male\n",
      "3  [hi, jordanspieth, looking, url, use, ifttt, t...    male\n",
      "4  [watching, neighbours, sky, catching, neighbs,...  female\n"
     ]
    },
    {
     "name": "stderr",
     "output_type": "stream",
     "text": [
      "<ipython-input-8-4d3aa581e88f>:3: SettingWithCopyWarning: \n",
      "A value is trying to be set on a copy of a slice from a DataFrame.\n",
      "Try using .loc[row_indexer,col_indexer] = value instead\n",
      "\n",
      "See the caveats in the documentation: https://pandas.pydata.org/pandas-docs/stable/user_guide/indexing.html#returning-a-view-versus-a-copy\n",
      "  data_text_label['text'] = data_text_label['text'].str.lower().str.split()\n",
      "<ipython-input-8-4d3aa581e88f>:5: SettingWithCopyWarning: \n",
      "A value is trying to be set on a copy of a slice from a DataFrame.\n",
      "Try using .loc[row_indexer,col_indexer] = value instead\n",
      "\n",
      "See the caveats in the documentation: https://pandas.pydata.org/pandas-docs/stable/user_guide/indexing.html#returning-a-view-versus-a-copy\n",
      "  data_text_label['text'] = data_text_label['text'].apply(lambda x : [item for item in x if item not in stop])\n"
     ]
    }
   ],
   "source": [
    "from nltk.corpus import stopwords\n",
    "stop = set(stopwords.words('english'))\n",
    "data_text_label['text'] = data_text_label['text'].str.lower().str.split()\n",
    "print(data_text_label.head(5))\n",
    "data_text_label['text'] = data_text_label['text'].apply(lambda x : [item for item in x if item not in stop])\n",
    "print(data_text_label.head(5))"
   ]
  },
  {
   "cell_type": "markdown",
   "metadata": {},
   "source": [
    "<b>Analyzing the classes on the dependent variable</b>\n",
    "\n",
    "In this code, we are getting the number of records or occurences in the 'gender' per class. As of now, there are 5 classes in the dependent variable which are female, male, brand or typically a type of product or business manufactured by a particular company under a particular name, unknown or users that are not identified, and XXX refers to the null or missing values. "
   ]
  },
  {
   "cell_type": "code",
   "execution_count": 9,
   "metadata": {
    "colab": {
     "base_uri": "https://localhost:8080/"
    },
    "executionInfo": {
     "elapsed": 826,
     "status": "ok",
     "timestamp": 1602035966060,
     "user": {
      "displayName": "Manolito Jr Octaviano",
      "photoUrl": "https://lh3.googleusercontent.com/a-/AOh14Ghs1xvUMckq1vKHdJp8tGrLFhPyYF-cpyKeFE6H=s64",
      "userId": "16598801986864972123"
     },
     "user_tz": -480
    },
    "id": "eMaBF0-7CBBr",
    "outputId": "cfdab5e8-a372-464a-820c-9075aaad37fa"
   },
   "outputs": [
    {
     "data": {
      "text/plain": [
       "female     6573\n",
       "male       6136\n",
       "brand      4729\n",
       "unknown     877\n",
       "XXX          97\n",
       "Name: gender, dtype: int64"
      ]
     },
     "execution_count": 9,
     "metadata": {},
     "output_type": "execute_result"
    }
   ],
   "source": [
    "data_text_label['gender'].value_counts()\n",
    "#data_text_label['gender'].isnull().values.any()"
   ]
  },
  {
   "cell_type": "markdown",
   "metadata": {},
   "source": [
    "<b>Removal of insignificant classes in 'gender' and checking if there are still missing values</b>\n",
    "\n",
    "We remove the brand, unknown, and the missing or null values since we are only focused on the gender of the user which are male and female. Since gender carries rich and significant information concerning the male and female social activities. Then, we are checking if there are still any missing or null values and the output is 'False' meaning there are no missing values anymore."
   ]
  },
  {
   "cell_type": "code",
   "execution_count": 10,
   "metadata": {
    "colab": {
     "base_uri": "https://localhost:8080/"
    },
    "executionInfo": {
     "elapsed": 1029,
     "status": "ok",
     "timestamp": 1602036002738,
     "user": {
      "displayName": "Manolito Jr Octaviano",
      "photoUrl": "https://lh3.googleusercontent.com/a-/AOh14Ghs1xvUMckq1vKHdJp8tGrLFhPyYF-cpyKeFE6H=s64",
      "userId": "16598801986864972123"
     },
     "user_tz": -480
    },
    "id": "mFTcOQYhCv8Q",
    "outputId": "810db98f-9285-45ea-df0e-2584f8fb36aa"
   },
   "outputs": [
    {
     "data": {
      "text/plain": [
       "False"
      ]
     },
     "execution_count": 10,
     "metadata": {},
     "output_type": "execute_result"
    }
   ],
   "source": [
    "data_text_label = data_text_label[data_text_label['gender'] != 'brand']\n",
    "data_text_label = data_text_label[data_text_label['gender'] != 'unknown']\n",
    "data_text_label = data_text_label[data_text_label['gender'] != 'XXX']\n",
    "data_text_label['gender'].isnull().values.any()"
   ]
  },
  {
   "cell_type": "markdown",
   "metadata": {},
   "source": [
    "<b>Checking the shape of the dataset</b>\n",
    "\n",
    "After doing lots of data pre-processing techniques, we are just checking the shape of the dataset. Since we remove the 3 insignificant classes from 'gender' which are brand, unknown, and missing or null values. We remove the stopwords, duplicate records, and other insignificant values and noise in our data. The shape of our dataset is now (12709, 2) since there are 12709 records and 2 columns which are the gender and text because we are dealing with a text-based gender classifcation task."
   ]
  },
  {
   "cell_type": "code",
   "execution_count": 11,
   "metadata": {
    "colab": {
     "base_uri": "https://localhost:8080/"
    },
    "executionInfo": {
     "elapsed": 745,
     "status": "ok",
     "timestamp": 1602036030559,
     "user": {
      "displayName": "Manolito Jr Octaviano",
      "photoUrl": "https://lh3.googleusercontent.com/a-/AOh14Ghs1xvUMckq1vKHdJp8tGrLFhPyYF-cpyKeFE6H=s64",
      "userId": "16598801986864972123"
     },
     "user_tz": -480
    },
    "id": "2ksvNcpoDenA",
    "outputId": "6beff0cf-5d0d-4a2c-906d-8dfc2ad690aa"
   },
   "outputs": [
    {
     "data": {
      "text/plain": [
       "(12709, 2)"
      ]
     },
     "execution_count": 11,
     "metadata": {},
     "output_type": "execute_result"
    }
   ],
   "source": [
    "data_text_label['gender'].value_counts()\n",
    "data_text_label.shape"
   ]
  },
  {
   "cell_type": "markdown",
   "metadata": {},
   "source": [
    "<b>Converting values of 'gender' from string to int</b>\n",
    "\n",
    "In order to implement the machine learning models which are Naive Bayes and SVM from the dataset. The values of the data should be integer so that the model can process it. Since computer and machines cannot process strings but integers only. So we will convert 'Male' to 1 and 'Female' to 0 then store it in 'gender'."
   ]
  },
  {
   "cell_type": "code",
   "execution_count": 12,
   "metadata": {
    "executionInfo": {
     "elapsed": 979,
     "status": "ok",
     "timestamp": 1602036062053,
     "user": {
      "displayName": "Manolito Jr Octaviano",
      "photoUrl": "https://lh3.googleusercontent.com/a-/AOh14Ghs1xvUMckq1vKHdJp8tGrLFhPyYF-cpyKeFE6H=s64",
      "userId": "16598801986864972123"
     },
     "user_tz": -480
    },
    "id": "Az4TFxsiDgJg"
   },
   "outputs": [],
   "source": [
    "def convert_gender(v):\n",
    "  if v == 'male':\n",
    "    return 1\n",
    "  elif v == 'female':\n",
    "    return 0\n",
    "\n",
    "data_text_label['gender'] = data_text_label.apply(lambda x: convert_gender(x['gender']), axis=1)"
   ]
  },
  {
   "cell_type": "markdown",
   "metadata": {},
   "source": [
    "Now we can see that the gender column has now integer values instead of string. 0 which represents 'Female' and 1 which represents 'Male'. "
   ]
  },
  {
   "cell_type": "code",
   "execution_count": 13,
   "metadata": {
    "colab": {
     "base_uri": "https://localhost:8080/",
     "height": 195
    },
    "executionInfo": {
     "elapsed": 811,
     "status": "ok",
     "timestamp": 1602036062057,
     "user": {
      "displayName": "Manolito Jr Octaviano",
      "photoUrl": "https://lh3.googleusercontent.com/a-/AOh14Ghs1xvUMckq1vKHdJp8tGrLFhPyYF-cpyKeFE6H=s64",
      "userId": "16598801986864972123"
     },
     "user_tz": -480
    },
    "id": "yvpR4ak1FiFb",
    "outputId": "b339cb91-0692-44dc-f197-f9ab2628204e"
   },
   "outputs": [
    {
     "data": {
      "text/html": [
       "<div>\n",
       "<style scoped>\n",
       "    .dataframe tbody tr th:only-of-type {\n",
       "        vertical-align: middle;\n",
       "    }\n",
       "\n",
       "    .dataframe tbody tr th {\n",
       "        vertical-align: top;\n",
       "    }\n",
       "\n",
       "    .dataframe thead th {\n",
       "        text-align: right;\n",
       "    }\n",
       "</style>\n",
       "<table border=\"1\" class=\"dataframe\">\n",
       "  <thead>\n",
       "    <tr style=\"text-align: right;\">\n",
       "      <th></th>\n",
       "      <th>text</th>\n",
       "      <th>gender</th>\n",
       "    </tr>\n",
       "  </thead>\n",
       "  <tbody>\n",
       "    <tr>\n",
       "      <th>0</th>\n",
       "      <td>[robbie, e, responds, critics, win, eddie, edw...</td>\n",
       "      <td>1</td>\n",
       "    </tr>\n",
       "    <tr>\n",
       "      <th>1</th>\n",
       "      <td>[felt, like, friends, living, story, retired, ...</td>\n",
       "      <td>1</td>\n",
       "    </tr>\n",
       "    <tr>\n",
       "      <th>2</th>\n",
       "      <td>[absolutely, adore, louis, starts, songs, hits...</td>\n",
       "      <td>1</td>\n",
       "    </tr>\n",
       "    <tr>\n",
       "      <th>3</th>\n",
       "      <td>[hi, jordanspieth, looking, url, use, ifttt, t...</td>\n",
       "      <td>1</td>\n",
       "    </tr>\n",
       "    <tr>\n",
       "      <th>4</th>\n",
       "      <td>[watching, neighbours, sky, catching, neighbs,...</td>\n",
       "      <td>0</td>\n",
       "    </tr>\n",
       "  </tbody>\n",
       "</table>\n",
       "</div>"
      ],
      "text/plain": [
       "                                                text  gender\n",
       "0  [robbie, e, responds, critics, win, eddie, edw...       1\n",
       "1  [felt, like, friends, living, story, retired, ...       1\n",
       "2  [absolutely, adore, louis, starts, songs, hits...       1\n",
       "3  [hi, jordanspieth, looking, url, use, ifttt, t...       1\n",
       "4  [watching, neighbours, sky, catching, neighbs,...       0"
      ]
     },
     "execution_count": 13,
     "metadata": {},
     "output_type": "execute_result"
    }
   ],
   "source": [
    "data_text_label.head(5)"
   ]
  },
  {
   "cell_type": "markdown",
   "metadata": {},
   "source": [
    "This part of the code converts the list of words into space-separated strings."
   ]
  },
  {
   "cell_type": "code",
   "execution_count": 14,
   "metadata": {
    "colab": {
     "base_uri": "https://localhost:8080/",
     "height": 195
    },
    "executionInfo": {
     "elapsed": 737,
     "status": "ok",
     "timestamp": 1602036084025,
     "user": {
      "displayName": "Manolito Jr Octaviano",
      "photoUrl": "https://lh3.googleusercontent.com/a-/AOh14Ghs1xvUMckq1vKHdJp8tGrLFhPyYF-cpyKeFE6H=s64",
      "userId": "16598801986864972123"
     },
     "user_tz": -480
    },
    "id": "7aodQ8SLFy0q",
    "outputId": "1124225f-6ca2-4320-feb9-362a9411b43c"
   },
   "outputs": [
    {
     "data": {
      "text/html": [
       "<div>\n",
       "<style scoped>\n",
       "    .dataframe tbody tr th:only-of-type {\n",
       "        vertical-align: middle;\n",
       "    }\n",
       "\n",
       "    .dataframe tbody tr th {\n",
       "        vertical-align: top;\n",
       "    }\n",
       "\n",
       "    .dataframe thead th {\n",
       "        text-align: right;\n",
       "    }\n",
       "</style>\n",
       "<table border=\"1\" class=\"dataframe\">\n",
       "  <thead>\n",
       "    <tr style=\"text-align: right;\">\n",
       "      <th></th>\n",
       "      <th>text</th>\n",
       "      <th>gender</th>\n",
       "    </tr>\n",
       "  </thead>\n",
       "  <tbody>\n",
       "    <tr>\n",
       "      <th>0</th>\n",
       "      <td>robbie e responds critics win eddie edwards wo...</td>\n",
       "      <td>1</td>\n",
       "    </tr>\n",
       "    <tr>\n",
       "      <th>1</th>\n",
       "      <td>felt like friends living story retired ian</td>\n",
       "      <td>1</td>\n",
       "    </tr>\n",
       "    <tr>\n",
       "      <th>2</th>\n",
       "      <td>absolutely adore louis starts songs hits hard ...</td>\n",
       "      <td>1</td>\n",
       "    </tr>\n",
       "    <tr>\n",
       "      <th>3</th>\n",
       "      <td>hi jordanspieth looking url use ifttt typicall...</td>\n",
       "      <td>1</td>\n",
       "    </tr>\n",
       "    <tr>\n",
       "      <th>4</th>\n",
       "      <td>watching neighbours sky catching neighbs xxx xxx</td>\n",
       "      <td>0</td>\n",
       "    </tr>\n",
       "  </tbody>\n",
       "</table>\n",
       "</div>"
      ],
      "text/plain": [
       "                                                text  gender\n",
       "0  robbie e responds critics win eddie edwards wo...       1\n",
       "1         felt like friends living story retired ian       1\n",
       "2  absolutely adore louis starts songs hits hard ...       1\n",
       "3  hi jordanspieth looking url use ifttt typicall...       1\n",
       "4   watching neighbours sky catching neighbs xxx xxx       0"
      ]
     },
     "execution_count": 14,
     "metadata": {},
     "output_type": "execute_result"
    }
   ],
   "source": [
    "# This converts the list of words into space-separated strings\n",
    "data_text_label['text'] = data_text_label['text'].apply(lambda x: ' '.join(x))\n",
    "data_text_label.head(5)"
   ]
  },
  {
   "cell_type": "markdown",
   "metadata": {},
   "source": [
    "### 3. Application of CountVectorizer and TfidfVectorizer"
   ]
  },
  {
   "cell_type": "markdown",
   "metadata": {},
   "source": [
    "<b>Bag of Words (BOW)</b> is a representation of text that describes the occurrence of words within a document or text. It involves two things: \n",
    "1. A vocabulary of known words\n",
    "2. A measure of the presence of known words.\n",
    "\n",
    "Now that the data is pre-processed and cleaned already. We can now head on to the next step which is applying feature extraction by using CountVectorizer and TfidfTransformer.\n",
    "1. <b>CountVectorizer</b> - counts the number of times a word appears in the text. It tokenize a collection of text and build a vocabulary of known words, but also to encode new documents using that vocabulary.\n",
    "2. <b>TFIDFVectorizer</b> - is the overall document weightage of a word. It helps us in dealing with most frequent words. Using it we can penalize them. TfidfVectorizer weights the word counts by a measure of how often they appear in the documents. Tfidf stands for Tf (Term Frequency) and Idf (Inverse Document Frequency) which means:\n",
    "\n",
    "    1. <b>Term Frequency</b> - summarizes how often a given word appears within a document.\n",
    "    2. <b>Inverse Document Frequency</b> - downscales words that appear a lot across documents."
   ]
  },
  {
   "cell_type": "code",
   "execution_count": 15,
   "metadata": {
    "executionInfo": {
     "elapsed": 906,
     "status": "ok",
     "timestamp": 1602036825378,
     "user": {
      "displayName": "Manolito Jr Octaviano",
      "photoUrl": "https://lh3.googleusercontent.com/a-/AOh14Ghs1xvUMckq1vKHdJp8tGrLFhPyYF-cpyKeFE6H=s64",
      "userId": "16598801986864972123"
     },
     "user_tz": -480
    },
    "id": "6d9Myl1NGd_7"
   },
   "outputs": [],
   "source": [
    "# https://scikit-learn.org/stable/modules/generated/sklearn.feature_extraction.text.TfidfTransformer.html\n",
    "\n",
    "# https://stackoverflow.com/questions/27488446/how-do-i-get-word-frequency-in-a-corpus-using-scikit-learn-countvectorizer\n",
    "from sklearn.feature_extraction.text import CountVectorizer\n",
    "\n",
    "count_vect = CountVectorizer()\n",
    "counts = count_vect.fit_transform(data_text_label['text'])\n",
    "#print(count_vect.get_feature_names())\n",
    "#print(len(count_vect.get_feature_names()))\n",
    "\n",
    "\n",
    "from sklearn.feature_extraction.text import TfidfTransformer\n",
    "\n",
    "transformer = TfidfTransformer().fit(counts)\n",
    "counts = transformer.transform(counts)    \n",
    "#print(counts)"
   ]
  },
  {
   "cell_type": "markdown",
   "metadata": {},
   "source": [
    "# Raw Dataset Accuracy"
   ]
  },
  {
   "cell_type": "markdown",
   "metadata": {},
   "source": [
    "### 4. Implementation of Gender Classification using SVM and Naive Bayes"
   ]
  },
  {
   "cell_type": "markdown",
   "metadata": {},
   "source": [
    "In this gender classification task, we will be implementing two machine learning algorithms which are:\n",
    "1. <b>SVM (Support Vector Machine)</b> - is a supervised machine learning algorithm used for classification and regression problems. However, SVM is used most likely in classification problems. SVM works by plotting each data item as a point in n-dimensional space (where n is the number of features or independent variables that the dataset has) with the value of a particular coordinate which is the value of each feature. Then, perform classification by finding the hyper-plane that differentiates the two classes very well.\n",
    "2. <b>Naive Bayes</b> - is a powerful probabilistic machine learning algorithm that is used for classification. Naive Bayes works by using the Bayes’ Theorem which is predicting the probabilities for each class such as the probability of that given record or data point belongs to a particular class. The class or category with the highest probability is considered as the most likely class. This study will specifically implement Multinomial Naive Bayes, the only difference of it with Naive Bayes is that it is a multinomial distribution which requires integer feature counts, rather than some other distribution. This works well and is suitable for classification with discrete features, such as word counts in text which is one of the features."
   ]
  },
  {
   "cell_type": "markdown",
   "metadata": {},
   "source": [
    "<b>Splitting the dataset into training data and testing data</b>\n",
    "\n",
    "First step is of course we need to split the dataset into training data and testing data. In this case we set the test size as 25% making the training size 75% and adjusted the 'random_state' to 69 since it is the optimal value. \n",
    "1. <b>Training data</b> - is used to fit the machine learning model.\n",
    "2. <b>Testing data</b> - is used to evaluate the fit machine learning model."
   ]
  },
  {
   "cell_type": "code",
   "execution_count": 49,
   "metadata": {
    "colab": {
     "base_uri": "https://localhost:8080/"
    },
    "executionInfo": {
     "elapsed": 706,
     "status": "ok",
     "timestamp": 1602037117847,
     "user": {
      "displayName": "Manolito Jr Octaviano",
      "photoUrl": "https://lh3.googleusercontent.com/a-/AOh14Ghs1xvUMckq1vKHdJp8tGrLFhPyYF-cpyKeFE6H=s64",
      "userId": "16598801986864972123"
     },
     "user_tz": -480
    },
    "id": "cFBlanlXG5Wc",
    "outputId": "5898ede7-f298-4646-da56-2d6d97e8c9c7"
   },
   "outputs": [
    {
     "name": "stdout",
     "output_type": "stream",
     "text": [
      "(9531, 24461)\n",
      "(3178, 24461)\n",
      "(9531,)\n",
      "(3178,)\n",
      "Testing Data\n",
      "Male  Count:  1525\n",
      "Female Count:  1653\n",
      "Training Data\n",
      "Male  Count:  4611\n",
      "Female Count:  4920\n"
     ]
    }
   ],
   "source": [
    "from sklearn.model_selection import train_test_split\n",
    "\n",
    "X_train, X_test, y_train, y_test = train_test_split(counts, data_text_label['gender'], test_size=0.25, random_state=69)\n",
    "\n",
    "print(X_train.shape)\n",
    "print(X_test.shape)\n",
    "print(y_train.shape)\n",
    "print(y_test.shape)\n",
    "\n",
    "male_count = 0\n",
    "female_count = 0\n",
    "\n",
    "for i in y_test:\n",
    "    if(i==1):\n",
    "        male_count+=1\n",
    "    else:\n",
    "        female_count+=1\n",
    "\n",
    "        \n",
    "        \n",
    "print(\"Testing Data\")\n",
    "print(\"Male  Count: \", male_count)\n",
    "print(\"Female Count: \", female_count)\n",
    "\n",
    "male_count = 0\n",
    "female_count = 0\n",
    "\n",
    "for i in y_train:\n",
    "    if(i==1):\n",
    "        male_count+=1\n",
    "    else:\n",
    "        female_count+=1\n",
    "\n",
    "        \n",
    "        \n",
    "print(\"Training Data\")\n",
    "print(\"Male  Count: \", male_count)\n",
    "print(\"Female Count: \", female_count)"
   ]
  },
  {
   "cell_type": "markdown",
   "metadata": {},
   "source": [
    "After splitting the dataset into training data and testing data, we will now proceed in training the training data and fit it in the Support Vector Machine (SVM) model specifically in the Support Vector Classification (SVC). The parameters used in SVM are the following:\n",
    "1. <b>C</b> - is the regularization parameter. The strength of the regularization is inversely proportional to C. The value of C is set to its default value which is 1.0 since it is the optimal value in this case. \n",
    "2. <b>kernel</b> - is the kernel type to be used in the algorithm. The kernel that we used is 'linear' since the data can be linearly separable.\n",
    "\n",
    "After fitting the training data into the SVM model, we will now proceed to prediction of outcomes using the testing data. Then, we will get the obtained accuracy score from the SVM model that we created which is 59%."
   ]
  },
  {
   "cell_type": "code",
   "execution_count": 17,
   "metadata": {},
   "outputs": [
    {
     "name": "stdout",
     "output_type": "stream",
     "text": [
      "SVM Accuracy Score ->  59.093769666456886\n",
      "Accuracy: 0.590938\n",
      "Precision: 0.577533\n",
      "Recall: 0.549508\n",
      "F1 score: 0.563172\n"
     ]
    }
   ],
   "source": [
    "from sklearn import svm\n",
    "from sklearn.metrics import accuracy_score\n",
    "from sklearn.metrics import classification_report\n",
    "\n",
    "SVM = svm.SVC(C=1.0, kernel='linear')\n",
    "SVM.fit(X_train, y_train)\n",
    "predictions_SVM = SVM.predict(X_test)\n",
    "\n",
    "\n",
    "# Use accuracy_score function to get the accuracy\n",
    "print(\"SVM Accuracy Score -> \", accuracy_score(predictions_SVM, y_test)*100)\n",
    "from sklearn.metrics import precision_score\n",
    "from sklearn.metrics import recall_score\n",
    "from sklearn.metrics import f1_score\n",
    "# accuracy: (tp + tn) / (p + n)\n",
    "accuracy = accuracy_score(y_test, predictions_SVM)\n",
    "print('Accuracy: %f' % accuracy)\n",
    "# precision tp / (tp + fp)\n",
    "precision = precision_score(y_test, predictions_SVM)\n",
    "print('Precision: %f' % precision)\n",
    "# recall: tp / (tp + fn)\n",
    "recall = recall_score(y_test, predictions_SVM)\n",
    "print('Recall: %f' % recall)\n",
    "# f1: 2 tp / (2 tp + fp + fn)\n",
    "f1 = f1_score(y_test, predictions_SVM)\n",
    "print('F1 score: %f' % f1)\n"
   ]
  },
  {
   "cell_type": "code",
   "execution_count": 18,
   "metadata": {},
   "outputs": [
    {
     "data": {
      "text/html": [
       "<div>\n",
       "<style scoped>\n",
       "    .dataframe tbody tr th:only-of-type {\n",
       "        vertical-align: middle;\n",
       "    }\n",
       "\n",
       "    .dataframe tbody tr th {\n",
       "        vertical-align: top;\n",
       "    }\n",
       "\n",
       "    .dataframe thead th {\n",
       "        text-align: right;\n",
       "    }\n",
       "</style>\n",
       "<table border=\"1\" class=\"dataframe\">\n",
       "  <thead>\n",
       "    <tr style=\"text-align: right;\">\n",
       "      <th></th>\n",
       "      <th>0</th>\n",
       "      <th>1</th>\n",
       "    </tr>\n",
       "  </thead>\n",
       "  <tbody>\n",
       "    <tr>\n",
       "      <th>0</th>\n",
       "      <td>1040</td>\n",
       "      <td>613</td>\n",
       "    </tr>\n",
       "    <tr>\n",
       "      <th>1</th>\n",
       "      <td>687</td>\n",
       "      <td>838</td>\n",
       "    </tr>\n",
       "  </tbody>\n",
       "</table>\n",
       "</div>"
      ],
      "text/plain": [
       "      0    1\n",
       "0  1040  613\n",
       "1   687  838"
      ]
     },
     "execution_count": 18,
     "metadata": {},
     "output_type": "execute_result"
    }
   ],
   "source": [
    "from sklearn.metrics import confusion_matrix\n",
    "labels = np.unique(y_test)\n",
    "cmtx =  confusion_matrix(y_test, predictions_SVM, labels=labels)\n",
    "\n",
    "pd.DataFrame(cmtx, index=labels, columns=labels)"
   ]
  },
  {
   "cell_type": "markdown",
   "metadata": {},
   "source": [
    "After implementing the gender classification task using Support Vector Machine (SVM), we will now implement it using Naive Bayes specifically Multinomial Naive Bayes since it works well on discrete features, such as word counts in text. The parameter used in Multinomial Naive Bayes is:\n",
    "1. <b>alpha</b> - is the smoothing parameter (0 for no smoothing). In this case, we used the default value of '1.0' since it is the optimal value. \n",
    "\n",
    "We will now create the Multinomial Naive Bayes model by training the training data and fit it in the Multinomial Naive Bayes model. "
   ]
  },
  {
   "cell_type": "code",
   "execution_count": 19,
   "metadata": {},
   "outputs": [],
   "source": [
    "# https://scikit-learn.org/stable/modules/naive_bayes.html\n",
    "from sklearn.naive_bayes import MultinomialNB\n",
    "\n",
    "model = MultinomialNB(alpha=1.0).fit(X_train, y_train)\n"
   ]
  },
  {
   "cell_type": "markdown",
   "metadata": {},
   "source": [
    "After fitting the training data into the Multinomial Naive Bayes model, we will now proceed to prediction of outcomes using the testing data. Then, we will get the obtained accuracy score from the Multinomial Naive Bayes model that we created which is 61%."
   ]
  },
  {
   "cell_type": "code",
   "execution_count": 20,
   "metadata": {
    "colab": {
     "base_uri": "https://localhost:8080/"
    },
    "executionInfo": {
     "elapsed": 857,
     "status": "ok",
     "timestamp": 1602038011259,
     "user": {
      "displayName": "Manolito Jr Octaviano",
      "photoUrl": "https://lh3.googleusercontent.com/a-/AOh14Ghs1xvUMckq1vKHdJp8tGrLFhPyYF-cpyKeFE6H=s64",
      "userId": "16598801986864972123"
     },
     "user_tz": -480
    },
    "id": "0qUAWGepHlQf",
    "outputId": "4407a190-50cb-433f-afd4-5ccc8da720cb"
   },
   "outputs": [
    {
     "name": "stdout",
     "output_type": "stream",
     "text": [
      "Naive Bayes Accuracy Score ->  0.6085588420390182\n",
      "Accuracy: 0.608559\n",
      "Precision: 0.626920\n",
      "Recall: 0.455082\n",
      "F1 score: 0.527356\n"
     ]
    }
   ],
   "source": [
    "import numpy as np\n",
    "\n",
    "predicted = model.predict(X_test)\n",
    "\n",
    "print(\"Naive Bayes Accuracy Score -> \", np.mean(predicted == y_test))\n",
    "from sklearn.metrics import precision_score\n",
    "from sklearn.metrics import recall_score\n",
    "from sklearn.metrics import f1_score\n",
    "# accuracy: (tp + tn) / (p + n)\n",
    "accuracy = accuracy_score(y_test, predicted)\n",
    "print('Accuracy: %f' % accuracy)\n",
    "# precision tp / (tp + fp)\n",
    "precision = precision_score(y_test, predicted)\n",
    "print('Precision: %f' % precision)\n",
    "# recall: tp / (tp + fn)\n",
    "recall = recall_score(y_test, predicted)\n",
    "print('Recall: %f' % recall)\n",
    "# f1: 2 tp / (2 tp + fp + fn)\n",
    "f1 = f1_score(y_test, predicted)\n",
    "print('F1 score: %f' % f1)\n"
   ]
  },
  {
   "cell_type": "code",
   "execution_count": 21,
   "metadata": {},
   "outputs": [
    {
     "data": {
      "text/html": [
       "<div>\n",
       "<style scoped>\n",
       "    .dataframe tbody tr th:only-of-type {\n",
       "        vertical-align: middle;\n",
       "    }\n",
       "\n",
       "    .dataframe tbody tr th {\n",
       "        vertical-align: top;\n",
       "    }\n",
       "\n",
       "    .dataframe thead th {\n",
       "        text-align: right;\n",
       "    }\n",
       "</style>\n",
       "<table border=\"1\" class=\"dataframe\">\n",
       "  <thead>\n",
       "    <tr style=\"text-align: right;\">\n",
       "      <th></th>\n",
       "      <th>0</th>\n",
       "      <th>1</th>\n",
       "    </tr>\n",
       "  </thead>\n",
       "  <tbody>\n",
       "    <tr>\n",
       "      <th>0</th>\n",
       "      <td>1240</td>\n",
       "      <td>413</td>\n",
       "    </tr>\n",
       "    <tr>\n",
       "      <th>1</th>\n",
       "      <td>831</td>\n",
       "      <td>694</td>\n",
       "    </tr>\n",
       "  </tbody>\n",
       "</table>\n",
       "</div>"
      ],
      "text/plain": [
       "      0    1\n",
       "0  1240  413\n",
       "1   831  694"
      ]
     },
     "execution_count": 21,
     "metadata": {},
     "output_type": "execute_result"
    }
   ],
   "source": [
    "from sklearn.metrics import confusion_matrix\n",
    "labels = np.unique(y_test)\n",
    "cmtx =  confusion_matrix(y_test, predicted, labels=labels)\n",
    "\n",
    "pd.DataFrame(cmtx, index=labels, columns=labels)"
   ]
  },
  {
   "cell_type": "code",
   "execution_count": 22,
   "metadata": {},
   "outputs": [
    {
     "data": {
      "image/png": "[encoded data removed]",
      "text/plain": [
       "<Figure size 432x288 with 1 Axes>"
      ]
     },
     "metadata": {
      "needs_background": "light"
     },
     "output_type": "display_data"
    }
   ],
   "source": [
    "import matplotlib.pyplot as plt\n",
    "\n",
    "x_units = ['SVM', 'Naive Bayes']\n",
    "\n",
    "y_units = [f1_score(predictions_SVM, y_test)*100, f1_score(predicted, y_test)*100]\n",
    "\n",
    "model_label = ['SVM', 'Naive Bayes']\n",
    "\n",
    "plt.bar(x_units, y_units, tick_label=model_label,\n",
    "        width=0.8, color=['red', 'blue'])\n",
    "\n",
    "plt.xlabel('Machine Learning Algorithm')\n",
    "plt.ylabel('F1 Score')\n",
    "plt.title('SVM Vs. Naive Bayes')\n",
    "\n",
    " \n",
    "\n",
    "plt.show()"
   ]
  },
  {
   "cell_type": "markdown",
   "metadata": {},
   "source": [
    "Then in this part of the code, we are just printing the confusion matrix to evaluate the accuracy of a classification. "
   ]
  },
  {
   "cell_type": "markdown",
   "metadata": {},
   "source": [
    "# Parameter Tuning"
   ]
  },
  {
   "cell_type": "code",
   "execution_count": 23,
   "metadata": {},
   "outputs": [
    {
     "name": "stdout",
     "output_type": "stream",
     "text": [
      "SVM Accuracy Score ->  57.36312146003776\n",
      "Accuracy: 0.573631\n",
      "Precision: 0.555995\n",
      "Recall: 0.553443\n",
      "F1 score: 0.554716\n"
     ]
    }
   ],
   "source": [
    "from sklearn import svm\n",
    "from sklearn.metrics import accuracy_score\n",
    "from sklearn.metrics import classification_report\n",
    "\n",
    "SVM = svm.SVC(C=10.0, kernel='linear')\n",
    "SVM.fit(X_train, y_train)\n",
    "predictions_SVM = SVM.predict(X_test)\n",
    "\n",
    "\n",
    "# Use accuracy_score function to get the accuracy\n",
    "print(\"SVM Accuracy Score -> \", accuracy_score(predictions_SVM, y_test)*100)\n",
    "from sklearn.metrics import precision_score\n",
    "from sklearn.metrics import recall_score\n",
    "from sklearn.metrics import f1_score\n",
    "# accuracy: (tp + tn) / (p + n)\n",
    "accuracy = accuracy_score(y_test, predictions_SVM)\n",
    "print('Accuracy: %f' % accuracy)\n",
    "# precision tp / (tp + fp)\n",
    "precision = precision_score(y_test, predictions_SVM)\n",
    "print('Precision: %f' % precision)\n",
    "# recall: tp / (tp + fn)\n",
    "recall = recall_score(y_test, predictions_SVM)\n",
    "print('Recall: %f' % recall)\n",
    "# f1: 2 tp / (2 tp + fp + fn)\n",
    "f1 = f1_score(y_test, predictions_SVM)\n",
    "print('F1 score: %f' % f1)\n"
   ]
  },
  {
   "cell_type": "code",
   "execution_count": 24,
   "metadata": {},
   "outputs": [
    {
     "name": "stdout",
     "output_type": "stream",
     "text": [
      "Naive Bayes Accuracy Score ->  0.5707992448080553\n",
      "Accuracy: 0.570799\n",
      "Precision: 0.669474\n",
      "Recall: 0.208525\n",
      "F1 score: 0.318000\n"
     ]
    }
   ],
   "source": [
    "# https://scikit-learn.org/stable/modules/naive_bayes.html\n",
    "from sklearn.naive_bayes import MultinomialNB\n",
    "\n",
    "model = MultinomialNB(alpha=10.0).fit(X_train, y_train)\n",
    "import numpy as np\n",
    "\n",
    "predicted = model.predict(X_test)\n",
    "\n",
    "print(\"Naive Bayes Accuracy Score -> \", np.mean(predicted == y_test))\n",
    "from sklearn.metrics import precision_score\n",
    "from sklearn.metrics import recall_score\n",
    "from sklearn.metrics import f1_score\n",
    "# accuracy: (tp + tn) / (p + n)\n",
    "accuracy = accuracy_score(y_test, predicted)\n",
    "print('Accuracy: %f' % accuracy)\n",
    "# precision tp / (tp + fp)\n",
    "precision = precision_score(y_test, predicted)\n",
    "print('Precision: %f' % precision)\n",
    "# recall: tp / (tp + fn)\n",
    "recall = recall_score(y_test, predicted)\n",
    "print('Recall: %f' % recall)\n",
    "# f1: 2 tp / (2 tp + fp + fn)\n",
    "f1 = f1_score(y_test, predicted)\n",
    "print('F1 score: %f' % f1)\n"
   ]
  },
  {
   "cell_type": "markdown",
   "metadata": {},
   "source": [
    "### Testing the prediction of the model based on an input or sample tweet "
   ]
  },
  {
   "cell_type": "markdown",
   "metadata": {},
   "source": [
    "<b>SVM Gender Predictor</b>\n",
    "\n",
    "This method is created to test the prediction of the gender classication model using Support Vector Machine (SVM)."
   ]
  },
  {
   "cell_type": "code",
   "execution_count": 25,
   "metadata": {},
   "outputs": [],
   "source": [
    "def SVMGenderPredictor(a):\n",
    "    sample_tweet = [a]\n",
    "    vector = count_vect.transform(sample_tweet).toarray()\n",
    "    if SVM.predict(vector) == 0:\n",
    "        print(\"Female\")\n",
    "    else:\n",
    "        print(\"Male\")"
   ]
  },
  {
   "cell_type": "markdown",
   "metadata": {},
   "source": [
    "In this case, we are testing the prediction of the gender classification model from an input of sample tweet using the Support Vector Machine (SVM) algorithm. The model predicted that if the user tweeted \"Lebron James is the MVP of Lakers\", it is predicted to Male. On the other hand, if the user tweeted \"I love shopping\", it is predicted to Female."
   ]
  },
  {
   "cell_type": "code",
   "execution_count": 26,
   "metadata": {},
   "outputs": [
    {
     "name": "stdout",
     "output_type": "stream",
     "text": [
      "Male\n",
      "Female\n"
     ]
    }
   ],
   "source": [
    "SVMGenderPredictor(\"Lebron James is the MVP of Lakers\")\n",
    "SVMGenderPredictor(\"I love shopping\")"
   ]
  },
  {
   "cell_type": "markdown",
   "metadata": {},
   "source": [
    "<b>Multinomial Naive Bayes Gender Predictor</b>\n",
    "\n",
    "This method is created to test the prediction of the gender classication model using Multinomial Naive Bayes."
   ]
  },
  {
   "cell_type": "code",
   "execution_count": 27,
   "metadata": {},
   "outputs": [],
   "source": [
    "def NBGenderPredictor(a):\n",
    "    sample_tweet = [a]\n",
    "    vector = count_vect.transform(sample_tweet).toarray()\n",
    "    if model.predict(vector) == 0:\n",
    "        print(\"Female\")\n",
    "    else:\n",
    "        print(\"Male\")"
   ]
  },
  {
   "cell_type": "markdown",
   "metadata": {},
   "source": [
    "In this case, we are testing the prediction of the gender classification model from an input of sample tweet using the Mutinomial Naive Bayes algorithm. The model predicted that if the user tweeted \"We will watch football game tonight\", it is predicted to Male. On the other hand, if the user tweeted \"I love one direction\", it is predicted to Female."
   ]
  },
  {
   "cell_type": "code",
   "execution_count": 28,
   "metadata": {},
   "outputs": [
    {
     "name": "stdout",
     "output_type": "stream",
     "text": [
      "Male\n",
      "Female\n"
     ]
    }
   ],
   "source": [
    "NBGenderPredictor(\"We will watch football game tonight\")\n",
    "NBGenderPredictor(\"I love one direction\")"
   ]
  },
  {
   "cell_type": "markdown",
   "metadata": {},
   "source": [
    "### 5. Application of Pre-Processing Techniques "
   ]
  },
  {
   "cell_type": "markdown",
   "metadata": {},
   "source": [
    "More pre-processing techniques are applied for experimentation to analyze which will increase the accuracy and performance of each model since many machine learning algorithms perform better when features are on a similar scale and near to normally distributed. The pre-processing techniques performed in the two machine learning models which are Multinomial Naive Bayes and Support Vector Machine (SVM) are:\n",
    "1. <b>StandardScaler</b> - standardize features by removing the mean and scaling to unit variance\n",
    "2. <b>MaxAbsScaler</b> - scale each feature by its maximum absolute value.\n",
    "3. <b>Normalizer</b> - normalize samples individually to unit norm."
   ]
  },
  {
   "cell_type": "markdown",
   "metadata": {},
   "source": [
    "# Standard Scaler"
   ]
  },
  {
   "cell_type": "code",
   "execution_count": 29,
   "metadata": {
    "id": "8XcRWOap6V_D"
   },
   "outputs": [
    {
     "name": "stdout",
     "output_type": "stream",
     "text": [
      "SVM Accuracy Score ->  54.53115166771555\n",
      "Accuracy: 0.545312\n",
      "Precision: 0.531646\n",
      "Recall: 0.440656\n",
      "F1 score: 0.481893\n"
     ]
    }
   ],
   "source": [
    "from sklearn.model_selection import train_test_split\n",
    "\n",
    "X_train, X_test, y_train, y_test = train_test_split(counts, data_text_label['gender'], test_size=0.25, random_state=69)\n",
    "\n",
    "from sklearn.preprocessing import StandardScaler\n",
    "scaler = StandardScaler(with_mean=False)\n",
    "scaler.fit(X_train) \n",
    "X_train = scaler.transform(X_train)\n",
    "X_test = scaler.transform(X_test)\n",
    "#print(X_train.shape)\n",
    "#print(X_test.shape)\n",
    "#print(y_train.shape)\n",
    "#print(y_test.shape)\n",
    "\n",
    "from sklearn import svm\n",
    "from sklearn.metrics import accuracy_score\n",
    "SVM = svm.SVC(C=1.0, kernel='linear', degree=3, gamma=\"auto\", class_weight = None)\n",
    "SVM.fit(X_train, y_train)\n",
    "predictions_SVM = SVM.predict(X_test)\n",
    "\n",
    "\n",
    "\n",
    "# Use accuracy_score function to get the accuracy\n",
    "print(\"SVM Accuracy Score -> \", accuracy_score(predictions_SVM, y_test)*100)\n",
    "from sklearn.metrics import precision_score\n",
    "from sklearn.metrics import recall_score\n",
    "from sklearn.metrics import f1_score\n",
    "# accuracy: (tp + tn) / (p + n)\n",
    "accuracy = accuracy_score(y_test, predictions_SVM)\n",
    "print('Accuracy: %f' % accuracy)\n",
    "# precision tp / (tp + fp)\n",
    "precision = precision_score(y_test, predictions_SVM)\n",
    "print('Precision: %f' % precision)\n",
    "# recall: tp / (tp + fn)\n",
    "recall = recall_score(y_test, predictions_SVM)\n",
    "print('Recall: %f' % recall)\n",
    "# f1: 2 tp / (2 tp + fp + fn)\n",
    "f1 = f1_score(y_test, predictions_SVM)\n",
    "print('F1 score: %f' % f1)\n"
   ]
  },
  {
   "cell_type": "code",
   "execution_count": 30,
   "metadata": {},
   "outputs": [
    {
     "data": {
      "text/html": [
       "<div>\n",
       "<style scoped>\n",
       "    .dataframe tbody tr th:only-of-type {\n",
       "        vertical-align: middle;\n",
       "    }\n",
       "\n",
       "    .dataframe tbody tr th {\n",
       "        vertical-align: top;\n",
       "    }\n",
       "\n",
       "    .dataframe thead th {\n",
       "        text-align: right;\n",
       "    }\n",
       "</style>\n",
       "<table border=\"1\" class=\"dataframe\">\n",
       "  <thead>\n",
       "    <tr style=\"text-align: right;\">\n",
       "      <th></th>\n",
       "      <th>0</th>\n",
       "      <th>1</th>\n",
       "    </tr>\n",
       "  </thead>\n",
       "  <tbody>\n",
       "    <tr>\n",
       "      <th>0</th>\n",
       "      <td>1061</td>\n",
       "      <td>592</td>\n",
       "    </tr>\n",
       "    <tr>\n",
       "      <th>1</th>\n",
       "      <td>853</td>\n",
       "      <td>672</td>\n",
       "    </tr>\n",
       "  </tbody>\n",
       "</table>\n",
       "</div>"
      ],
      "text/plain": [
       "      0    1\n",
       "0  1061  592\n",
       "1   853  672"
      ]
     },
     "execution_count": 30,
     "metadata": {},
     "output_type": "execute_result"
    }
   ],
   "source": [
    "from sklearn.metrics import confusion_matrix\n",
    "labels = np.unique(y_test)\n",
    "cmtx =  confusion_matrix(y_test, predictions_SVM, labels=labels)\n",
    "\n",
    "pd.DataFrame(cmtx, index=labels, columns=labels)"
   ]
  },
  {
   "cell_type": "code",
   "execution_count": 31,
   "metadata": {},
   "outputs": [
    {
     "name": "stdout",
     "output_type": "stream",
     "text": [
      "Naive Bayes Accuracy Score ->  57.55191944619258\n",
      "Accuracy: 0.575519\n",
      "Precision: 0.562323\n",
      "Recall: 0.520656\n",
      "F1 score: 0.540688\n"
     ]
    }
   ],
   "source": [
    "# https://scikit-learn.org/stable/modules/naive_bayes.html\n",
    "from sklearn.naive_bayes import MultinomialNB\n",
    "\n",
    "model = MultinomialNB(alpha=1.0).fit(X_train, y_train)\n",
    "from sklearn.model_selection import train_test_split\n",
    "\n",
    "X_train, X_test, y_train, y_test = train_test_split(counts, data_text_label['gender'], test_size=0.25, random_state=69)\n",
    "\n",
    "from sklearn.preprocessing import StandardScaler\n",
    "scaler = StandardScaler(with_mean=False)\n",
    "scaler.fit(X_train) \n",
    "X_train = scaler.transform(X_train)\n",
    "X_test = scaler.transform(X_test)\n",
    "#print(X_train.shape)\n",
    "#print(X_test.shape)\n",
    "#print(y_train.shape)\n",
    "#print(y_test.shape)\n",
    "\n",
    "import numpy as np\n",
    "\n",
    "predicted = model.predict(X_test)\n",
    "\n",
    "\n",
    "\n",
    "print(\"Naive Bayes Accuracy Score -> \", np.mean(predicted == y_test)*100)\n",
    "from sklearn.metrics import precision_score\n",
    "from sklearn.metrics import recall_score\n",
    "from sklearn.metrics import f1_score\n",
    "# accuracy: (tp + tn) / (p + n)\n",
    "accuracy = accuracy_score(y_test, predicted)\n",
    "print('Accuracy: %f' % accuracy)\n",
    "# precision tp / (tp + fp)\n",
    "precision = precision_score(y_test, predicted)\n",
    "print('Precision: %f' % precision)\n",
    "# recall: tp / (tp + fn)\n",
    "recall = recall_score(y_test, predicted)\n",
    "print('Recall: %f' % recall)\n",
    "# f1: 2 tp / (2 tp + fp + fn)\n",
    "f1 = f1_score(y_test, predicted)\n",
    "print('F1 score: %f' % f1)\n"
   ]
  },
  {
   "cell_type": "code",
   "execution_count": 32,
   "metadata": {},
   "outputs": [
    {
     "data": {
      "text/html": [
       "<div>\n",
       "<style scoped>\n",
       "    .dataframe tbody tr th:only-of-type {\n",
       "        vertical-align: middle;\n",
       "    }\n",
       "\n",
       "    .dataframe tbody tr th {\n",
       "        vertical-align: top;\n",
       "    }\n",
       "\n",
       "    .dataframe thead th {\n",
       "        text-align: right;\n",
       "    }\n",
       "</style>\n",
       "<table border=\"1\" class=\"dataframe\">\n",
       "  <thead>\n",
       "    <tr style=\"text-align: right;\">\n",
       "      <th></th>\n",
       "      <th>0</th>\n",
       "      <th>1</th>\n",
       "    </tr>\n",
       "  </thead>\n",
       "  <tbody>\n",
       "    <tr>\n",
       "      <th>0</th>\n",
       "      <td>1061</td>\n",
       "      <td>592</td>\n",
       "    </tr>\n",
       "    <tr>\n",
       "      <th>1</th>\n",
       "      <td>853</td>\n",
       "      <td>672</td>\n",
       "    </tr>\n",
       "  </tbody>\n",
       "</table>\n",
       "</div>"
      ],
      "text/plain": [
       "      0    1\n",
       "0  1061  592\n",
       "1   853  672"
      ]
     },
     "execution_count": 32,
     "metadata": {},
     "output_type": "execute_result"
    }
   ],
   "source": [
    "from sklearn.metrics import confusion_matrix\n",
    "labels = np.unique(y_test)\n",
    "cmtx =  confusion_matrix(y_test, predictions_SVM, labels=labels)\n",
    "\n",
    "pd.DataFrame(cmtx, index=labels, columns=labels)"
   ]
  },
  {
   "cell_type": "code",
   "execution_count": 33,
   "metadata": {},
   "outputs": [
    {
     "data": {
      "image/png": "[encoded data removed]",
      "text/plain": [
       "<Figure size 432x288 with 1 Axes>"
      ]
     },
     "metadata": {
      "needs_background": "light"
     },
     "output_type": "display_data"
    }
   ],
   "source": [
    "import matplotlib.pyplot as plt\n",
    "\n",
    "x_units = ['SVM', 'Naive Bayes']\n",
    "\n",
    "y_units = [f1_score(predictions_SVM, y_test)*100, f1_score(predicted, y_test)*100]\n",
    "\n",
    "model_label = ['SVM', 'Naive Bayes']\n",
    "\n",
    "plt.bar(x_units, y_units, tick_label=model_label,\n",
    "        width=0.8, color=['red', 'blue'])\n",
    "\n",
    "plt.xlabel('Machine Learning Algorithm')\n",
    "plt.ylabel('F1 Score')\n",
    "plt.title('SVM Vs. Naive Bayes')\n",
    "\n",
    " \n",
    "\n",
    "plt.show()"
   ]
  },
  {
   "cell_type": "markdown",
   "metadata": {},
   "source": [
    "# MaxAbs Scaler"
   ]
  },
  {
   "cell_type": "code",
   "execution_count": 34,
   "metadata": {},
   "outputs": [
    {
     "name": "stdout",
     "output_type": "stream",
     "text": [
      "SVM Accuracy Score ->  58.24417872876023\n",
      "Accuracy: 0.582442\n",
      "Precision: 0.567439\n",
      "Recall: 0.546230\n",
      "F1 score: 0.556632\n"
     ]
    }
   ],
   "source": [
    "from sklearn.model_selection import train_test_split\n",
    "\n",
    "X_train, X_test, y_train, y_test = train_test_split(counts, data_text_label['gender'], test_size=0.25, random_state=69)\n",
    "\n",
    "from sklearn.preprocessing import MaxAbsScaler\n",
    "scaler = MaxAbsScaler()\n",
    "X_train = scaler.fit_transform(X_train)\n",
    "X_test = scaler.transform(X_test)\n",
    "#print(X_train.shape)\n",
    "#print(X_test.shape)\n",
    "#print(y_train.shape)\n",
    "#print(y_test.shape)\n",
    "\n",
    "from sklearn import svm\n",
    "from sklearn.metrics import accuracy_score\n",
    "SVM = svm.SVC(C=1.0, kernel='linear', degree=3, gamma=\"auto\", class_weight = None)\n",
    "SVM.fit(X_train, y_train)\n",
    "predictions_SVM = SVM.predict(X_test)\n",
    "\n",
    "\n",
    "\n",
    "# Use accuracy_score function to get the accuracy\n",
    "print(\"SVM Accuracy Score -> \", accuracy_score(predictions_SVM, y_test)*100)\n",
    "from sklearn.metrics import precision_score\n",
    "from sklearn.metrics import recall_score\n",
    "from sklearn.metrics import f1_score\n",
    "# accuracy: (tp + tn) / (p + n)\n",
    "accuracy = accuracy_score(y_test, predictions_SVM)\n",
    "print('Accuracy: %f' % accuracy)\n",
    "# precision tp / (tp + fp)\n",
    "precision = precision_score(y_test, predictions_SVM)\n",
    "print('Precision: %f' % precision)\n",
    "# recall: tp / (tp + fn)\n",
    "recall = recall_score(y_test, predictions_SVM)\n",
    "print('Recall: %f' % recall)\n",
    "# f1: 2 tp / (2 tp + fp + fn)\n",
    "f1 = f1_score(y_test, predictions_SVM)\n",
    "print('F1 score: %f' % f1)\n"
   ]
  },
  {
   "cell_type": "code",
   "execution_count": 35,
   "metadata": {},
   "outputs": [
    {
     "data": {
      "text/html": [
       "<div>\n",
       "<style scoped>\n",
       "    .dataframe tbody tr th:only-of-type {\n",
       "        vertical-align: middle;\n",
       "    }\n",
       "\n",
       "    .dataframe tbody tr th {\n",
       "        vertical-align: top;\n",
       "    }\n",
       "\n",
       "    .dataframe thead th {\n",
       "        text-align: right;\n",
       "    }\n",
       "</style>\n",
       "<table border=\"1\" class=\"dataframe\">\n",
       "  <thead>\n",
       "    <tr style=\"text-align: right;\">\n",
       "      <th></th>\n",
       "      <th>0</th>\n",
       "      <th>1</th>\n",
       "    </tr>\n",
       "  </thead>\n",
       "  <tbody>\n",
       "    <tr>\n",
       "      <th>0</th>\n",
       "      <td>1018</td>\n",
       "      <td>635</td>\n",
       "    </tr>\n",
       "    <tr>\n",
       "      <th>1</th>\n",
       "      <td>692</td>\n",
       "      <td>833</td>\n",
       "    </tr>\n",
       "  </tbody>\n",
       "</table>\n",
       "</div>"
      ],
      "text/plain": [
       "      0    1\n",
       "0  1018  635\n",
       "1   692  833"
      ]
     },
     "execution_count": 35,
     "metadata": {},
     "output_type": "execute_result"
    }
   ],
   "source": [
    "from sklearn.metrics import confusion_matrix\n",
    "labels = np.unique(y_test)\n",
    "cmtx =  confusion_matrix(y_test, predictions_SVM, labels=labels)\n",
    "\n",
    "pd.DataFrame(cmtx, index=labels, columns=labels)"
   ]
  },
  {
   "cell_type": "code",
   "execution_count": 36,
   "metadata": {},
   "outputs": [
    {
     "name": "stdout",
     "output_type": "stream",
     "text": [
      "Naive Bayes Accuracy Score ->  59.943360604153554\n",
      "Accuracy: 0.599434\n",
      "Precision: 0.598284\n",
      "Recall: 0.502951\n",
      "F1 score: 0.546491\n"
     ]
    }
   ],
   "source": [
    "# https://scikit-learn.org/stable/modules/naive_bayes.html\n",
    "from sklearn.naive_bayes import MultinomialNB\n",
    "\n",
    "model = MultinomialNB(alpha=1.0).fit(X_train, y_train)\n",
    "\n",
    "import numpy as np\n",
    "\n",
    "predicted = model.predict(X_test)\n",
    "\n",
    "\n",
    "print(\"Naive Bayes Accuracy Score -> \", np.mean(predicted == y_test)*100)\n",
    "from sklearn.metrics import precision_score\n",
    "from sklearn.metrics import recall_score\n",
    "from sklearn.metrics import f1_score\n",
    "# accuracy: (tp + tn) / (p + n)\n",
    "accuracy = accuracy_score(y_test, predicted)\n",
    "print('Accuracy: %f' % accuracy)\n",
    "# precision tp / (tp + fp)\n",
    "precision = precision_score(y_test, predicted)\n",
    "print('Precision: %f' % precision)\n",
    "# recall: tp / (tp + fn)\n",
    "recall = recall_score(y_test, predicted)\n",
    "print('Recall: %f' % recall)\n",
    "# f1: 2 tp / (2 tp + fp + fn)\n",
    "f1 = f1_score(y_test, predicted)\n",
    "print('F1 score: %f' % f1)\n"
   ]
  },
  {
   "cell_type": "code",
   "execution_count": 37,
   "metadata": {},
   "outputs": [
    {
     "data": {
      "text/html": [
       "<div>\n",
       "<style scoped>\n",
       "    .dataframe tbody tr th:only-of-type {\n",
       "        vertical-align: middle;\n",
       "    }\n",
       "\n",
       "    .dataframe tbody tr th {\n",
       "        vertical-align: top;\n",
       "    }\n",
       "\n",
       "    .dataframe thead th {\n",
       "        text-align: right;\n",
       "    }\n",
       "</style>\n",
       "<table border=\"1\" class=\"dataframe\">\n",
       "  <thead>\n",
       "    <tr style=\"text-align: right;\">\n",
       "      <th></th>\n",
       "      <th>0</th>\n",
       "      <th>1</th>\n",
       "    </tr>\n",
       "  </thead>\n",
       "  <tbody>\n",
       "    <tr>\n",
       "      <th>0</th>\n",
       "      <td>1138</td>\n",
       "      <td>515</td>\n",
       "    </tr>\n",
       "    <tr>\n",
       "      <th>1</th>\n",
       "      <td>758</td>\n",
       "      <td>767</td>\n",
       "    </tr>\n",
       "  </tbody>\n",
       "</table>\n",
       "</div>"
      ],
      "text/plain": [
       "      0    1\n",
       "0  1138  515\n",
       "1   758  767"
      ]
     },
     "execution_count": 37,
     "metadata": {},
     "output_type": "execute_result"
    }
   ],
   "source": [
    "from sklearn.metrics import confusion_matrix\n",
    "labels = np.unique(y_test)\n",
    "cmtx =  confusion_matrix(y_test, predicted, labels=labels)\n",
    "\n",
    "pd.DataFrame(cmtx, index=labels, columns=labels)"
   ]
  },
  {
   "cell_type": "code",
   "execution_count": 38,
   "metadata": {},
   "outputs": [
    {
     "data": {
      "image/png": "[encoded data removed]",
      "text/plain": [
       "<Figure size 432x288 with 1 Axes>"
      ]
     },
     "metadata": {
      "needs_background": "light"
     },
     "output_type": "display_data"
    }
   ],
   "source": [
    "import matplotlib.pyplot as plt\n",
    "\n",
    "x_units = ['SVM', 'Naive Bayes']\n",
    "\n",
    "y_units = [f1_score(predictions_SVM, y_test)*100, f1_score(predicted, y_test)*100]\n",
    "\n",
    "model_label = ['SVM', 'Naive Bayes']\n",
    "\n",
    "plt.bar(x_units, y_units, tick_label=model_label,\n",
    "        width=0.8, color=['red', 'blue'])\n",
    "\n",
    "plt.xlabel('Machine Learning Algorithm')\n",
    "plt.ylabel('F1 Score')\n",
    "plt.title('SVM Vs. Naive Bayes')\n",
    "\n",
    " \n",
    "\n",
    "plt.show()"
   ]
  },
  {
   "cell_type": "markdown",
   "metadata": {},
   "source": [
    "# Normalizer with Standard Scaler"
   ]
  },
  {
   "cell_type": "code",
   "execution_count": 39,
   "metadata": {},
   "outputs": [
    {
     "name": "stdout",
     "output_type": "stream",
     "text": [
      "SVM Accuracy Score ->  54.53115166771555\n",
      "Accuracy: 0.545312\n",
      "Precision: 0.531646\n",
      "Recall: 0.440656\n",
      "F1 score: 0.481893\n"
     ]
    }
   ],
   "source": [
    "from sklearn.model_selection import train_test_split\n",
    "\n",
    "X_train, X_test, y_train, y_test = train_test_split(counts, data_text_label['gender'], test_size=0.25, random_state=69)\n",
    "\n",
    "from sklearn.preprocessing import Normalizer\n",
    "scaler = Normalizer()\n",
    "scaler.fit(X_train)\n",
    "X_train = scaler.transform(X_train)\n",
    "X_test = scaler.transform(X_test)\n",
    "\n",
    "from sklearn.preprocessing import StandardScaler\n",
    "scaler = StandardScaler(with_mean=False)\n",
    "scaler.fit(X_train) \n",
    "X_train = scaler.transform(X_train)\n",
    "X_test = scaler.transform(X_test)\n",
    "#print(X_train.shape)\n",
    "#print(X_test.shape)\n",
    "#print(y_train.shape)\n",
    "#print(y_test.shape)\n",
    "\n",
    "from sklearn import svm\n",
    "from sklearn.metrics import accuracy_score\n",
    "SVM = svm.SVC(C=1.0, kernel='linear', degree=3, gamma=\"auto\", class_weight = None)\n",
    "SVM.fit(X_train, y_train)\n",
    "predictions_SVM = SVM.predict(X_test)\n",
    "\n",
    "\n",
    "# Use accuracy_score function to get the accuracy\n",
    "print(\"SVM Accuracy Score -> \", accuracy_score(predictions_SVM, y_test)*100)\n",
    "from sklearn.metrics import precision_score\n",
    "from sklearn.metrics import recall_score\n",
    "from sklearn.metrics import f1_score\n",
    "# accuracy: (tp + tn) / (p + n)\n",
    "accuracy = accuracy_score(y_test, predictions_SVM)\n",
    "print('Accuracy: %f' % accuracy)\n",
    "# precision tp / (tp + fp)\n",
    "precision = precision_score(y_test, predictions_SVM)\n",
    "print('Precision: %f' % precision)\n",
    "# recall: tp / (tp + fn)\n",
    "recall = recall_score(y_test, predictions_SVM)\n",
    "print('Recall: %f' % recall)\n",
    "# f1: 2 tp / (2 tp + fp + fn)\n",
    "f1 = f1_score(y_test, predictions_SVM)\n",
    "print('F1 score: %f' % f1)\n",
    "\n"
   ]
  },
  {
   "cell_type": "code",
   "execution_count": 40,
   "metadata": {},
   "outputs": [
    {
     "data": {
      "text/html": [
       "<div>\n",
       "<style scoped>\n",
       "    .dataframe tbody tr th:only-of-type {\n",
       "        vertical-align: middle;\n",
       "    }\n",
       "\n",
       "    .dataframe tbody tr th {\n",
       "        vertical-align: top;\n",
       "    }\n",
       "\n",
       "    .dataframe thead th {\n",
       "        text-align: right;\n",
       "    }\n",
       "</style>\n",
       "<table border=\"1\" class=\"dataframe\">\n",
       "  <thead>\n",
       "    <tr style=\"text-align: right;\">\n",
       "      <th></th>\n",
       "      <th>0</th>\n",
       "      <th>1</th>\n",
       "    </tr>\n",
       "  </thead>\n",
       "  <tbody>\n",
       "    <tr>\n",
       "      <th>0</th>\n",
       "      <td>1061</td>\n",
       "      <td>592</td>\n",
       "    </tr>\n",
       "    <tr>\n",
       "      <th>1</th>\n",
       "      <td>853</td>\n",
       "      <td>672</td>\n",
       "    </tr>\n",
       "  </tbody>\n",
       "</table>\n",
       "</div>"
      ],
      "text/plain": [
       "      0    1\n",
       "0  1061  592\n",
       "1   853  672"
      ]
     },
     "execution_count": 40,
     "metadata": {},
     "output_type": "execute_result"
    }
   ],
   "source": [
    "from sklearn.metrics import confusion_matrix\n",
    "labels = np.unique(y_test)\n",
    "cmtx =  confusion_matrix(y_test, predictions_SVM, labels=labels)\n",
    "\n",
    "pd.DataFrame(cmtx, index=labels, columns=labels)"
   ]
  },
  {
   "cell_type": "code",
   "execution_count": 41,
   "metadata": {},
   "outputs": [
    {
     "name": "stdout",
     "output_type": "stream",
     "text": [
      "Naive Bayes Accuracy Score ->  57.55191944619258\n",
      "Accuracy: 0.575519\n",
      "Precision: 0.562323\n",
      "Recall: 0.520656\n",
      "F1 score: 0.540688\n"
     ]
    }
   ],
   "source": [
    "# https://scikit-learn.org/stable/modules/naive_bayes.html\n",
    "from sklearn.naive_bayes import MultinomialNB\n",
    "\n",
    "model = MultinomialNB(alpha=1.0).fit(X_train, y_train)\n",
    "\n",
    "import numpy as np\n",
    "\n",
    "predicted = model.predict(X_test)\n",
    "\n",
    "\n",
    "\n",
    "print(\"Naive Bayes Accuracy Score -> \", np.mean(predicted == y_test)*100)\n",
    "from sklearn.metrics import precision_score\n",
    "from sklearn.metrics import recall_score\n",
    "from sklearn.metrics import f1_score\n",
    "# accuracy: (tp + tn) / (p + n)\n",
    "accuracy = accuracy_score(y_test, predicted)\n",
    "print('Accuracy: %f' % accuracy)\n",
    "# precision tp / (tp + fp)\n",
    "precision = precision_score(y_test, predicted)\n",
    "print('Precision: %f' % precision)\n",
    "# recall: tp / (tp + fn)\n",
    "recall = recall_score(y_test, predicted)\n",
    "print('Recall: %f' % recall)\n",
    "# f1: 2 tp / (2 tp + fp + fn)\n",
    "f1 = f1_score(y_test, predicted)\n",
    "print('F1 score: %f' % f1)\n"
   ]
  },
  {
   "cell_type": "code",
   "execution_count": 42,
   "metadata": {},
   "outputs": [
    {
     "data": {
      "text/html": [
       "<div>\n",
       "<style scoped>\n",
       "    .dataframe tbody tr th:only-of-type {\n",
       "        vertical-align: middle;\n",
       "    }\n",
       "\n",
       "    .dataframe tbody tr th {\n",
       "        vertical-align: top;\n",
       "    }\n",
       "\n",
       "    .dataframe thead th {\n",
       "        text-align: right;\n",
       "    }\n",
       "</style>\n",
       "<table border=\"1\" class=\"dataframe\">\n",
       "  <thead>\n",
       "    <tr style=\"text-align: right;\">\n",
       "      <th></th>\n",
       "      <th>0</th>\n",
       "      <th>1</th>\n",
       "    </tr>\n",
       "  </thead>\n",
       "  <tbody>\n",
       "    <tr>\n",
       "      <th>0</th>\n",
       "      <td>1035</td>\n",
       "      <td>618</td>\n",
       "    </tr>\n",
       "    <tr>\n",
       "      <th>1</th>\n",
       "      <td>731</td>\n",
       "      <td>794</td>\n",
       "    </tr>\n",
       "  </tbody>\n",
       "</table>\n",
       "</div>"
      ],
      "text/plain": [
       "      0    1\n",
       "0  1035  618\n",
       "1   731  794"
      ]
     },
     "execution_count": 42,
     "metadata": {},
     "output_type": "execute_result"
    }
   ],
   "source": [
    "from sklearn.metrics import confusion_matrix\n",
    "labels = np.unique(y_test)\n",
    "cmtx =  confusion_matrix(y_test, predicted, labels=labels)\n",
    "\n",
    "pd.DataFrame(cmtx, index=labels, columns=labels)"
   ]
  },
  {
   "cell_type": "code",
   "execution_count": 43,
   "metadata": {},
   "outputs": [
    {
     "data": {
      "image/png": "[encoded data removed]",
      "text/plain": [
       "<Figure size 432x288 with 1 Axes>"
      ]
     },
     "metadata": {
      "needs_background": "light"
     },
     "output_type": "display_data"
    }
   ],
   "source": [
    "import matplotlib.pyplot as plt\n",
    "\n",
    "x_units = ['SVM', 'Naive Bayes']\n",
    "\n",
    "y_units = [f1_score(predictions_SVM, y_test)*100, f1_score(predicted, y_test)*100]\n",
    "\n",
    "model_label = ['SVM', 'Naive Bayes']\n",
    "\n",
    "plt.bar(x_units, y_units, tick_label=model_label,\n",
    "        width=0.8, color=['red', 'blue'])\n",
    "\n",
    "plt.xlabel('Machine Learning Algorithm')\n",
    "plt.ylabel('F1 Score')\n",
    "plt.title('SVM Vs. Naive Bayes')\n",
    "\n",
    " \n",
    "\n",
    "plt.show()"
   ]
  }
 ],
 "metadata": {
  "colab": {
   "authorship_tag": "ABX9TyNF6zOMfZLGgMT7HPVTr6qh",
   "collapsed_sections": [],
   "name": "Naive bayes.ipynb",
   "provenance": []
  },
  "kernelspec": {
   "display_name": "Python 3",
   "language": "python",
   "name": "python3"
  },
  "language_info": {
   "codemirror_mode": {
    "name": "ipython",
    "version": 3
   },
   "file_extension": ".py",
   "mimetype": "text/x-python",
   "name": "python",
   "nbconvert_exporter": "python",
   "pygments_lexer": "ipython3",
   "version": "3.8.3"
  }
 },
 "nbformat": 4,
 "nbformat_minor": 1
}
