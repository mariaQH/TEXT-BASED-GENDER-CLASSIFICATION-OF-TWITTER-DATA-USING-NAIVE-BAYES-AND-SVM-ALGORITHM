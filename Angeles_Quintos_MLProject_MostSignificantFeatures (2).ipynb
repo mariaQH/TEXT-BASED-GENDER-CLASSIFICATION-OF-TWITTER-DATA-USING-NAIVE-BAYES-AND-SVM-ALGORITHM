{
 "cells": [
  {
   "cell_type": "markdown",
   "metadata": {},
   "source": [
    "# Machine Learning Project (Text-Based Gender Classification of Twitter Data using Naive Bayes and Support Vector Machine)\n",
    "# Feature Extraction using the 10 Most Significant Meta-Attributes\n",
    "## Quintos, Maria Nikki H.\n",
    "## Angeles, Angelic L.\n",
    "## BSCS-ML COM 181"
   ]
  },
  {
   "cell_type": "markdown",
   "metadata": {},
   "source": [
    "### 1.   Importing the modules, libraries, and dataset"
   ]
  },
  {
   "cell_type": "markdown",
   "metadata": {},
   "source": [
    "A library is essentially a collection of modules that can be called and used and we can import the libraries by using 'import' to make use of the different functions. This part of the code imports modules and libraries to have access to the functions that we will be needing to build the classification model using Naive Bayes and SVM. Python libraries such as:\n",
    "\n",
    "1. <b>Numpy</b> - works with arrays and matrices used for computation in the algorithm \n",
    "2. <b>Pandas</b> - works with data manipulation and analysis \n",
    "3. <b>Sklearn</b> - works with classification, clustering and regression\n",
    "4. <b>Re</b> - works with regular expressions which are a special sequence of characters that helps you match or find other strings or sets of strings, using a specialized syntax held in a pattern."
   ]
  },
  {
   "cell_type": "code",
   "execution_count": 1,
   "metadata": {},
   "outputs": [],
   "source": [
    "import pandas as pd\n",
    "import numpy as np\n",
    "import re"
   ]
  },
  {
   "cell_type": "markdown",
   "metadata": {},
   "source": [
    "<b>Importing the dataset</b>\n",
    "\n",
    "Data is raw information, it is the representation of both human and machine observation of the world. The dataset that you should used entirely depends on what type of problem you want to solve. This study is mainly focus on the gender classification problem and in this part of the code we are importing the dataset that we will used in the classification task. The dataset collected is from Kaggle. The dataset has 26 independent variables and 20,050 data. Since we are focusing on the text-based gender classification, we will only get the “gender” and “text” variables, where in the “text” represents the Twitter user’s tweets. "
   ]
  },
  {
   "cell_type": "code",
   "execution_count": 2,
   "metadata": {},
   "outputs": [
    {
     "data": {
      "text/plain": [
       "(20050, 26)"
      ]
     },
     "execution_count": 2,
     "metadata": {},
     "output_type": "execute_result"
    }
   ],
   "source": [
    "# https://www.kaggle.com/rahulvks/gender-identification-analysis/notebook\n",
    "# https://stackabuse.com/the-naive-bayes-algorithm-in-python-with-scikit-learn/\n",
    "\n",
    "url_train = 'https://raw.githubusercontent.com/mdeff/ntds_2016/master/project/reports/twitter_gender/gender-classifier-DFE-791531.csv'\n",
    "data_with_duplicate = pd.read_csv(url_train, encoding='latin1')\n",
    "\n",
    "data_with_duplicate.head(5)\n",
    "data_with_duplicate.shape"
   ]
  },
  {
   "cell_type": "markdown",
   "metadata": {},
   "source": [
    "### 2. Data Pre-Processing"
   ]
  },
  {
   "cell_type": "markdown",
   "metadata": {},
   "source": [
    "We are living in the age of data and data are very significant when implementing machine learning algorithms since this is where the model gets all the information that they should process and learn. Data Pre-Processing is a technique to prepare the data to get more out of it. To have better and improved datasets that are cleaner and are more manageable to analyze and work with, we must apply this technique. The purpose of using this technique is to avoid noisy, inconsistent, and missing data that can lead to poor accuracy of the machine learning model. "
   ]
  },
  {
   "cell_type": "markdown",
   "metadata": {},
   "source": [
    "<b>Dropping the duplicates</b>\n",
    "\n",
    "In this part of the code we are simply removing the duplicates from the DataFrame using the 'drop_duplicates' method and storing the new DataFrame with duplicate rows removed in the 'data' variable."
   ]
  },
  {
   "cell_type": "code",
   "execution_count": 3,
   "metadata": {},
   "outputs": [
    {
     "name": "stdout",
     "output_type": "stream",
     "text": [
      "20050\n",
      "Index(['_unit_id', '_golden', '_unit_state', '_trusted_judgments',\n",
      "       '_last_judgment_at', 'gender', 'gender:confidence', 'profile_yn',\n",
      "       'profile_yn:confidence', 'created', 'description', 'fav_number',\n",
      "       'gender_gold', 'link_color', 'name', 'profile_yn_gold', 'profileimage',\n",
      "       'retweet_count', 'sidebar_color', 'text', 'tweet_coord', 'tweet_count',\n",
      "       'tweet_created', 'tweet_id', 'tweet_location', 'user_timezone'],\n",
      "      dtype='object')\n",
      "18412\n"
     ]
    }
   ],
   "source": [
    "print(len(data_with_duplicate))\n",
    "print(data_with_duplicate.columns)\n",
    "#print(data_with_duplicate.shape)\n",
    "data = data_with_duplicate.sort_values('text', ascending=True).drop_duplicates('text').sort_index()\n",
    "print(len(data))"
   ]
  },
  {
   "cell_type": "markdown",
   "metadata": {},
   "source": [
    "<b>Getting the significant columns that we will used in the classification task and dealing with missing values</b>\n",
    "\n",
    "The dataset will surely have missing and noisy data because the data gathering process is not perfect, so the dataset will have many irrelevant and missing parts. Data cleaning is one of the method that we should use to solve this problem. In this part of the code, we are only getting the significant columns that we will used in the classification task which are 'text' (independent variable) that represents the Twitter user's tweets and 'gender' (dependent variable) that represents if the Twitter user is a male or female. Then after getting the significant columns, we will find all the null values in the dataset and replace it with 'XXX' just so that we can easily distinguish if there is any null or missing values in the data. "
   ]
  },
  {
   "cell_type": "code",
   "execution_count": 4,
   "metadata": {},
   "outputs": [
    {
     "name": "stdout",
     "output_type": "stream",
     "text": [
      "                                                text  gender\n",
      "0  Robbie E Responds To Critics After Win Against...    male\n",
      "1  ÛÏIt felt like they were my friends and I was...    male\n",
      "2  i absolutely adore when louis starts the songs...    male\n",
      "3  Hi @JordanSpieth - Looking at the url - do you...    male\n",
      "4  Watching Neighbours on Sky+ catching up with t...  female\n",
      "cleaned\n"
     ]
    },
    {
     "name": "stderr",
     "output_type": "stream",
     "text": [
      "<ipython-input-4-52e004f9ebe3>:7: SettingWithCopyWarning: \n",
      "A value is trying to be set on a copy of a slice from a DataFrame.\n",
      "Try using .loc[row_indexer,col_indexer] = value instead\n",
      "\n",
      "See the caveats in the documentation: https://pandas.pydata.org/pandas-docs/stable/user_guide/indexing.html#returning-a-view-versus-a-copy\n",
      "  data_text_label['gender'] = data_text_label['gender'].fillna('XXX')\n"
     ]
    }
   ],
   "source": [
    "# only get the text and label.\n",
    "data_text_label = data[['text', 'gender']]\n",
    "print(data_text_label.head(5))\n",
    "\n",
    "# sanity check of our data\n",
    "if data_text_label['gender'].isnull().any():\n",
    "  data_text_label['gender'] = data_text_label['gender'].fillna('XXX')\n",
    "  print('cleaned')"
   ]
  },
  {
   "cell_type": "markdown",
   "metadata": {},
   "source": [
    "<b>Data Cleaning</b>\n",
    "\n",
    "One of the data preprocessing techniques is data cleaning, by applying this technique the model can improve the accuracy and performance of the machine learning model. The Regular Expression (RegEx) method is a faster process of cleaning text data that is simpler to use compared to manually splitting the strings. Regular Expressions (RegEx) are essentially text patterns that you can use to automate searching through and replacing elements within strings of text. We convert all strings into lowercase using '.lower()' method and in this case, we used 're.sub()' method to replace irrelevant and insignificant strings or characters in the 'text' or tweets of the users such as:\n",
    "1. Converting all strings into lower case\n",
    "2. Links and urls are removed\n",
    "3. Remove all non-ASCII code\n",
    "4. Remove all punctuations\n",
    "5. Delete double spaces and replace with one space\n",
    "6. Remove special characters\n",
    "7. Remove numbers"
   ]
  },
  {
   "cell_type": "code",
   "execution_count": 5,
   "metadata": {},
   "outputs": [
    {
     "name": "stderr",
     "output_type": "stream",
     "text": [
      "<ipython-input-5-a787638b0983>:17: SettingWithCopyWarning: \n",
      "A value is trying to be set on a copy of a slice from a DataFrame.\n",
      "Try using .loc[row_indexer,col_indexer] = value instead\n",
      "\n",
      "See the caveats in the documentation: https://pandas.pydata.org/pandas-docs/stable/user_guide/indexing.html#returning-a-view-versus-a-copy\n",
      "  data_text_label['text'] = data_text_label.apply(lambda x: cleaning(x['text']), axis=1)\n"
     ]
    }
   ],
   "source": [
    "def cleaning(s):\n",
    "    s = str(s)\n",
    "    s = s.lower()\n",
    "    s = re.sub(r\"http\\S+\", \"\", s)\n",
    "    encoded_string = s.encode(\"ascii\", \"ignore\")\n",
    "    s = encoded_string.decode()\n",
    "    s = re.sub(r\"[^a-zA-Z0-9]+\", ' ', s)\n",
    "    s = re.sub(' +', ' ', s)\n",
    "    s = re.sub(r\"\\b\\d+\\b\", \"\", s)\n",
    "    s = re.sub(r'[0-9]+', '', s)\n",
    "    return s\n",
    "'''\n",
    "def sample(s):\n",
    "  return 'M'+s\n",
    "'''\n",
    "\n",
    "data_text_label['text'] = data_text_label.apply(lambda x: cleaning(x['text']), axis=1)\n"
   ]
  },
  {
   "cell_type": "markdown",
   "metadata": {},
   "source": [
    "### 3. Feature Extraction "
   ]
  },
  {
   "cell_type": "markdown",
   "metadata": {},
   "source": [
    "<b>Extraction of 10 Most Significant Features or Meta-Attributes</b>\n",
    "\n",
    "In this part of the code, this is where we create all the methods or functions that we will used to extract the 10 most significant features or create the 10 most significant meta-attributes. We extracted 10 most significant features and meta-attributes. These methods are the following:\n",
    "1. <b>count_word_in_sentence</b> - counts the number of words in a sentence.\n",
    "2. <b>count_char_in_sentence</b> - counts the number of characters in a sentence.\n",
    "3. <b>aveNum_of_char_per_word</b> - is the ratio of number of characters and number of words.\n",
    "4. <b>count_spaces</b> - counts the number of blank spaces in a text. \n",
    "5. <b>ratioSpacesAndCharacters</b> - is the ratio of number of spaces and number of characters.\n",
    "6. <b>countWords</b> - counts the total number of words with more than 6 characters in a sentence.\n",
    "7. <b>ratio6wordsOvertotalWord</b> - is the ratio of the number of words with more than 6 characters and the total number of words.\n",
    "8. <b>ratioPronounsAndWords</b> - is the ratio of number of pronouns and number of words.\n",
    "9. <b>ratioAuxiliaryVerbsAndWords</b> - is the ratio of number of auxiliary verbs and number of words.\n",
    "10. <b>ratioConjunctionsAndWords</b> - is the ratio of number of conjunctions and number of words.\n",
    "11. <b>ratioInterjectionsAndWords</b> - is the ratio of number of interjections and number of words.\n",
    "12. <b>ratioPrepositionsAndWords</b> - is the ratio of number of prepositions and number of words."
   ]
  },
  {
   "cell_type": "code",
   "execution_count": 6,
   "metadata": {},
   "outputs": [],
   "source": [
    "def count_word_in_sentence(x):\n",
    "    word_list = x.split(' ')\n",
    "    return len(word_list)\n",
    "\n",
    "\n",
    "def count_char_in_sentence(char):\n",
    "    count_char = len(char) - char.count(\" \")\n",
    "    return (count_char)\n",
    "\n",
    "\n",
    "def aveNum_of_char_per_word(a):\n",
    "    word = a.split(' ')\n",
    "    word_split = len(word)\n",
    "    count_char = len(a) - a.count(\" \")\n",
    "    return (word_split/count_char)\n",
    "\n",
    "\n",
    "\n",
    "def count_spaces(s):\n",
    "    return sum(1 for x in s if x.isspace())\n",
    "\n",
    "\n",
    "def ratioSpacesAndCharacters(a):\n",
    "    spaces = sum(1 for x in a if x.isspace())\n",
    "    char = len(a) - a.count(\" \")\n",
    "    ratio = (spaces/char)\n",
    "    return (ratio)\n",
    "\n",
    "\n",
    "def countWords(s):\n",
    "    words = s.split()\n",
    "    return len([word for word in words if len(word)>=6])\n",
    "\n",
    "def ratio6wordsOvertotalWord(b):\n",
    "    words = b.split(\" \")\n",
    "    count = len([word for word in words if len(word)>=6])\n",
    "    length = len(words)\n",
    "    ratio = (count/length)\n",
    "    return (ratio)\n",
    "\n",
    "\n",
    "def ratioPronounsAndWords(a):\n",
    "    wordlist = a.split(' ')\n",
    "    pronouns = [\"I\", \"i\", \"Me\", \"me\", \"You\", \"you\", \"He\", \"he\", \"Him\", \"him\", \"She\", \"she\", \"Her\", \"her\", \"It\", \"it\", \"We\", \"we\", \"Us\", \"us\", \"They\", \"they\", \"Them\", \"them\"]\n",
    "    num_pronouns = 0\n",
    "    for i in wordlist:\n",
    "        if i in pronouns: \n",
    "            num_pronouns += 1\n",
    "    \n",
    "    num_words = a.split(' ')\n",
    "    num_words = len(num_words)\n",
    "    ratio = (num_pronouns/num_words)\n",
    "    return ratio\n",
    "\n",
    "\n",
    "\n",
    "def ratioAuxiliaryVerbsAndWords(a):\n",
    "    wordlist = a.split(' ')\n",
    "    auxiliary_verbs = [\"be\", \"am\", \"are\", \"is\", \"was\", \"were\", \"being\", \"can\", \"could\", \"do\", \"did\", \"does\", \"doing\", \"have\", \"had\", \"has\", \"having\", \"may\", \"might\", \"must\", \"shall\", \"should\", \"will\", \"would\",\"Be\", \"Am\", \"Are\", \"Is\", \"Was\", \"Were\", \"Being\", \"Can\", \"Could\", \"Do\", \"Did\", \"Does\", \"Doing\", \"Have\", \"Had\", \"Has\", \"Having\", \"May\", \"Might\", \"Must\", \"Shall\", \"Should\", \"Will\", \"Would\"]\n",
    "    num_auxiliary_verbs = 0\n",
    "    for i in wordlist:\n",
    "        if i in auxiliary_verbs:\n",
    "            num_auxiliary_verbs += 1\n",
    "    \n",
    "    num_words = a.split(' ')\n",
    "    num_words = len(num_words)\n",
    "    ratio = (num_auxiliary_verbs/num_words)\n",
    "    return ratio\n",
    "\n",
    "\n",
    "\n",
    "def ratioConjunctionsAndWords(a):\n",
    "    wordlist = a.split(' ')\n",
    "    conjunctions = [\"and\", \"but\", \"for\", \"nor\", \"or\", \"so\", \"yet\", \"And\", \"But\", \"For\", \"Nor\", \"Or\", \"So\", \"Yet\", \"after\", \"until\", \"before\", \"since\", \"because\", \"as\", \"though\", \"although\", \"where as\", \"while\", \"After\", \"Until\", \"Before\", \"Since\", \"Because\", \"As\", \"Though\", \"Although\", \"Where as\", \"While\",\"either\", \"neither\", \"not only\", \"but also\", \"both\", \"not\", \"whether\", \"just as\", \" as\", \"as much\", \"no sooner\", \"than\", \"rather\", \"Either\", \"Neither\", \"Not only\", \"But also\", \"Both\", \"Not\", \"Whether\", \"Just as\", \" As\", \"As much\", \"No sooner\", \"Than\", \"Rather\"]\n",
    "    num_conjunctions = 0\n",
    "    for i in wordlist:\n",
    "        if i in conjunctions:\n",
    "            num_conjunctions += 1\n",
    "    \n",
    "    num_words = a.split(' ')\n",
    "    num_words = len(num_words)\n",
    "    ratio = (num_conjunctions/num_words)\n",
    "    return ratio\n",
    "\n",
    "\n",
    "def ratioInterjectionsAndWords(a):\n",
    "    wordlist = a.split(' ')\n",
    "    interjections = [\"ah\", \"alas\", \"dear\", \"eh\", \"er\", \"god\", \"hello\", \"hey\", \"hi\", \"hmm\", \"oh\", \"o\", \"ok\", \"okay\", \"ouch\", \"uh\", \"uh-huh\", \"um\", \"umm\", \"well\", \"wow\", \"Ah\", \"Alas\", \"Dear\", \"Eh\", \"Er\", \"God\", \"Hello\", \"Hey\", \"Hi\", \"Hmm\", \"Oh\", \"O\", \"Ok\", \"Okay\", \"Ouch\", \"Uh\", \"Uh-huh\", \"Um\", \"Umm\", \"Well\", \"Wow\"]\n",
    "    num_interjections = 0\n",
    "    for i in wordlist:\n",
    "        if i in interjections:\n",
    "            num_interjections += 1\n",
    "    \n",
    "    num_words = a.split(' ')\n",
    "    num_words = len(num_words)\n",
    "    ratio = (num_interjections/num_words)\n",
    "    return ratio\n",
    "\n",
    "def ratioPrepositionsAndWords(a):\n",
    "    wordlist = a.split(' ')\n",
    "    prepositions = [\"aboard\", \"about\", \"above\", \"across\", \"after\", \"against\", \"along\", \"amid\", \"among\", \"anti\", \"around\", \"as\", \"at\", \"before\", \"behind\", \"below\", \"beneath\", \"beside\", \"besides\", \"between\", \"beyond\", \"but\", \"by\", \"concerning\", \"considering\", \"despite\", \"down\", \"during\", \"except\", \"excepting\", \"excluding\", \"following\", \"for\", \"from\", \"in\", \"inside\", \"into\", \"like\", \"minus\", \"near\", \"of\", \"off\", \"on\", \"onto\", \"opposite\", \"outside\", \"over\", \"past\", \"per\", \"plus\", \"regarding\", \"round\", \"save\", \"since\", \"than\", \"through\", \"to\", \"toward\", \"towards\", \"under\", \"underneath\", \"unlike\", \"until\", \"up\", \"upon\", \"versus\", \"via\", \"with\", \"within\", \"without\"]\n",
    "    num_prepositions = 0\n",
    "    for i in wordlist:\n",
    "        if i in prepositions:\n",
    "            num_prepositions += 1\n",
    "    \n",
    "    num_words = a.split(' ')\n",
    "    num_words = len(num_words)\n",
    "    ratio = (num_prepositions/num_words)\n",
    "    return ratio"
   ]
  },
  {
   "cell_type": "markdown",
   "metadata": {},
   "source": [
    "<b>Application of Created Methods for Feature Extraction or Creation of 10 Most Significant Meta-Attributes in the DataFrame</b>\n",
    "\n",
    "We created a dataframe named 'duplicate' and this is where we will store our extracted features or meta-attributes. First, we insert the dataset to the dataframe and store it in the 'duplicate' variable then we apply all the 12 methods that we created from the previous step for feature extraction. Then store the value of all the result of these methods in the 'duplicate' dataframe. The dataset has now 12 columns from originally having 2 columns only which is the 'text' which represents the tweets and 'gender' columns. But now we extracted 10 most significant (independent variables) features or meta-attributes which are LengthOfWord, CountChar, AveCharWord, RationSpaChar, Ratio6WordsTotalWord, ProWords,\tAuxiliaryVerbsAndWords, ConjunctionsAndWords, InterjectionsAndWords, and PrepositionsAndWords. Including the 'text' column which represents the user's tweets. Then, 'gender' as the dependent variable. Having a total of 12 columns. "
   ]
  },
  {
   "cell_type": "code",
   "execution_count": 7,
   "metadata": {},
   "outputs": [
    {
     "data": {
      "text/html": [
       "<div>\n",
       "<style scoped>\n",
       "    .dataframe tbody tr th:only-of-type {\n",
       "        vertical-align: middle;\n",
       "    }\n",
       "\n",
       "    .dataframe tbody tr th {\n",
       "        vertical-align: top;\n",
       "    }\n",
       "\n",
       "    .dataframe thead th {\n",
       "        text-align: right;\n",
       "    }\n",
       "</style>\n",
       "<table border=\"1\" class=\"dataframe\">\n",
       "  <thead>\n",
       "    <tr style=\"text-align: right;\">\n",
       "      <th></th>\n",
       "      <th>text</th>\n",
       "      <th>gender</th>\n",
       "      <th>LengthOfWord</th>\n",
       "      <th>CountChar</th>\n",
       "      <th>AveCharWord</th>\n",
       "      <th>RationSpaChar</th>\n",
       "      <th>Ratio6WordsTotalWord</th>\n",
       "      <th>ProWords</th>\n",
       "      <th>AuxiliaryVerbsAndWords</th>\n",
       "      <th>ConjunctionsAndWords</th>\n",
       "      <th>InterjectionsAndWords</th>\n",
       "      <th>PrepositionsAndWords</th>\n",
       "    </tr>\n",
       "  </thead>\n",
       "  <tbody>\n",
       "    <tr>\n",
       "      <th>0</th>\n",
       "      <td>robbie e responds to critics after win against...</td>\n",
       "      <td>male</td>\n",
       "      <td>14</td>\n",
       "      <td>72</td>\n",
       "      <td>0.194444</td>\n",
       "      <td>0.180556</td>\n",
       "      <td>0.428571</td>\n",
       "      <td>0.000000</td>\n",
       "      <td>0.000000</td>\n",
       "      <td>0.071429</td>\n",
       "      <td>0.000000</td>\n",
       "      <td>0.285714</td>\n",
       "    </tr>\n",
       "    <tr>\n",
       "      <th>1</th>\n",
       "      <td>it felt like they were my friends and i was li...</td>\n",
       "      <td>male</td>\n",
       "      <td>18</td>\n",
       "      <td>66</td>\n",
       "      <td>0.272727</td>\n",
       "      <td>0.257576</td>\n",
       "      <td>0.166667</td>\n",
       "      <td>0.222222</td>\n",
       "      <td>0.111111</td>\n",
       "      <td>0.055556</td>\n",
       "      <td>0.000000</td>\n",
       "      <td>0.111111</td>\n",
       "    </tr>\n",
       "    <tr>\n",
       "      <th>2</th>\n",
       "      <td>i absolutely adore when louis starts the songs...</td>\n",
       "      <td>male</td>\n",
       "      <td>16</td>\n",
       "      <td>65</td>\n",
       "      <td>0.246154</td>\n",
       "      <td>0.230769</td>\n",
       "      <td>0.125000</td>\n",
       "      <td>0.250000</td>\n",
       "      <td>0.000000</td>\n",
       "      <td>0.062500</td>\n",
       "      <td>0.000000</td>\n",
       "      <td>0.062500</td>\n",
       "    </tr>\n",
       "    <tr>\n",
       "      <th>3</th>\n",
       "      <td>hi jordanspieth looking at the url do you use ...</td>\n",
       "      <td>male</td>\n",
       "      <td>21</td>\n",
       "      <td>84</td>\n",
       "      <td>0.250000</td>\n",
       "      <td>0.238095</td>\n",
       "      <td>0.238095</td>\n",
       "      <td>0.047619</td>\n",
       "      <td>0.047619</td>\n",
       "      <td>0.000000</td>\n",
       "      <td>0.047619</td>\n",
       "      <td>0.095238</td>\n",
       "    </tr>\n",
       "    <tr>\n",
       "      <th>4</th>\n",
       "      <td>watching neighbours on sky catching up with th...</td>\n",
       "      <td>female</td>\n",
       "      <td>11</td>\n",
       "      <td>53</td>\n",
       "      <td>0.207547</td>\n",
       "      <td>0.188679</td>\n",
       "      <td>0.363636</td>\n",
       "      <td>0.000000</td>\n",
       "      <td>0.000000</td>\n",
       "      <td>0.000000</td>\n",
       "      <td>0.000000</td>\n",
       "      <td>0.272727</td>\n",
       "    </tr>\n",
       "  </tbody>\n",
       "</table>\n",
       "</div>"
      ],
      "text/plain": [
       "                                                text  gender  LengthOfWord  \\\n",
       "0  robbie e responds to critics after win against...    male            14   \n",
       "1  it felt like they were my friends and i was li...    male            18   \n",
       "2  i absolutely adore when louis starts the songs...    male            16   \n",
       "3  hi jordanspieth looking at the url do you use ...    male            21   \n",
       "4  watching neighbours on sky catching up with th...  female            11   \n",
       "\n",
       "   CountChar  AveCharWord  RationSpaChar  Ratio6WordsTotalWord  ProWords  \\\n",
       "0         72     0.194444       0.180556              0.428571  0.000000   \n",
       "1         66     0.272727       0.257576              0.166667  0.222222   \n",
       "2         65     0.246154       0.230769              0.125000  0.250000   \n",
       "3         84     0.250000       0.238095              0.238095  0.047619   \n",
       "4         53     0.207547       0.188679              0.363636  0.000000   \n",
       "\n",
       "   AuxiliaryVerbsAndWords  ConjunctionsAndWords  InterjectionsAndWords  \\\n",
       "0                0.000000              0.071429               0.000000   \n",
       "1                0.111111              0.055556               0.000000   \n",
       "2                0.000000              0.062500               0.000000   \n",
       "3                0.047619              0.000000               0.047619   \n",
       "4                0.000000              0.000000               0.000000   \n",
       "\n",
       "   PrepositionsAndWords  \n",
       "0              0.285714  \n",
       "1              0.111111  \n",
       "2              0.062500  \n",
       "3              0.095238  \n",
       "4              0.272727  "
      ]
     },
     "execution_count": 7,
     "metadata": {},
     "output_type": "execute_result"
    }
   ],
   "source": [
    "duplicate = pd.DataFrame(data_text_label)\n",
    "g = data_text_label['text'].apply(count_word_in_sentence)\n",
    "duplicate['LengthOfWord'] = g\n",
    "duplicate.head(5)\n",
    "\n",
    "\n",
    "duplicate = pd.DataFrame(data_text_label)\n",
    "g = data_text_label['text'].apply(count_char_in_sentence)\n",
    "duplicate['CountChar'] = g\n",
    "duplicate.head(5)\n",
    "\n",
    "\n",
    "duplicate = pd.DataFrame(data_text_label)\n",
    "g = data_text_label['text'].apply(aveNum_of_char_per_word)\n",
    "duplicate['AveCharWord'] = g\n",
    "duplicate.head(5)\n",
    "\n",
    "duplicate = pd.DataFrame(data_text_label)\n",
    "g = data_text_label['text'].apply(ratioSpacesAndCharacters)\n",
    "duplicate['RationSpaChar'] = g\n",
    "duplicate.head(5)\n",
    "\n",
    "\n",
    "duplicate = pd.DataFrame(data_text_label)\n",
    "g = data_text_label['text'].apply(ratio6wordsOvertotalWord)\n",
    "duplicate['Ratio6WordsTotalWord'] = g\n",
    "duplicate.head(5)\n",
    "\n",
    "\n",
    "duplicate = pd.DataFrame(data_text_label)\n",
    "g = data_text_label['text'].apply(ratioPronounsAndWords)\n",
    "duplicate['ProWords'] = g\n",
    "duplicate.head(5)\n",
    "\n",
    "\n",
    "duplicate = pd.DataFrame(data_text_label)\n",
    "g = data_text_label['text'].apply(ratioAuxiliaryVerbsAndWords)\n",
    "duplicate['AuxiliaryVerbsAndWords'] = g\n",
    "duplicate.head(5)\n",
    "\n",
    "\n",
    "duplicate = pd.DataFrame(data_text_label)\n",
    "g = data_text_label['text'].apply(ratioConjunctionsAndWords)\n",
    "duplicate['ConjunctionsAndWords'] = g\n",
    "duplicate.head(5)\n",
    "\n",
    "\n",
    "duplicate = pd.DataFrame(data_text_label)\n",
    "g = data_text_label['text'].apply(ratioInterjectionsAndWords)\n",
    "duplicate['InterjectionsAndWords'] = g\n",
    "duplicate.head(5)\n",
    "\n",
    "\n",
    "\n",
    "duplicate = pd.DataFrame(data_text_label)\n",
    "g = data_text_label['text'].apply(ratioPrepositionsAndWords)\n",
    "duplicate['PrepositionsAndWords'] = g\n",
    "duplicate.head(5)\n"
   ]
  },
  {
   "cell_type": "code",
   "execution_count": 8,
   "metadata": {},
   "outputs": [
    {
     "data": {
      "text/html": [
       "<div>\n",
       "<style scoped>\n",
       "    .dataframe tbody tr th:only-of-type {\n",
       "        vertical-align: middle;\n",
       "    }\n",
       "\n",
       "    .dataframe tbody tr th {\n",
       "        vertical-align: top;\n",
       "    }\n",
       "\n",
       "    .dataframe thead th {\n",
       "        text-align: right;\n",
       "    }\n",
       "</style>\n",
       "<table border=\"1\" class=\"dataframe\">\n",
       "  <thead>\n",
       "    <tr style=\"text-align: right;\">\n",
       "      <th></th>\n",
       "      <th>text</th>\n",
       "      <th>gender</th>\n",
       "      <th>LengthOfWord</th>\n",
       "      <th>CountChar</th>\n",
       "      <th>AveCharWord</th>\n",
       "      <th>RationSpaChar</th>\n",
       "      <th>Ratio6WordsTotalWord</th>\n",
       "      <th>ProWords</th>\n",
       "      <th>AuxiliaryVerbsAndWords</th>\n",
       "      <th>ConjunctionsAndWords</th>\n",
       "      <th>InterjectionsAndWords</th>\n",
       "      <th>PrepositionsAndWords</th>\n",
       "    </tr>\n",
       "  </thead>\n",
       "  <tbody>\n",
       "    <tr>\n",
       "      <th>0</th>\n",
       "      <td>robbie e responds to critics after win against...</td>\n",
       "      <td>male</td>\n",
       "      <td>14</td>\n",
       "      <td>72</td>\n",
       "      <td>0.194444</td>\n",
       "      <td>0.180556</td>\n",
       "      <td>0.428571</td>\n",
       "      <td>0.000000</td>\n",
       "      <td>0.000000</td>\n",
       "      <td>0.071429</td>\n",
       "      <td>0.000000</td>\n",
       "      <td>0.285714</td>\n",
       "    </tr>\n",
       "    <tr>\n",
       "      <th>1</th>\n",
       "      <td>it felt like they were my friends and i was li...</td>\n",
       "      <td>male</td>\n",
       "      <td>18</td>\n",
       "      <td>66</td>\n",
       "      <td>0.272727</td>\n",
       "      <td>0.257576</td>\n",
       "      <td>0.166667</td>\n",
       "      <td>0.222222</td>\n",
       "      <td>0.111111</td>\n",
       "      <td>0.055556</td>\n",
       "      <td>0.000000</td>\n",
       "      <td>0.111111</td>\n",
       "    </tr>\n",
       "    <tr>\n",
       "      <th>2</th>\n",
       "      <td>i absolutely adore when louis starts the songs...</td>\n",
       "      <td>male</td>\n",
       "      <td>16</td>\n",
       "      <td>65</td>\n",
       "      <td>0.246154</td>\n",
       "      <td>0.230769</td>\n",
       "      <td>0.125000</td>\n",
       "      <td>0.250000</td>\n",
       "      <td>0.000000</td>\n",
       "      <td>0.062500</td>\n",
       "      <td>0.000000</td>\n",
       "      <td>0.062500</td>\n",
       "    </tr>\n",
       "    <tr>\n",
       "      <th>3</th>\n",
       "      <td>hi jordanspieth looking at the url do you use ...</td>\n",
       "      <td>male</td>\n",
       "      <td>21</td>\n",
       "      <td>84</td>\n",
       "      <td>0.250000</td>\n",
       "      <td>0.238095</td>\n",
       "      <td>0.238095</td>\n",
       "      <td>0.047619</td>\n",
       "      <td>0.047619</td>\n",
       "      <td>0.000000</td>\n",
       "      <td>0.047619</td>\n",
       "      <td>0.095238</td>\n",
       "    </tr>\n",
       "    <tr>\n",
       "      <th>4</th>\n",
       "      <td>watching neighbours on sky catching up with th...</td>\n",
       "      <td>female</td>\n",
       "      <td>11</td>\n",
       "      <td>53</td>\n",
       "      <td>0.207547</td>\n",
       "      <td>0.188679</td>\n",
       "      <td>0.363636</td>\n",
       "      <td>0.000000</td>\n",
       "      <td>0.000000</td>\n",
       "      <td>0.000000</td>\n",
       "      <td>0.000000</td>\n",
       "      <td>0.272727</td>\n",
       "    </tr>\n",
       "    <tr>\n",
       "      <th>...</th>\n",
       "      <td>...</td>\n",
       "      <td>...</td>\n",
       "      <td>...</td>\n",
       "      <td>...</td>\n",
       "      <td>...</td>\n",
       "      <td>...</td>\n",
       "      <td>...</td>\n",
       "      <td>...</td>\n",
       "      <td>...</td>\n",
       "      <td>...</td>\n",
       "      <td>...</td>\n",
       "      <td>...</td>\n",
       "    </tr>\n",
       "    <tr>\n",
       "      <th>20032</th>\n",
       "      <td>legobutts you can do quests and kill stuff wh...</td>\n",
       "      <td>male</td>\n",
       "      <td>29</td>\n",
       "      <td>106</td>\n",
       "      <td>0.273585</td>\n",
       "      <td>0.264151</td>\n",
       "      <td>0.172414</td>\n",
       "      <td>0.137931</td>\n",
       "      <td>0.103448</td>\n",
       "      <td>0.103448</td>\n",
       "      <td>0.000000</td>\n",
       "      <td>0.068966</td>\n",
       "    </tr>\n",
       "    <tr>\n",
       "      <th>20034</th>\n",
       "      <td>view the community halloween spooktacular city...</td>\n",
       "      <td>brand</td>\n",
       "      <td>9</td>\n",
       "      <td>62</td>\n",
       "      <td>0.145161</td>\n",
       "      <td>0.129032</td>\n",
       "      <td>0.444444</td>\n",
       "      <td>0.000000</td>\n",
       "      <td>0.000000</td>\n",
       "      <td>0.000000</td>\n",
       "      <td>0.000000</td>\n",
       "      <td>0.000000</td>\n",
       "    </tr>\n",
       "    <tr>\n",
       "      <th>20036</th>\n",
       "      <td>itsleehinchy leesqanda what s the story in ba...</td>\n",
       "      <td>female</td>\n",
       "      <td>10</td>\n",
       "      <td>44</td>\n",
       "      <td>0.227273</td>\n",
       "      <td>0.204545</td>\n",
       "      <td>0.300000</td>\n",
       "      <td>0.000000</td>\n",
       "      <td>0.000000</td>\n",
       "      <td>0.000000</td>\n",
       "      <td>0.000000</td>\n",
       "      <td>0.100000</td>\n",
       "    </tr>\n",
       "    <tr>\n",
       "      <th>20042</th>\n",
       "      <td>best bloody mary brunch at the nycwff nyceff d...</td>\n",
       "      <td>brand</td>\n",
       "      <td>12</td>\n",
       "      <td>73</td>\n",
       "      <td>0.164384</td>\n",
       "      <td>0.150685</td>\n",
       "      <td>0.583333</td>\n",
       "      <td>0.000000</td>\n",
       "      <td>0.000000</td>\n",
       "      <td>0.000000</td>\n",
       "      <td>0.000000</td>\n",
       "      <td>0.083333</td>\n",
       "    </tr>\n",
       "    <tr>\n",
       "      <th>20045</th>\n",
       "      <td>lookupondeath fine and i ll drink tea too i l...</td>\n",
       "      <td>female</td>\n",
       "      <td>13</td>\n",
       "      <td>42</td>\n",
       "      <td>0.309524</td>\n",
       "      <td>0.285714</td>\n",
       "      <td>0.076923</td>\n",
       "      <td>0.230769</td>\n",
       "      <td>0.000000</td>\n",
       "      <td>0.076923</td>\n",
       "      <td>0.000000</td>\n",
       "      <td>0.000000</td>\n",
       "    </tr>\n",
       "  </tbody>\n",
       "</table>\n",
       "<p>18412 rows × 12 columns</p>\n",
       "</div>"
      ],
      "text/plain": [
       "                                                    text  gender  \\\n",
       "0      robbie e responds to critics after win against...    male   \n",
       "1      it felt like they were my friends and i was li...    male   \n",
       "2      i absolutely adore when louis starts the songs...    male   \n",
       "3      hi jordanspieth looking at the url do you use ...    male   \n",
       "4      watching neighbours on sky catching up with th...  female   \n",
       "...                                                  ...     ...   \n",
       "20032   legobutts you can do quests and kill stuff wh...    male   \n",
       "20034  view the community halloween spooktacular city...   brand   \n",
       "20036   itsleehinchy leesqanda what s the story in ba...  female   \n",
       "20042  best bloody mary brunch at the nycwff nyceff d...   brand   \n",
       "20045   lookupondeath fine and i ll drink tea too i l...  female   \n",
       "\n",
       "       LengthOfWord  CountChar  AveCharWord  RationSpaChar  \\\n",
       "0                14         72     0.194444       0.180556   \n",
       "1                18         66     0.272727       0.257576   \n",
       "2                16         65     0.246154       0.230769   \n",
       "3                21         84     0.250000       0.238095   \n",
       "4                11         53     0.207547       0.188679   \n",
       "...             ...        ...          ...            ...   \n",
       "20032            29        106     0.273585       0.264151   \n",
       "20034             9         62     0.145161       0.129032   \n",
       "20036            10         44     0.227273       0.204545   \n",
       "20042            12         73     0.164384       0.150685   \n",
       "20045            13         42     0.309524       0.285714   \n",
       "\n",
       "       Ratio6WordsTotalWord  ProWords  AuxiliaryVerbsAndWords  \\\n",
       "0                  0.428571  0.000000                0.000000   \n",
       "1                  0.166667  0.222222                0.111111   \n",
       "2                  0.125000  0.250000                0.000000   \n",
       "3                  0.238095  0.047619                0.047619   \n",
       "4                  0.363636  0.000000                0.000000   \n",
       "...                     ...       ...                     ...   \n",
       "20032              0.172414  0.137931                0.103448   \n",
       "20034              0.444444  0.000000                0.000000   \n",
       "20036              0.300000  0.000000                0.000000   \n",
       "20042              0.583333  0.000000                0.000000   \n",
       "20045              0.076923  0.230769                0.000000   \n",
       "\n",
       "       ConjunctionsAndWords  InterjectionsAndWords  PrepositionsAndWords  \n",
       "0                  0.071429               0.000000              0.285714  \n",
       "1                  0.055556               0.000000              0.111111  \n",
       "2                  0.062500               0.000000              0.062500  \n",
       "3                  0.000000               0.047619              0.095238  \n",
       "4                  0.000000               0.000000              0.272727  \n",
       "...                     ...                    ...                   ...  \n",
       "20032              0.103448               0.000000              0.068966  \n",
       "20034              0.000000               0.000000              0.000000  \n",
       "20036              0.000000               0.000000              0.100000  \n",
       "20042              0.000000               0.000000              0.083333  \n",
       "20045              0.076923               0.000000              0.000000  \n",
       "\n",
       "[18412 rows x 12 columns]"
      ]
     },
     "execution_count": 8,
     "metadata": {},
     "output_type": "execute_result"
    }
   ],
   "source": [
    "duplicate"
   ]
  },
  {
   "cell_type": "markdown",
   "metadata": {},
   "source": [
    "<b>Removal of text column</b>\n",
    "\n",
    "In this part of the code, we will now remove the 'text' column since we will not use it anymore and will no longer be significant in the dataset because we already created 10 most significant features or meta-attributes that is extracted from it."
   ]
  },
  {
   "cell_type": "code",
   "execution_count": 9,
   "metadata": {},
   "outputs": [
    {
     "data": {
      "text/html": [
       "<div>\n",
       "<style scoped>\n",
       "    .dataframe tbody tr th:only-of-type {\n",
       "        vertical-align: middle;\n",
       "    }\n",
       "\n",
       "    .dataframe tbody tr th {\n",
       "        vertical-align: top;\n",
       "    }\n",
       "\n",
       "    .dataframe thead th {\n",
       "        text-align: right;\n",
       "    }\n",
       "</style>\n",
       "<table border=\"1\" class=\"dataframe\">\n",
       "  <thead>\n",
       "    <tr style=\"text-align: right;\">\n",
       "      <th></th>\n",
       "      <th>gender</th>\n",
       "      <th>LengthOfWord</th>\n",
       "      <th>CountChar</th>\n",
       "      <th>AveCharWord</th>\n",
       "      <th>RationSpaChar</th>\n",
       "      <th>Ratio6WordsTotalWord</th>\n",
       "      <th>ProWords</th>\n",
       "      <th>AuxiliaryVerbsAndWords</th>\n",
       "      <th>ConjunctionsAndWords</th>\n",
       "      <th>InterjectionsAndWords</th>\n",
       "      <th>PrepositionsAndWords</th>\n",
       "    </tr>\n",
       "  </thead>\n",
       "  <tbody>\n",
       "    <tr>\n",
       "      <th>0</th>\n",
       "      <td>male</td>\n",
       "      <td>14</td>\n",
       "      <td>72</td>\n",
       "      <td>0.194444</td>\n",
       "      <td>0.180556</td>\n",
       "      <td>0.428571</td>\n",
       "      <td>0.000000</td>\n",
       "      <td>0.000000</td>\n",
       "      <td>0.071429</td>\n",
       "      <td>0.000000</td>\n",
       "      <td>0.285714</td>\n",
       "    </tr>\n",
       "    <tr>\n",
       "      <th>1</th>\n",
       "      <td>male</td>\n",
       "      <td>18</td>\n",
       "      <td>66</td>\n",
       "      <td>0.272727</td>\n",
       "      <td>0.257576</td>\n",
       "      <td>0.166667</td>\n",
       "      <td>0.222222</td>\n",
       "      <td>0.111111</td>\n",
       "      <td>0.055556</td>\n",
       "      <td>0.000000</td>\n",
       "      <td>0.111111</td>\n",
       "    </tr>\n",
       "    <tr>\n",
       "      <th>2</th>\n",
       "      <td>male</td>\n",
       "      <td>16</td>\n",
       "      <td>65</td>\n",
       "      <td>0.246154</td>\n",
       "      <td>0.230769</td>\n",
       "      <td>0.125000</td>\n",
       "      <td>0.250000</td>\n",
       "      <td>0.000000</td>\n",
       "      <td>0.062500</td>\n",
       "      <td>0.000000</td>\n",
       "      <td>0.062500</td>\n",
       "    </tr>\n",
       "    <tr>\n",
       "      <th>3</th>\n",
       "      <td>male</td>\n",
       "      <td>21</td>\n",
       "      <td>84</td>\n",
       "      <td>0.250000</td>\n",
       "      <td>0.238095</td>\n",
       "      <td>0.238095</td>\n",
       "      <td>0.047619</td>\n",
       "      <td>0.047619</td>\n",
       "      <td>0.000000</td>\n",
       "      <td>0.047619</td>\n",
       "      <td>0.095238</td>\n",
       "    </tr>\n",
       "    <tr>\n",
       "      <th>4</th>\n",
       "      <td>female</td>\n",
       "      <td>11</td>\n",
       "      <td>53</td>\n",
       "      <td>0.207547</td>\n",
       "      <td>0.188679</td>\n",
       "      <td>0.363636</td>\n",
       "      <td>0.000000</td>\n",
       "      <td>0.000000</td>\n",
       "      <td>0.000000</td>\n",
       "      <td>0.000000</td>\n",
       "      <td>0.272727</td>\n",
       "    </tr>\n",
       "  </tbody>\n",
       "</table>\n",
       "</div>"
      ],
      "text/plain": [
       "   gender  LengthOfWord  CountChar  AveCharWord  RationSpaChar  \\\n",
       "0    male            14         72     0.194444       0.180556   \n",
       "1    male            18         66     0.272727       0.257576   \n",
       "2    male            16         65     0.246154       0.230769   \n",
       "3    male            21         84     0.250000       0.238095   \n",
       "4  female            11         53     0.207547       0.188679   \n",
       "\n",
       "   Ratio6WordsTotalWord  ProWords  AuxiliaryVerbsAndWords  \\\n",
       "0              0.428571  0.000000                0.000000   \n",
       "1              0.166667  0.222222                0.111111   \n",
       "2              0.125000  0.250000                0.000000   \n",
       "3              0.238095  0.047619                0.047619   \n",
       "4              0.363636  0.000000                0.000000   \n",
       "\n",
       "   ConjunctionsAndWords  InterjectionsAndWords  PrepositionsAndWords  \n",
       "0              0.071429               0.000000              0.285714  \n",
       "1              0.055556               0.000000              0.111111  \n",
       "2              0.062500               0.000000              0.062500  \n",
       "3              0.000000               0.047619              0.095238  \n",
       "4              0.000000               0.000000              0.272727  "
      ]
     },
     "execution_count": 9,
     "metadata": {},
     "output_type": "execute_result"
    }
   ],
   "source": [
    "duplicate = pd.DataFrame(data_text_label)\n",
    "del duplicate['text']\n",
    "duplicate.head(5)"
   ]
  },
  {
   "cell_type": "markdown",
   "metadata": {},
   "source": [
    "<b>Shifting the gender column to the rightmost part of the data</b>\n",
    "\n",
    "We now only have 11 columns since we already remove the text column and we shifted the gender column to the rightmost part of the dataframe for a cleaner look in the data. "
   ]
  },
  {
   "cell_type": "code",
   "execution_count": 10,
   "metadata": {},
   "outputs": [],
   "source": [
    "column_to_shift = ['gender']\n",
    "duplicate = pd.concat([duplicate[duplicate.columns.difference(column_to_shift)], duplicate[column_to_shift]], axis=1)"
   ]
  },
  {
   "cell_type": "code",
   "execution_count": 11,
   "metadata": {},
   "outputs": [
    {
     "data": {
      "text/html": [
       "<div>\n",
       "<style scoped>\n",
       "    .dataframe tbody tr th:only-of-type {\n",
       "        vertical-align: middle;\n",
       "    }\n",
       "\n",
       "    .dataframe tbody tr th {\n",
       "        vertical-align: top;\n",
       "    }\n",
       "\n",
       "    .dataframe thead th {\n",
       "        text-align: right;\n",
       "    }\n",
       "</style>\n",
       "<table border=\"1\" class=\"dataframe\">\n",
       "  <thead>\n",
       "    <tr style=\"text-align: right;\">\n",
       "      <th></th>\n",
       "      <th>AuxiliaryVerbsAndWords</th>\n",
       "      <th>AveCharWord</th>\n",
       "      <th>ConjunctionsAndWords</th>\n",
       "      <th>CountChar</th>\n",
       "      <th>InterjectionsAndWords</th>\n",
       "      <th>LengthOfWord</th>\n",
       "      <th>PrepositionsAndWords</th>\n",
       "      <th>ProWords</th>\n",
       "      <th>Ratio6WordsTotalWord</th>\n",
       "      <th>RationSpaChar</th>\n",
       "      <th>gender</th>\n",
       "    </tr>\n",
       "  </thead>\n",
       "  <tbody>\n",
       "    <tr>\n",
       "      <th>0</th>\n",
       "      <td>0.000000</td>\n",
       "      <td>0.194444</td>\n",
       "      <td>0.071429</td>\n",
       "      <td>72</td>\n",
       "      <td>0.000000</td>\n",
       "      <td>14</td>\n",
       "      <td>0.285714</td>\n",
       "      <td>0.000000</td>\n",
       "      <td>0.428571</td>\n",
       "      <td>0.180556</td>\n",
       "      <td>male</td>\n",
       "    </tr>\n",
       "    <tr>\n",
       "      <th>1</th>\n",
       "      <td>0.111111</td>\n",
       "      <td>0.272727</td>\n",
       "      <td>0.055556</td>\n",
       "      <td>66</td>\n",
       "      <td>0.000000</td>\n",
       "      <td>18</td>\n",
       "      <td>0.111111</td>\n",
       "      <td>0.222222</td>\n",
       "      <td>0.166667</td>\n",
       "      <td>0.257576</td>\n",
       "      <td>male</td>\n",
       "    </tr>\n",
       "    <tr>\n",
       "      <th>2</th>\n",
       "      <td>0.000000</td>\n",
       "      <td>0.246154</td>\n",
       "      <td>0.062500</td>\n",
       "      <td>65</td>\n",
       "      <td>0.000000</td>\n",
       "      <td>16</td>\n",
       "      <td>0.062500</td>\n",
       "      <td>0.250000</td>\n",
       "      <td>0.125000</td>\n",
       "      <td>0.230769</td>\n",
       "      <td>male</td>\n",
       "    </tr>\n",
       "    <tr>\n",
       "      <th>3</th>\n",
       "      <td>0.047619</td>\n",
       "      <td>0.250000</td>\n",
       "      <td>0.000000</td>\n",
       "      <td>84</td>\n",
       "      <td>0.047619</td>\n",
       "      <td>21</td>\n",
       "      <td>0.095238</td>\n",
       "      <td>0.047619</td>\n",
       "      <td>0.238095</td>\n",
       "      <td>0.238095</td>\n",
       "      <td>male</td>\n",
       "    </tr>\n",
       "    <tr>\n",
       "      <th>4</th>\n",
       "      <td>0.000000</td>\n",
       "      <td>0.207547</td>\n",
       "      <td>0.000000</td>\n",
       "      <td>53</td>\n",
       "      <td>0.000000</td>\n",
       "      <td>11</td>\n",
       "      <td>0.272727</td>\n",
       "      <td>0.000000</td>\n",
       "      <td>0.363636</td>\n",
       "      <td>0.188679</td>\n",
       "      <td>female</td>\n",
       "    </tr>\n",
       "    <tr>\n",
       "      <th>...</th>\n",
       "      <td>...</td>\n",
       "      <td>...</td>\n",
       "      <td>...</td>\n",
       "      <td>...</td>\n",
       "      <td>...</td>\n",
       "      <td>...</td>\n",
       "      <td>...</td>\n",
       "      <td>...</td>\n",
       "      <td>...</td>\n",
       "      <td>...</td>\n",
       "      <td>...</td>\n",
       "    </tr>\n",
       "    <tr>\n",
       "      <th>20032</th>\n",
       "      <td>0.103448</td>\n",
       "      <td>0.273585</td>\n",
       "      <td>0.103448</td>\n",
       "      <td>106</td>\n",
       "      <td>0.000000</td>\n",
       "      <td>29</td>\n",
       "      <td>0.068966</td>\n",
       "      <td>0.137931</td>\n",
       "      <td>0.172414</td>\n",
       "      <td>0.264151</td>\n",
       "      <td>male</td>\n",
       "    </tr>\n",
       "    <tr>\n",
       "      <th>20034</th>\n",
       "      <td>0.000000</td>\n",
       "      <td>0.145161</td>\n",
       "      <td>0.000000</td>\n",
       "      <td>62</td>\n",
       "      <td>0.000000</td>\n",
       "      <td>9</td>\n",
       "      <td>0.000000</td>\n",
       "      <td>0.000000</td>\n",
       "      <td>0.444444</td>\n",
       "      <td>0.129032</td>\n",
       "      <td>brand</td>\n",
       "    </tr>\n",
       "    <tr>\n",
       "      <th>20036</th>\n",
       "      <td>0.000000</td>\n",
       "      <td>0.227273</td>\n",
       "      <td>0.000000</td>\n",
       "      <td>44</td>\n",
       "      <td>0.000000</td>\n",
       "      <td>10</td>\n",
       "      <td>0.100000</td>\n",
       "      <td>0.000000</td>\n",
       "      <td>0.300000</td>\n",
       "      <td>0.204545</td>\n",
       "      <td>female</td>\n",
       "    </tr>\n",
       "    <tr>\n",
       "      <th>20042</th>\n",
       "      <td>0.000000</td>\n",
       "      <td>0.164384</td>\n",
       "      <td>0.000000</td>\n",
       "      <td>73</td>\n",
       "      <td>0.000000</td>\n",
       "      <td>12</td>\n",
       "      <td>0.083333</td>\n",
       "      <td>0.000000</td>\n",
       "      <td>0.583333</td>\n",
       "      <td>0.150685</td>\n",
       "      <td>brand</td>\n",
       "    </tr>\n",
       "    <tr>\n",
       "      <th>20045</th>\n",
       "      <td>0.000000</td>\n",
       "      <td>0.309524</td>\n",
       "      <td>0.076923</td>\n",
       "      <td>42</td>\n",
       "      <td>0.000000</td>\n",
       "      <td>13</td>\n",
       "      <td>0.000000</td>\n",
       "      <td>0.230769</td>\n",
       "      <td>0.076923</td>\n",
       "      <td>0.285714</td>\n",
       "      <td>female</td>\n",
       "    </tr>\n",
       "  </tbody>\n",
       "</table>\n",
       "<p>18412 rows × 11 columns</p>\n",
       "</div>"
      ],
      "text/plain": [
       "       AuxiliaryVerbsAndWords  AveCharWord  ConjunctionsAndWords  CountChar  \\\n",
       "0                    0.000000     0.194444              0.071429         72   \n",
       "1                    0.111111     0.272727              0.055556         66   \n",
       "2                    0.000000     0.246154              0.062500         65   \n",
       "3                    0.047619     0.250000              0.000000         84   \n",
       "4                    0.000000     0.207547              0.000000         53   \n",
       "...                       ...          ...                   ...        ...   \n",
       "20032                0.103448     0.273585              0.103448        106   \n",
       "20034                0.000000     0.145161              0.000000         62   \n",
       "20036                0.000000     0.227273              0.000000         44   \n",
       "20042                0.000000     0.164384              0.000000         73   \n",
       "20045                0.000000     0.309524              0.076923         42   \n",
       "\n",
       "       InterjectionsAndWords  LengthOfWord  PrepositionsAndWords  ProWords  \\\n",
       "0                   0.000000            14              0.285714  0.000000   \n",
       "1                   0.000000            18              0.111111  0.222222   \n",
       "2                   0.000000            16              0.062500  0.250000   \n",
       "3                   0.047619            21              0.095238  0.047619   \n",
       "4                   0.000000            11              0.272727  0.000000   \n",
       "...                      ...           ...                   ...       ...   \n",
       "20032               0.000000            29              0.068966  0.137931   \n",
       "20034               0.000000             9              0.000000  0.000000   \n",
       "20036               0.000000            10              0.100000  0.000000   \n",
       "20042               0.000000            12              0.083333  0.000000   \n",
       "20045               0.000000            13              0.000000  0.230769   \n",
       "\n",
       "       Ratio6WordsTotalWord  RationSpaChar  gender  \n",
       "0                  0.428571       0.180556    male  \n",
       "1                  0.166667       0.257576    male  \n",
       "2                  0.125000       0.230769    male  \n",
       "3                  0.238095       0.238095    male  \n",
       "4                  0.363636       0.188679  female  \n",
       "...                     ...            ...     ...  \n",
       "20032              0.172414       0.264151    male  \n",
       "20034              0.444444       0.129032   brand  \n",
       "20036              0.300000       0.204545  female  \n",
       "20042              0.583333       0.150685   brand  \n",
       "20045              0.076923       0.285714  female  \n",
       "\n",
       "[18412 rows x 11 columns]"
      ]
     },
     "execution_count": 11,
     "metadata": {},
     "output_type": "execute_result"
    }
   ],
   "source": [
    "duplicate"
   ]
  },
  {
   "cell_type": "markdown",
   "metadata": {},
   "source": [
    "<b>Storing the 'duplicate' dataframe that we created where in there are 10 most significant features extracted already to the main variable of the data which is 'data_text_label'</b>"
   ]
  },
  {
   "cell_type": "code",
   "execution_count": 12,
   "metadata": {},
   "outputs": [],
   "source": [
    "data_text_label = duplicate"
   ]
  },
  {
   "cell_type": "markdown",
   "metadata": {},
   "source": [
    "<b>Analyzing the classes on the dependent variable</b>\n",
    "\n",
    "In this code, we are getting the number of records or occurences in the 'gender' per class. As of now, there are 5 classes in the dependent variable which are female, male, brand or typically a type of product or business manufactured by a particular company under a particular name, unknown or users that are not identified, and XXX refers to the null or missing values. "
   ]
  },
  {
   "cell_type": "code",
   "execution_count": 13,
   "metadata": {},
   "outputs": [
    {
     "data": {
      "text/plain": [
       "female     6573\n",
       "male       6136\n",
       "brand      4729\n",
       "unknown     877\n",
       "XXX          97\n",
       "Name: gender, dtype: int64"
      ]
     },
     "execution_count": 13,
     "metadata": {},
     "output_type": "execute_result"
    }
   ],
   "source": [
    "data_text_label['gender'].value_counts()\n",
    "#data_text_label['gender'].isnull().values.any()"
   ]
  },
  {
   "cell_type": "markdown",
   "metadata": {},
   "source": [
    "<b>Removal of insignificant classes in 'gender' and checking if there are still missing values</b>\n",
    "\n",
    "We remove the brand, unknown, and the missing or null values since we are only focused on the gender of the user which are male and female. Since gender carries rich and significant information concerning the male and female social activities. Then, we are checking if there are still any missing or null values and the output is 'False' meaning there are no missing values anymore."
   ]
  },
  {
   "cell_type": "code",
   "execution_count": 14,
   "metadata": {},
   "outputs": [
    {
     "data": {
      "text/plain": [
       "False"
      ]
     },
     "execution_count": 14,
     "metadata": {},
     "output_type": "execute_result"
    }
   ],
   "source": [
    "data_text_label = data_text_label[data_text_label['gender'] != 'brand']\n",
    "data_text_label = data_text_label[data_text_label['gender'] != 'unknown']\n",
    "data_text_label = data_text_label[data_text_label['gender'] != 'XXX']\n",
    "data_text_label['gender'].isnull().values.any()"
   ]
  },
  {
   "cell_type": "markdown",
   "metadata": {},
   "source": [
    "<b>Checking the shape of the dataset</b>\n",
    "\n",
    "After doing lots of data pre-processing techniques, we are just checking the shape of the dataset. Since we remove the 3 insignificant classes from 'gender' which are brand, unknown, and missing or null values. We remove the stopwords, duplicate records, and other insignificant values and noise in our data. The shape of our dataset is now (12709, 11) since there are 12709 records and 11 columns which are the gender and the 10 most significant extracted features because we are dealing with a text-based gender classifcation task."
   ]
  },
  {
   "cell_type": "code",
   "execution_count": 15,
   "metadata": {},
   "outputs": [
    {
     "data": {
      "text/plain": [
       "(12709, 11)"
      ]
     },
     "execution_count": 15,
     "metadata": {},
     "output_type": "execute_result"
    }
   ],
   "source": [
    "data_text_label['gender'].value_counts()\n",
    "data_text_label.shape"
   ]
  },
  {
   "cell_type": "markdown",
   "metadata": {},
   "source": [
    "<b>Converting values of 'gender' from string to int</b>\n",
    "\n",
    "In order to implement the machine learning models which are Naive Bayes and SVM from the dataset. The values of the data should be integer so that the model can process it. Since computer and machines cannot process strings but integers only. So we will convert 'Male' to 1 and 'Female' to 0 then store it in 'gender'."
   ]
  },
  {
   "cell_type": "code",
   "execution_count": 16,
   "metadata": {},
   "outputs": [],
   "source": [
    "def convert_gender(v):\n",
    "  if v == 'male':\n",
    "    return 1\n",
    "  elif v == 'female':\n",
    "    return 0\n",
    "\n",
    "data_text_label['gender'] = data_text_label.apply(lambda x: convert_gender(x['gender']), axis=1)"
   ]
  },
  {
   "cell_type": "markdown",
   "metadata": {},
   "source": [
    "Now we can see that the gender column has now integer values instead of string. 0 which represents 'Female' and 1 which represents 'Male'. "
   ]
  },
  {
   "cell_type": "code",
   "execution_count": 57,
   "metadata": {},
   "outputs": [
    {
     "data": {
      "text/html": [
       "<div>\n",
       "<style scoped>\n",
       "    .dataframe tbody tr th:only-of-type {\n",
       "        vertical-align: middle;\n",
       "    }\n",
       "\n",
       "    .dataframe tbody tr th {\n",
       "        vertical-align: top;\n",
       "    }\n",
       "\n",
       "    .dataframe thead th {\n",
       "        text-align: right;\n",
       "    }\n",
       "</style>\n",
       "<table border=\"1\" class=\"dataframe\">\n",
       "  <thead>\n",
       "    <tr style=\"text-align: right;\">\n",
       "      <th></th>\n",
       "      <th>AuxiliaryVerbsAndWords</th>\n",
       "      <th>AveCharWord</th>\n",
       "      <th>ConjunctionsAndWords</th>\n",
       "      <th>CountChar</th>\n",
       "      <th>InterjectionsAndWords</th>\n",
       "      <th>LengthOfWord</th>\n",
       "      <th>PrepositionsAndWords</th>\n",
       "      <th>ProWords</th>\n",
       "      <th>Ratio6WordsTotalWord</th>\n",
       "      <th>RationSpaChar</th>\n",
       "      <th>gender</th>\n",
       "    </tr>\n",
       "  </thead>\n",
       "  <tbody>\n",
       "    <tr>\n",
       "      <th>0</th>\n",
       "      <td>0.000000</td>\n",
       "      <td>0.194444</td>\n",
       "      <td>0.071429</td>\n",
       "      <td>72</td>\n",
       "      <td>0.000000</td>\n",
       "      <td>14</td>\n",
       "      <td>0.285714</td>\n",
       "      <td>0.000000</td>\n",
       "      <td>0.428571</td>\n",
       "      <td>0.180556</td>\n",
       "      <td>1</td>\n",
       "    </tr>\n",
       "    <tr>\n",
       "      <th>1</th>\n",
       "      <td>0.111111</td>\n",
       "      <td>0.272727</td>\n",
       "      <td>0.055556</td>\n",
       "      <td>66</td>\n",
       "      <td>0.000000</td>\n",
       "      <td>18</td>\n",
       "      <td>0.111111</td>\n",
       "      <td>0.222222</td>\n",
       "      <td>0.166667</td>\n",
       "      <td>0.257576</td>\n",
       "      <td>1</td>\n",
       "    </tr>\n",
       "    <tr>\n",
       "      <th>2</th>\n",
       "      <td>0.000000</td>\n",
       "      <td>0.246154</td>\n",
       "      <td>0.062500</td>\n",
       "      <td>65</td>\n",
       "      <td>0.000000</td>\n",
       "      <td>16</td>\n",
       "      <td>0.062500</td>\n",
       "      <td>0.250000</td>\n",
       "      <td>0.125000</td>\n",
       "      <td>0.230769</td>\n",
       "      <td>1</td>\n",
       "    </tr>\n",
       "    <tr>\n",
       "      <th>3</th>\n",
       "      <td>0.047619</td>\n",
       "      <td>0.250000</td>\n",
       "      <td>0.000000</td>\n",
       "      <td>84</td>\n",
       "      <td>0.047619</td>\n",
       "      <td>21</td>\n",
       "      <td>0.095238</td>\n",
       "      <td>0.047619</td>\n",
       "      <td>0.238095</td>\n",
       "      <td>0.238095</td>\n",
       "      <td>1</td>\n",
       "    </tr>\n",
       "    <tr>\n",
       "      <th>4</th>\n",
       "      <td>0.000000</td>\n",
       "      <td>0.207547</td>\n",
       "      <td>0.000000</td>\n",
       "      <td>53</td>\n",
       "      <td>0.000000</td>\n",
       "      <td>11</td>\n",
       "      <td>0.272727</td>\n",
       "      <td>0.000000</td>\n",
       "      <td>0.363636</td>\n",
       "      <td>0.188679</td>\n",
       "      <td>0</td>\n",
       "    </tr>\n",
       "  </tbody>\n",
       "</table>\n",
       "</div>"
      ],
      "text/plain": [
       "   AuxiliaryVerbsAndWords  AveCharWord  ConjunctionsAndWords  CountChar  \\\n",
       "0                0.000000     0.194444              0.071429         72   \n",
       "1                0.111111     0.272727              0.055556         66   \n",
       "2                0.000000     0.246154              0.062500         65   \n",
       "3                0.047619     0.250000              0.000000         84   \n",
       "4                0.000000     0.207547              0.000000         53   \n",
       "\n",
       "   InterjectionsAndWords  LengthOfWord  PrepositionsAndWords  ProWords  \\\n",
       "0               0.000000            14              0.285714  0.000000   \n",
       "1               0.000000            18              0.111111  0.222222   \n",
       "2               0.000000            16              0.062500  0.250000   \n",
       "3               0.047619            21              0.095238  0.047619   \n",
       "4               0.000000            11              0.272727  0.000000   \n",
       "\n",
       "   Ratio6WordsTotalWord  RationSpaChar  gender  \n",
       "0              0.428571       0.180556       1  \n",
       "1              0.166667       0.257576       1  \n",
       "2              0.125000       0.230769       1  \n",
       "3              0.238095       0.238095       1  \n",
       "4              0.363636       0.188679       0  "
      ]
     },
     "execution_count": 57,
     "metadata": {},
     "output_type": "execute_result"
    }
   ],
   "source": [
    "data_text_label.head(5)\n"
   ]
  },
  {
   "cell_type": "markdown",
   "metadata": {},
   "source": [
    "### 4. Implementation of Gender Classification using SVM and Naive Bayes"
   ]
  },
  {
   "cell_type": "markdown",
   "metadata": {},
   "source": [
    "In this gender classification task, we will be implementing two machine learning algorithms which are:\n",
    "1. <b>SVM (Support Vector Machine)</b> - is a supervised machine learning algorithm used for classification and regression problems. However, SVM is used most likely in classification problems. SVM works by plotting each data item as a point in n-dimensional space (where n is the number of features or independent variables that the dataset has) with the value of a particular coordinate which is the value of each feature. Then, perform classification by finding the hyper-plane that differentiates the two classes very well.\n",
    "2. <b>Naive Bayes</b> - is a powerful probabilistic machine learning algorithm that is used for classification. Naive Bayes works by using the Bayes’ Theorem which is predicting the probabilities for each class such as the probability of that given record or data point belongs to a particular class. The class or category with the highest probability is considered as the most likely class. This study will specifically implement Multinomial Naive Bayes, the only difference of it with Naive Bayes is that it is a multinomial distribution which requires integer feature counts, rather than some other distribution. This works well and is suitable for classification with discrete features, such as word counts in text which is one of the features."
   ]
  },
  {
   "cell_type": "markdown",
   "metadata": {},
   "source": [
    "# Raw Dataset Accuracy"
   ]
  },
  {
   "cell_type": "markdown",
   "metadata": {},
   "source": [
    "<b>Splitting the dataset into training data and testing data</b>\n",
    "\n",
    "First step is of course we need to split the dataset into training data and testing data. In this case we set the test size as 25% making the training size 75% and adjusted the 'random_state' to 69 since it is the optimal value. \n",
    "1. <b>Training data</b> - is used to fit the machine learning model.\n",
    "2. <b>Testing data</b> - is used to evaluate the fit machine learning model."
   ]
  },
  {
   "cell_type": "code",
   "execution_count": 58,
   "metadata": {},
   "outputs": [
    {
     "name": "stdout",
     "output_type": "stream",
     "text": [
      "(9531, 10)\n",
      "(3178, 10)\n",
      "(9531,)\n",
      "(3178,)\n",
      "Testing Data\n",
      "Male  Count:  1525\n",
      "Female Count:  1653\n",
      "Training Data\n",
      "Male  Count:  4611\n",
      "Female Count:  4920\n"
     ]
    }
   ],
   "source": [
    "from sklearn.model_selection import train_test_split\n",
    "X = data_text_label[[\"AuxiliaryVerbsAndWords\", \"AveCharWord\", 'ConjunctionsAndWords', \"CountChar\", 'InterjectionsAndWords', \"LengthOfWord\", 'PrepositionsAndWords', 'ProWords', \"Ratio6WordsTotalWord\", \"RationSpaChar\"]]\n",
    "y = data_text_label[\"gender\"]\n",
    "X_train, X_test, y_train, y_test = train_test_split(X, y, test_size=0.25, random_state=69)\n",
    "\n",
    "print(X_train.shape)\n",
    "print(X_test.shape)\n",
    "print(y_train.shape)\n",
    "print(y_test.shape)\n",
    "male_count = 0\n",
    "female_count = 0\n",
    "\n",
    "for i in y_test:\n",
    "    if(i==1):\n",
    "        male_count+=1\n",
    "    else:\n",
    "        female_count+=1\n",
    "\n",
    "        \n",
    "        \n",
    "print(\"Testing Data\")\n",
    "print(\"Male  Count: \", male_count)\n",
    "print(\"Female Count: \", female_count)\n",
    "\n",
    "male_count = 0\n",
    "female_count = 0\n",
    "\n",
    "for i in y_train:\n",
    "    if(i==1):\n",
    "        male_count+=1\n",
    "    else:\n",
    "        female_count+=1\n",
    "\n",
    "        \n",
    "        \n",
    "print(\"Training Data\")\n",
    "print(\"Male  Count: \", male_count)\n",
    "print(\"Female Count: \", female_count)"
   ]
  },
  {
   "cell_type": "markdown",
   "metadata": {},
   "source": [
    "After splitting the dataset into training data and testing data, we will now proceed in training the training data and fit it in the Support Vector Machine (SVM) model specifically in the Support Vector Classification (SVC). The parameters used in SVM are the following:\n",
    "1. <b>C</b> - is the regularization parameter. The strength of the regularization is inversely proportional to C. The value of C is set to its default value which is 1.0 since it is the optimal value in this case. \n",
    "2. <b>kernel</b> - is the kernel type to be used in the algorithm. The kernel that we used is 'linear' since the data can be linearly separable.\n",
    "\n",
    "After fitting the training data into the SVM model, we will now proceed to prediction of outcomes using the testing data. Then, we will get the obtained accuracy score from the SVM model that we created which is 56%."
   ]
  },
  {
   "cell_type": "code",
   "execution_count": 19,
   "metadata": {},
   "outputs": [
    {
     "name": "stdout",
     "output_type": "stream",
     "text": [
      "SVM Accuracy Score ->  55.72687224669603\n",
      "Accuracy: 0.557269\n",
      "Precision: 0.546094\n",
      "Recall: 0.458361\n",
      "F1 score: 0.498396\n"
     ]
    }
   ],
   "source": [
    "from sklearn import svm\n",
    "from sklearn.metrics import accuracy_score\n",
    "from sklearn.metrics import classification_report\n",
    "\n",
    "SVM = svm.SVC(C=1.0, kernel='linear', degree=3, gamma=\"auto\", class_weight = None)\n",
    "SVM.fit(X_train, y_train)\n",
    "predictions_SVM = SVM.predict(X_test)\n",
    "\n",
    "\n",
    "\n",
    "# Use accuracy_score function to get the accuracy\n",
    "print(\"SVM Accuracy Score -> \", accuracy_score(predictions_SVM, y_test)*100)\n",
    "\n",
    "\n",
    "\n",
    "from sklearn.metrics import precision_score\n",
    "from sklearn.metrics import recall_score\n",
    "from sklearn.metrics import f1_score\n",
    "# accuracy: (tp + tn) / (p + n)\n",
    "accuracy = accuracy_score(y_test, predictions_SVM)\n",
    "print('Accuracy: %f' % accuracy)\n",
    "# precision tp / (tp + fp)\n",
    "precision = precision_score(y_test, predictions_SVM)\n",
    "print('Precision: %f' % precision)\n",
    "# recall: tp / (tp + fn)\n",
    "recall = recall_score(y_test, predictions_SVM)\n",
    "print('Recall: %f' % recall)\n",
    "# f1: 2 tp / (2 tp + fp + fn)\n",
    "f1 = f1_score(y_test, predictions_SVM)\n",
    "print('F1 score: %f' % f1)"
   ]
  },
  {
   "cell_type": "code",
   "execution_count": 20,
   "metadata": {},
   "outputs": [
    {
     "data": {
      "text/html": [
       "<div>\n",
       "<style scoped>\n",
       "    .dataframe tbody tr th:only-of-type {\n",
       "        vertical-align: middle;\n",
       "    }\n",
       "\n",
       "    .dataframe tbody tr th {\n",
       "        vertical-align: top;\n",
       "    }\n",
       "\n",
       "    .dataframe thead th {\n",
       "        text-align: right;\n",
       "    }\n",
       "</style>\n",
       "<table border=\"1\" class=\"dataframe\">\n",
       "  <thead>\n",
       "    <tr style=\"text-align: right;\">\n",
       "      <th></th>\n",
       "      <th>0</th>\n",
       "      <th>1</th>\n",
       "    </tr>\n",
       "  </thead>\n",
       "  <tbody>\n",
       "    <tr>\n",
       "      <th>0</th>\n",
       "      <td>1072</td>\n",
       "      <td>581</td>\n",
       "    </tr>\n",
       "    <tr>\n",
       "      <th>1</th>\n",
       "      <td>826</td>\n",
       "      <td>699</td>\n",
       "    </tr>\n",
       "  </tbody>\n",
       "</table>\n",
       "</div>"
      ],
      "text/plain": [
       "      0    1\n",
       "0  1072  581\n",
       "1   826  699"
      ]
     },
     "execution_count": 20,
     "metadata": {},
     "output_type": "execute_result"
    }
   ],
   "source": [
    "from sklearn.metrics import confusion_matrix\n",
    "labels = np.unique(y_test)\n",
    "cmtx =  confusion_matrix(y_test, predictions_SVM, labels=labels)\n",
    "\n",
    "pd.DataFrame(cmtx, index=labels, columns=labels)\n"
   ]
  },
  {
   "cell_type": "markdown",
   "metadata": {},
   "source": [
    "After implementing the gender classification task using Support Vector Machine (SVM), we will now implement it using Naive Bayes specifically Multinomial Naive Bayes since it works well on discrete features, such as word counts in text. The parameter used in Multinomial Naive Bayes is:\n",
    "1. <b>alpha</b> - is the smoothing parameter (0 for no smoothing). In this case, we used the default value of '1.0' since it is the optimal value. \n",
    "\n",
    "We will now create the Multinomial Naive Bayes model by training the training data and fit it in the Multinomial Naive Bayes model. "
   ]
  },
  {
   "cell_type": "code",
   "execution_count": 21,
   "metadata": {},
   "outputs": [],
   "source": [
    "# https://scikit-learn.org/stable/modules/naive_bayes.html\n",
    "from sklearn.naive_bayes import MultinomialNB\n",
    "\n",
    "model = MultinomialNB(alpha=1.0).fit(X_train, y_train)"
   ]
  },
  {
   "cell_type": "markdown",
   "metadata": {},
   "source": [
    "After fitting the training data into the Multinomial Naive Bayes model, we will now proceed to prediction of outcomes using the testing data. Then, we will get the obtained accuracy score from the Multinomial Naive Bayes model that we created which is 55%."
   ]
  },
  {
   "cell_type": "code",
   "execution_count": 22,
   "metadata": {},
   "outputs": [
    {
     "name": "stdout",
     "output_type": "stream",
     "text": [
      "Naive Bayes Accuracy Score ->  55.12901195720579\n",
      "Accuracy: 0.551290\n",
      "Precision: 0.586087\n",
      "Recall: 0.220984\n",
      "F1 score: 0.320952\n"
     ]
    }
   ],
   "source": [
    "import numpy as np\n",
    "\n",
    "predicted = model.predict(X_test)\n",
    "print(\"Naive Bayes Accuracy Score -> \", np.mean(predicted == y_test)*100)\n",
    "from sklearn.metrics import precision_score\n",
    "from sklearn.metrics import recall_score\n",
    "from sklearn.metrics import f1_score\n",
    "# accuracy: (tp + tn) / (p + n)\n",
    "accuracy = accuracy_score(y_test, predicted)\n",
    "print('Accuracy: %f' % accuracy)\n",
    "# precision tp / (tp + fp)\n",
    "precision = precision_score(y_test, predicted)\n",
    "print('Precision: %f' % precision)\n",
    "# recall: tp / (tp + fn)\n",
    "recall = recall_score(y_test, predicted)\n",
    "print('Recall: %f' % recall)\n",
    "# f1: 2 tp / (2 tp + fp + fn)\n",
    "f1 = f1_score(y_test, predicted)\n",
    "print('F1 score: %f' % f1)"
   ]
  },
  {
   "cell_type": "code",
   "execution_count": 23,
   "metadata": {},
   "outputs": [
    {
     "data": {
      "text/html": [
       "<div>\n",
       "<style scoped>\n",
       "    .dataframe tbody tr th:only-of-type {\n",
       "        vertical-align: middle;\n",
       "    }\n",
       "\n",
       "    .dataframe tbody tr th {\n",
       "        vertical-align: top;\n",
       "    }\n",
       "\n",
       "    .dataframe thead th {\n",
       "        text-align: right;\n",
       "    }\n",
       "</style>\n",
       "<table border=\"1\" class=\"dataframe\">\n",
       "  <thead>\n",
       "    <tr style=\"text-align: right;\">\n",
       "      <th></th>\n",
       "      <th>0</th>\n",
       "      <th>1</th>\n",
       "    </tr>\n",
       "  </thead>\n",
       "  <tbody>\n",
       "    <tr>\n",
       "      <th>0</th>\n",
       "      <td>1415</td>\n",
       "      <td>238</td>\n",
       "    </tr>\n",
       "    <tr>\n",
       "      <th>1</th>\n",
       "      <td>1188</td>\n",
       "      <td>337</td>\n",
       "    </tr>\n",
       "  </tbody>\n",
       "</table>\n",
       "</div>"
      ],
      "text/plain": [
       "      0    1\n",
       "0  1415  238\n",
       "1  1188  337"
      ]
     },
     "execution_count": 23,
     "metadata": {},
     "output_type": "execute_result"
    }
   ],
   "source": [
    "from sklearn.metrics import confusion_matrix\n",
    "labels = np.unique(y_test)\n",
    "cmtx =  confusion_matrix(y_test, predicted, labels=labels)\n",
    "\n",
    "pd.DataFrame(cmtx, index=labels, columns=labels)"
   ]
  },
  {
   "cell_type": "code",
   "execution_count": 24,
   "metadata": {},
   "outputs": [
    {
     "data": {
      "image/png": "[encoded data removed]",
      "text/plain": [
       "<Figure size 432x288 with 1 Axes>"
      ]
     },
     "metadata": {
      "needs_background": "light"
     },
     "output_type": "display_data"
    }
   ],
   "source": [
    "import matplotlib.pyplot as plt\n",
    "\n",
    "x_units = ['SVM', 'Naive Bayes']\n",
    "\n",
    "y_units = [f1_score(predictions_SVM, y_test)*100, f1_score(predicted, y_test)*100]\n",
    "\n",
    "model_label = ['SVM', 'Naive Bayes']\n",
    "\n",
    "plt.bar(x_units, y_units, tick_label=model_label,\n",
    "        width=0.8, color=['red', 'blue'])\n",
    "\n",
    "plt.xlabel('Machine Learning Algorithm')\n",
    "plt.ylabel('F1 Score')\n",
    "plt.title('SVM Vs. Naive Bayes')\n",
    "\n",
    " \n",
    "\n",
    "plt.show()"
   ]
  },
  {
   "cell_type": "markdown",
   "metadata": {},
   "source": [
    "# Parameter Tuning(C, alpha)"
   ]
  },
  {
   "cell_type": "code",
   "execution_count": 25,
   "metadata": {},
   "outputs": [
    {
     "name": "stdout",
     "output_type": "stream",
     "text": [
      "SVM Accuracy Score ->  55.31780994336061\n",
      "Accuracy: 0.553178\n",
      "Precision: 0.541634\n",
      "Recall: 0.447869\n",
      "F1 score: 0.490309\n"
     ]
    }
   ],
   "source": [
    "from sklearn import svm\n",
    "from sklearn.metrics import accuracy_score\n",
    "from sklearn.metrics import classification_report\n",
    "\n",
    "SVM = svm.SVC(C=10.0, kernel='linear')\n",
    "SVM.fit(X_train, y_train)\n",
    "predictions_SVM = SVM.predict(X_test)\n",
    "# Use accuracy_score function to get the accuracy\n",
    "print(\"SVM Accuracy Score -> \", accuracy_score(predictions_SVM, y_test)*100)\n",
    "from sklearn.metrics import precision_score\n",
    "from sklearn.metrics import recall_score\n",
    "from sklearn.metrics import f1_score\n",
    "# accuracy: (tp + tn) / (p + n)\n",
    "accuracy = accuracy_score(y_test, predictions_SVM)\n",
    "print('Accuracy: %f' % accuracy)\n",
    "# precision tp / (tp + fp)\n",
    "precision = precision_score(y_test, predictions_SVM)\n",
    "print('Precision: %f' % precision)\n",
    "# recall: tp / (tp + fn)\n",
    "recall = recall_score(y_test, predictions_SVM)\n",
    "print('Recall: %f' % recall)\n",
    "# f1: 2 tp / (2 tp + fp + fn)\n",
    "f1 = f1_score(y_test, predictions_SVM)\n",
    "print('F1 score: %f' % f1)"
   ]
  },
  {
   "cell_type": "code",
   "execution_count": 26,
   "metadata": {},
   "outputs": [
    {
     "name": "stdout",
     "output_type": "stream",
     "text": [
      "Naive Bayes Accuracy Score ->  0.552863436123348\n",
      "Accuracy: 0.552863\n",
      "Precision: 0.588737\n",
      "Recall: 0.226230\n",
      "F1 score: 0.326859\n"
     ]
    }
   ],
   "source": [
    "# https://scikit-learn.org/stable/modules/naive_bayes.html\n",
    "from sklearn.naive_bayes import MultinomialNB\n",
    "\n",
    "model = MultinomialNB(alpha=10.0).fit(X_train, y_train)\n",
    "import numpy as np\n",
    "\n",
    "predicted = model.predict(X_test)\n",
    "\n",
    "\n",
    "print(\"Naive Bayes Accuracy Score -> \", np.mean(predicted == y_test))\n",
    "\n",
    "from sklearn.metrics import precision_score\n",
    "from sklearn.metrics import recall_score\n",
    "from sklearn.metrics import f1_score\n",
    "# accuracy: (tp + tn) / (p + n)\n",
    "accuracy = accuracy_score(y_test, predicted)\n",
    "print('Accuracy: %f' % accuracy)\n",
    "# precision tp / (tp + fp)\n",
    "precision = precision_score(y_test, predicted)\n",
    "print('Precision: %f' % precision)\n",
    "# recall: tp / (tp + fn)\n",
    "recall = recall_score(y_test, predicted)\n",
    "print('Recall: %f' % recall)\n",
    "# f1: 2 tp / (2 tp + fp + fn)\n",
    "f1 = f1_score(y_test, predicted)\n",
    "print('F1 score: %f' % f1)\n"
   ]
  },
  {
   "cell_type": "markdown",
   "metadata": {},
   "source": [
    "### 5. Application of Pre-Processing Techniques "
   ]
  },
  {
   "cell_type": "markdown",
   "metadata": {},
   "source": [
    "More pre-processing techniques are applied for experimentation to analyze which will increase the accuracy and performance of each model since many machine learning algorithms perform better when features are on a similar scale and near to normally distributed. The pre-processing techniques performed in the two machine learning models which are Multinomial Naive Bayes and Support Vector Machine (SVM) are:\n",
    "1. <b>StandardScaler</b> - standardize features by removing the mean and scaling to unit variance\n",
    "2. <b>MinMaxScaler</b> - transform features by scaling each feature to a given range.\n",
    "3. <b>Normalizer</b> - normalize samples individually to unit norm."
   ]
  },
  {
   "cell_type": "markdown",
   "metadata": {},
   "source": [
    "# Standard Scaler"
   ]
  },
  {
   "cell_type": "code",
   "execution_count": 27,
   "metadata": {},
   "outputs": [],
   "source": [
    "from sklearn.model_selection import train_test_split\n",
    "X = data_text_label[[\"AuxiliaryVerbsAndWords\", \"AveCharWord\", 'ConjunctionsAndWords', \"CountChar\", 'InterjectionsAndWords', \"LengthOfWord\", 'PrepositionsAndWords', 'ProWords', \"Ratio6WordsTotalWord\", \"RationSpaChar\"]]\n",
    "y = data_text_label[\"gender\"]\n",
    "X_train, X_test, y_train, y_test = train_test_split(X, y, test_size=0.25, random_state=69)\n",
    "\n",
    "from sklearn.preprocessing import StandardScaler\n",
    "scaler = StandardScaler(with_mean=False)\n",
    "scaler.fit(X_train) \n",
    "X_train = scaler.transform(X_train)\n",
    "X_test = scaler.transform(X_test)\n",
    "#print(X_train.shape)\n",
    "#print(X_test.shape)\n",
    "#print(y_train.shape)\n",
    "#print(y_test.shape)"
   ]
  },
  {
   "cell_type": "code",
   "execution_count": 28,
   "metadata": {},
   "outputs": [
    {
     "name": "stdout",
     "output_type": "stream",
     "text": [
      "SVM Accuracy Score ->  55.2863436123348\n",
      "Accuracy: 0.552863\n",
      "Precision: 0.537901\n",
      "Recall: 0.483934\n",
      "F1 score: 0.509493\n"
     ]
    }
   ],
   "source": [
    "from sklearn import svm\n",
    "from sklearn.metrics import accuracy_score\n",
    "SVM = svm.SVC(C=1.0, kernel='linear', degree=3, gamma=\"auto\", class_weight = None)\n",
    "SVM.fit(X_train, y_train)\n",
    "predictions_SVM = SVM.predict(X_test)\n",
    "\n",
    "\n",
    "\n",
    "# Use accuracy_score function to get the accuracy\n",
    "print(\"SVM Accuracy Score -> \", accuracy_score(predictions_SVM, y_test)*100)\n",
    "from sklearn.metrics import precision_score\n",
    "from sklearn.metrics import recall_score\n",
    "from sklearn.metrics import f1_score\n",
    "# accuracy: (tp + tn) / (p + n)\n",
    "accuracy = accuracy_score(y_test, predictions_SVM)\n",
    "print('Accuracy: %f' % accuracy)\n",
    "# precision tp / (tp + fp)\n",
    "precision = precision_score(y_test, predictions_SVM)\n",
    "print('Precision: %f' % precision)\n",
    "# recall: tp / (tp + fn)\n",
    "recall = recall_score(y_test, predictions_SVM)\n",
    "print('Recall: %f' % recall)\n",
    "# f1: 2 tp / (2 tp + fp + fn)\n",
    "f1 = f1_score(y_test, predictions_SVM)\n",
    "print('F1 score: %f' % f1)"
   ]
  },
  {
   "cell_type": "code",
   "execution_count": 29,
   "metadata": {},
   "outputs": [
    {
     "data": {
      "text/html": [
       "<div>\n",
       "<style scoped>\n",
       "    .dataframe tbody tr th:only-of-type {\n",
       "        vertical-align: middle;\n",
       "    }\n",
       "\n",
       "    .dataframe tbody tr th {\n",
       "        vertical-align: top;\n",
       "    }\n",
       "\n",
       "    .dataframe thead th {\n",
       "        text-align: right;\n",
       "    }\n",
       "</style>\n",
       "<table border=\"1\" class=\"dataframe\">\n",
       "  <thead>\n",
       "    <tr style=\"text-align: right;\">\n",
       "      <th></th>\n",
       "      <th>0</th>\n",
       "      <th>1</th>\n",
       "    </tr>\n",
       "  </thead>\n",
       "  <tbody>\n",
       "    <tr>\n",
       "      <th>0</th>\n",
       "      <td>1019</td>\n",
       "      <td>634</td>\n",
       "    </tr>\n",
       "    <tr>\n",
       "      <th>1</th>\n",
       "      <td>787</td>\n",
       "      <td>738</td>\n",
       "    </tr>\n",
       "  </tbody>\n",
       "</table>\n",
       "</div>"
      ],
      "text/plain": [
       "      0    1\n",
       "0  1019  634\n",
       "1   787  738"
      ]
     },
     "execution_count": 29,
     "metadata": {},
     "output_type": "execute_result"
    }
   ],
   "source": [
    "from sklearn.metrics import confusion_matrix\n",
    "labels = np.unique(y_test)\n",
    "cmtx =  confusion_matrix(y_test,predictions_SVM, labels=labels)\n",
    "\n",
    "pd.DataFrame(cmtx, index=labels, columns=labels)"
   ]
  },
  {
   "cell_type": "code",
   "execution_count": 30,
   "metadata": {},
   "outputs": [],
   "source": [
    "# https://scikit-learn.org/stable/modules/naive_bayes.html\n",
    "from sklearn.naive_bayes import MultinomialNB\n",
    "\n",
    "model = MultinomialNB(alpha=1.0).fit(X_train, y_train)"
   ]
  },
  {
   "cell_type": "code",
   "execution_count": 31,
   "metadata": {},
   "outputs": [
    {
     "name": "stdout",
     "output_type": "stream",
     "text": [
      "Naive Bayes Accuracy Score ->  56.167400881057276\n",
      "Accuracy: 0.561674\n",
      "Precision: 0.548105\n",
      "Recall: 0.493115\n",
      "F1 score: 0.519158\n"
     ]
    }
   ],
   "source": [
    "import numpy as np\n",
    "from sklearn.model_selection import train_test_split\n",
    "X = data_text_label[[\"AuxiliaryVerbsAndWords\", \"AveCharWord\", 'ConjunctionsAndWords', \"CountChar\", 'InterjectionsAndWords', \"LengthOfWord\", 'PrepositionsAndWords', 'ProWords', \"Ratio6WordsTotalWord\", \"RationSpaChar\"]]\n",
    "y = data_text_label[\"gender\"]\n",
    "X_train, X_test, y_train, y_test = train_test_split(X, y, test_size=0.25, random_state=69)\n",
    "\n",
    "from sklearn.preprocessing import StandardScaler\n",
    "scaler = StandardScaler(with_mean=False)\n",
    "scaler.fit(X_train) \n",
    "X_train = scaler.transform(X_train)\n",
    "X_test = scaler.transform(X_test)\n",
    "predicted = model.predict(X_test)\n",
    "\n",
    "print(\"Naive Bayes Accuracy Score -> \", np.mean(predicted == y_test)*100)\n",
    "from sklearn.metrics import precision_score\n",
    "from sklearn.metrics import recall_score\n",
    "from sklearn.metrics import f1_score\n",
    "# accuracy: (tp + tn) / (p + n)\n",
    "accuracy = accuracy_score(y_test, predicted)\n",
    "print('Accuracy: %f' % accuracy)\n",
    "# precision tp / (tp + fp)\n",
    "precision = precision_score(y_test, predicted)\n",
    "print('Precision: %f' % precision)\n",
    "# recall: tp / (tp + fn)\n",
    "recall = recall_score(y_test, predicted)\n",
    "print('Recall: %f' % recall)\n",
    "# f1: 2 tp / (2 tp + fp + fn)\n",
    "f1 = f1_score(y_test, predicted)\n",
    "print('F1 score: %f' % f1)"
   ]
  },
  {
   "cell_type": "code",
   "execution_count": 32,
   "metadata": {},
   "outputs": [
    {
     "data": {
      "text/html": [
       "<div>\n",
       "<style scoped>\n",
       "    .dataframe tbody tr th:only-of-type {\n",
       "        vertical-align: middle;\n",
       "    }\n",
       "\n",
       "    .dataframe tbody tr th {\n",
       "        vertical-align: top;\n",
       "    }\n",
       "\n",
       "    .dataframe thead th {\n",
       "        text-align: right;\n",
       "    }\n",
       "</style>\n",
       "<table border=\"1\" class=\"dataframe\">\n",
       "  <thead>\n",
       "    <tr style=\"text-align: right;\">\n",
       "      <th></th>\n",
       "      <th>0</th>\n",
       "      <th>1</th>\n",
       "    </tr>\n",
       "  </thead>\n",
       "  <tbody>\n",
       "    <tr>\n",
       "      <th>0</th>\n",
       "      <td>1033</td>\n",
       "      <td>620</td>\n",
       "    </tr>\n",
       "    <tr>\n",
       "      <th>1</th>\n",
       "      <td>773</td>\n",
       "      <td>752</td>\n",
       "    </tr>\n",
       "  </tbody>\n",
       "</table>\n",
       "</div>"
      ],
      "text/plain": [
       "      0    1\n",
       "0  1033  620\n",
       "1   773  752"
      ]
     },
     "execution_count": 32,
     "metadata": {},
     "output_type": "execute_result"
    }
   ],
   "source": [
    "from sklearn.metrics import confusion_matrix\n",
    "labels = np.unique(y_test)\n",
    "cmtx =  confusion_matrix(y_test, predicted, labels=labels)\n",
    "\n",
    "pd.DataFrame(cmtx, index=labels, columns=labels)"
   ]
  },
  {
   "cell_type": "code",
   "execution_count": 33,
   "metadata": {},
   "outputs": [
    {
     "data": {
      "image/png": "[encoded data removed]",
      "text/plain": [
       "<Figure size 432x288 with 1 Axes>"
      ]
     },
     "metadata": {
      "needs_background": "light"
     },
     "output_type": "display_data"
    }
   ],
   "source": [
    "import matplotlib.pyplot as plt\n",
    "\n",
    "x_units = ['SVM', 'Naive Bayes']\n",
    "\n",
    "y_units = [f1_score(predictions_SVM, y_test)*100, f1_score(predicted, y_test)*100]\n",
    "\n",
    "model_label = ['SVM', 'Naive Bayes']\n",
    "\n",
    "plt.bar(x_units, y_units, tick_label=model_label,\n",
    "        width=0.8, color=['red', 'blue'])\n",
    "\n",
    "plt.xlabel('Machine Learning Algorithm')\n",
    "plt.ylabel('F1 Score')\n",
    "plt.title('SVM Vs. Naive Bayes')\n",
    "\n",
    " \n",
    "\n",
    "plt.show()"
   ]
  },
  {
   "cell_type": "markdown",
   "metadata": {},
   "source": [
    "# MinMax Scaler"
   ]
  },
  {
   "cell_type": "code",
   "execution_count": 34,
   "metadata": {},
   "outputs": [
    {
     "name": "stdout",
     "output_type": "stream",
     "text": [
      "SVM Accuracy Score ->  55.66393958464443\n",
      "Accuracy: 0.556639\n",
      "Precision: 0.539456\n",
      "Recall: 0.520000\n",
      "F1 score: 0.529549\n"
     ]
    }
   ],
   "source": [
    "from sklearn.model_selection import train_test_split\n",
    "X = data_text_label[[\"AuxiliaryVerbsAndWords\", \"AveCharWord\", 'ConjunctionsAndWords', \"CountChar\", 'InterjectionsAndWords', \"LengthOfWord\", 'PrepositionsAndWords', 'ProWords', \"Ratio6WordsTotalWord\", \"RationSpaChar\"]]\n",
    "y = data_text_label[\"gender\"]\n",
    "X_train, X_test, y_train, y_test = train_test_split(X, y, test_size=0.25, random_state=69)\n",
    "\n",
    "from sklearn.preprocessing import MinMaxScaler\n",
    "scaler = MinMaxScaler()\n",
    "X_train = scaler.fit_transform(X_train)\n",
    "X_test = scaler.transform(X_test)\n",
    "#print(X_train.shape)\n",
    "#print(X_test.shape)\n",
    "#print(y_train.shape)\n",
    "#print(y_test.shape)\n",
    "\n",
    "from sklearn import svm\n",
    "from sklearn.metrics import accuracy_score\n",
    "SVM = svm.SVC(C=1.0, kernel='linear', degree=3, gamma=\"auto\", class_weight = None)\n",
    "SVM.fit(X_train, y_train)\n",
    "predictions_SVM = SVM.predict(X_test)\n",
    "# Use accuracy_score function to get the accuracy\n",
    "print(\"SVM Accuracy Score -> \", accuracy_score(predictions_SVM, y_test)*100)\n",
    "from sklearn.metrics import precision_score\n",
    "from sklearn.metrics import recall_score\n",
    "from sklearn.metrics import f1_score\n",
    "# accuracy: (tp + tn) / (p + n)\n",
    "accuracy = accuracy_score(y_test, predictions_SVM)\n",
    "print('Accuracy: %f' % accuracy)\n",
    "# precision tp / (tp + fp)\n",
    "precision = precision_score(y_test, predictions_SVM)\n",
    "print('Precision: %f' % precision)\n",
    "# recall: tp / (tp + fn)\n",
    "recall = recall_score(y_test, predictions_SVM)\n",
    "print('Recall: %f' % recall)\n",
    "# f1: 2 tp / (2 tp + fp + fn)\n",
    "f1 = f1_score(y_test, predictions_SVM)\n",
    "print('F1 score: %f' % f1)\n"
   ]
  },
  {
   "cell_type": "code",
   "execution_count": 35,
   "metadata": {},
   "outputs": [
    {
     "data": {
      "text/html": [
       "<div>\n",
       "<style scoped>\n",
       "    .dataframe tbody tr th:only-of-type {\n",
       "        vertical-align: middle;\n",
       "    }\n",
       "\n",
       "    .dataframe tbody tr th {\n",
       "        vertical-align: top;\n",
       "    }\n",
       "\n",
       "    .dataframe thead th {\n",
       "        text-align: right;\n",
       "    }\n",
       "</style>\n",
       "<table border=\"1\" class=\"dataframe\">\n",
       "  <thead>\n",
       "    <tr style=\"text-align: right;\">\n",
       "      <th></th>\n",
       "      <th>0</th>\n",
       "      <th>1</th>\n",
       "    </tr>\n",
       "  </thead>\n",
       "  <tbody>\n",
       "    <tr>\n",
       "      <th>0</th>\n",
       "      <td>976</td>\n",
       "      <td>677</td>\n",
       "    </tr>\n",
       "    <tr>\n",
       "      <th>1</th>\n",
       "      <td>732</td>\n",
       "      <td>793</td>\n",
       "    </tr>\n",
       "  </tbody>\n",
       "</table>\n",
       "</div>"
      ],
      "text/plain": [
       "     0    1\n",
       "0  976  677\n",
       "1  732  793"
      ]
     },
     "execution_count": 35,
     "metadata": {},
     "output_type": "execute_result"
    }
   ],
   "source": [
    "from sklearn.metrics import confusion_matrix\n",
    "labels = np.unique(y_test)\n",
    "cmtx =  confusion_matrix(y_test, predictions_SVM, labels=labels)\n",
    "\n",
    "pd.DataFrame(cmtx, index=labels, columns=labels)"
   ]
  },
  {
   "cell_type": "code",
   "execution_count": 36,
   "metadata": {},
   "outputs": [
    {
     "name": "stdout",
     "output_type": "stream",
     "text": [
      "Naive Bayes Accuracy Score ->  53.146633102580246\n",
      "Accuracy: 0.531466\n",
      "Precision: 0.623288\n",
      "Recall: 0.059672\n",
      "F1 score: 0.108917\n"
     ]
    }
   ],
   "source": [
    "# https://scikit-learn.org/stable/modules/naive_bayes.html\n",
    "from sklearn.naive_bayes import MultinomialNB\n",
    "\n",
    "model = MultinomialNB(alpha=1.0).fit(X_train, y_train)\n",
    "from sklearn.model_selection import train_test_split\n",
    "X = data_text_label[[\"AuxiliaryVerbsAndWords\", \"AveCharWord\", 'ConjunctionsAndWords', \"CountChar\", 'InterjectionsAndWords', \"LengthOfWord\", 'PrepositionsAndWords', 'ProWords', \"Ratio6WordsTotalWord\", \"RationSpaChar\"]]\n",
    "y = data_text_label[\"gender\"]\n",
    "X_train, X_test, y_train, y_test = train_test_split(X, y, test_size=0.25, random_state=69)\n",
    "\n",
    "from sklearn.preprocessing import MinMaxScaler\n",
    "scaler = MinMaxScaler()\n",
    "X_train = scaler.fit_transform(X_train)\n",
    "X_test = scaler.transform(X_test)\n",
    "#print(X_train.shape)\n",
    "#print(X_test.shape)\n",
    "#print(y_train.shape)\n",
    "#print(y_test.shape)\n",
    "import numpy as np\n",
    "\n",
    "predicted = model.predict(X_test)\n",
    "\n",
    "\n",
    "\n",
    "print(\"Naive Bayes Accuracy Score -> \", np.mean(predicted == y_test)*100)\n",
    "from sklearn.metrics import precision_score\n",
    "from sklearn.metrics import recall_score\n",
    "from sklearn.metrics import f1_score\n",
    "# accuracy: (tp + tn) / (p + n)\n",
    "accuracy = accuracy_score(y_test, predicted)\n",
    "print('Accuracy: %f' % accuracy)\n",
    "# precision tp / (tp + fp)\n",
    "precision = precision_score(y_test, predicted)\n",
    "print('Precision: %f' % precision)\n",
    "# recall: tp / (tp + fn)\n",
    "recall = recall_score(y_test, predicted)\n",
    "print('Recall: %f' % recall)\n",
    "# f1: 2 tp / (2 tp + fp + fn)\n",
    "f1 = f1_score(y_test, predicted)\n",
    "print('F1 score: %f' % f1)\n"
   ]
  },
  {
   "cell_type": "code",
   "execution_count": 37,
   "metadata": {},
   "outputs": [
    {
     "data": {
      "text/html": [
       "<div>\n",
       "<style scoped>\n",
       "    .dataframe tbody tr th:only-of-type {\n",
       "        vertical-align: middle;\n",
       "    }\n",
       "\n",
       "    .dataframe tbody tr th {\n",
       "        vertical-align: top;\n",
       "    }\n",
       "\n",
       "    .dataframe thead th {\n",
       "        text-align: right;\n",
       "    }\n",
       "</style>\n",
       "<table border=\"1\" class=\"dataframe\">\n",
       "  <thead>\n",
       "    <tr style=\"text-align: right;\">\n",
       "      <th></th>\n",
       "      <th>0</th>\n",
       "      <th>1</th>\n",
       "    </tr>\n",
       "  </thead>\n",
       "  <tbody>\n",
       "    <tr>\n",
       "      <th>0</th>\n",
       "      <td>1598</td>\n",
       "      <td>55</td>\n",
       "    </tr>\n",
       "    <tr>\n",
       "      <th>1</th>\n",
       "      <td>1434</td>\n",
       "      <td>91</td>\n",
       "    </tr>\n",
       "  </tbody>\n",
       "</table>\n",
       "</div>"
      ],
      "text/plain": [
       "      0   1\n",
       "0  1598  55\n",
       "1  1434  91"
      ]
     },
     "execution_count": 37,
     "metadata": {},
     "output_type": "execute_result"
    }
   ],
   "source": [
    "from sklearn.metrics import confusion_matrix\n",
    "labels = np.unique(y_test)\n",
    "cmtx =  confusion_matrix(y_test, predicted, labels=labels)\n",
    "\n",
    "pd.DataFrame(cmtx, index=labels, columns=labels)"
   ]
  },
  {
   "cell_type": "code",
   "execution_count": 38,
   "metadata": {},
   "outputs": [
    {
     "data": {
      "image/png": "[encoded data removed]",
      "text/plain": [
       "<Figure size 432x288 with 1 Axes>"
      ]
     },
     "metadata": {
      "needs_background": "light"
     },
     "output_type": "display_data"
    }
   ],
   "source": [
    "import matplotlib.pyplot as plt\n",
    "\n",
    "x_units = ['SVM', 'Naive Bayes']\n",
    "\n",
    "y_units = [f1_score(predictions_SVM, y_test)*100, f1_score(predicted, y_test)*100]\n",
    "\n",
    "model_label = ['SVM', 'Naive Bayes']\n",
    "\n",
    "plt.bar(x_units, y_units, tick_label=model_label,\n",
    "        width=0.8, color=['red', 'blue'])\n",
    "\n",
    "plt.xlabel('Machine Learning Algorithm')\n",
    "plt.ylabel('F1 Score')\n",
    "plt.title('SVM Vs. Naive Bayes')\n",
    "\n",
    " \n",
    "\n",
    "plt.show()"
   ]
  },
  {
   "cell_type": "markdown",
   "metadata": {},
   "source": [
    "# Normalizer with Standard Scaler"
   ]
  },
  {
   "cell_type": "code",
   "execution_count": 39,
   "metadata": {},
   "outputs": [
    {
     "name": "stdout",
     "output_type": "stream",
     "text": [
      "SVM Accuracy Score ->  53.901825047199495\n",
      "Accuracy: 0.539018\n",
      "Precision: 0.560000\n",
      "Recall: 0.183607\n",
      "F1 score: 0.276543\n"
     ]
    }
   ],
   "source": [
    "from sklearn.model_selection import train_test_split\n",
    "X = data_text_label[[\"AuxiliaryVerbsAndWords\", \"AveCharWord\", 'ConjunctionsAndWords', \"CountChar\", 'InterjectionsAndWords', \"LengthOfWord\", 'PrepositionsAndWords', 'ProWords', \"Ratio6WordsTotalWord\", \"RationSpaChar\"]]\n",
    "y = data_text_label[\"gender\"]\n",
    "X_train, X_test, y_train, y_test = train_test_split(X, y, test_size=0.25, random_state=69)\n",
    "\n",
    "from sklearn.preprocessing import Normalizer\n",
    "scaler = Normalizer()\n",
    "scaler.fit(X_train)\n",
    "X_train = scaler.transform(X_train)\n",
    "X_test = scaler.transform(X_test)\n",
    "\n",
    "from sklearn.preprocessing import StandardScaler\n",
    "scaler = StandardScaler(with_mean=False)\n",
    "scaler.fit(X_train) \n",
    "X_train = scaler.transform(X_train)\n",
    "X_test = scaler.transform(X_test)\n",
    "\n",
    "#print(X_train.shape)\n",
    "#print(X_test.shape)\n",
    "#print(y_train.shape)\n",
    "#print(y_test.shape)\n",
    "\n",
    "from sklearn import svm\n",
    "from sklearn.metrics import accuracy_score\n",
    "SVM = svm.SVC(C=1.0, kernel='linear', degree=3, gamma=\"auto\", class_weight = None)\n",
    "SVM.fit(X_train, y_train)\n",
    "predictions_SVM = SVM.predict(X_test)\n",
    "\n",
    "\n",
    "# Use accuracy_score function to get the accuracy\n",
    "print(\"SVM Accuracy Score -> \", accuracy_score(predictions_SVM, y_test)*100)\n",
    "from sklearn.metrics import precision_score\n",
    "from sklearn.metrics import recall_score\n",
    "from sklearn.metrics import f1_score\n",
    "# accuracy: (tp + tn) / (p + n)\n",
    "accuracy = accuracy_score(y_test, predictions_SVM)\n",
    "print('Accuracy: %f' % accuracy)\n",
    "# precision tp / (tp + fp)\n",
    "precision = precision_score(y_test, predictions_SVM)\n",
    "print('Precision: %f' % precision)\n",
    "# recall: tp / (tp + fn)\n",
    "recall = recall_score(y_test, predictions_SVM)\n",
    "print('Recall: %f' % recall)\n",
    "# f1: 2 tp / (2 tp + fp + fn)\n",
    "f1 = f1_score(y_test, predictions_SVM)\n",
    "print('F1 score: %f' % f1)\n"
   ]
  },
  {
   "cell_type": "code",
   "execution_count": 40,
   "metadata": {},
   "outputs": [
    {
     "data": {
      "text/html": [
       "<div>\n",
       "<style scoped>\n",
       "    .dataframe tbody tr th:only-of-type {\n",
       "        vertical-align: middle;\n",
       "    }\n",
       "\n",
       "    .dataframe tbody tr th {\n",
       "        vertical-align: top;\n",
       "    }\n",
       "\n",
       "    .dataframe thead th {\n",
       "        text-align: right;\n",
       "    }\n",
       "</style>\n",
       "<table border=\"1\" class=\"dataframe\">\n",
       "  <thead>\n",
       "    <tr style=\"text-align: right;\">\n",
       "      <th></th>\n",
       "      <th>0</th>\n",
       "      <th>1</th>\n",
       "    </tr>\n",
       "  </thead>\n",
       "  <tbody>\n",
       "    <tr>\n",
       "      <th>0</th>\n",
       "      <td>1433</td>\n",
       "      <td>220</td>\n",
       "    </tr>\n",
       "    <tr>\n",
       "      <th>1</th>\n",
       "      <td>1245</td>\n",
       "      <td>280</td>\n",
       "    </tr>\n",
       "  </tbody>\n",
       "</table>\n",
       "</div>"
      ],
      "text/plain": [
       "      0    1\n",
       "0  1433  220\n",
       "1  1245  280"
      ]
     },
     "execution_count": 40,
     "metadata": {},
     "output_type": "execute_result"
    }
   ],
   "source": [
    "from sklearn.metrics import confusion_matrix\n",
    "labels = np.unique(y_test)\n",
    "cmtx =  confusion_matrix(y_test, predictions_SVM, labels=labels)\n",
    "\n",
    "pd.DataFrame(cmtx, index=labels, columns=labels)"
   ]
  },
  {
   "cell_type": "code",
   "execution_count": 41,
   "metadata": {},
   "outputs": [
    {
     "name": "stdout",
     "output_type": "stream",
     "text": [
      "Naive Bayes Accuracy Score ->  55.380742605412216\n",
      "Accuracy: 0.553807\n",
      "Precision: 0.529640\n",
      "Recall: 0.626885\n",
      "F1 score: 0.574174\n"
     ]
    }
   ],
   "source": [
    "\n",
    "# https://scikit-learn.org/stable/modules/naive_bayes.html\n",
    "\n",
    "from sklearn.model_selection import train_test_split\n",
    "X = data_text_label[[\"AuxiliaryVerbsAndWords\", \"AveCharWord\", 'ConjunctionsAndWords', \"CountChar\", 'InterjectionsAndWords', \"LengthOfWord\", 'PrepositionsAndWords', 'ProWords', \"Ratio6WordsTotalWord\", \"RationSpaChar\"]]\n",
    "y = data_text_label[\"gender\"]\n",
    "X_train, X_test, y_train, y_test = train_test_split(X, y, test_size=0.25, random_state=69)\n",
    "\n",
    "from sklearn.preprocessing import Normalizer\n",
    "scaler = Normalizer()\n",
    "scaler.fit(X_train)\n",
    "X_train = scaler.transform(X_train)\n",
    "X_test = scaler.transform(X_test)\n",
    "\n",
    "from sklearn.preprocessing import StandardScaler\n",
    "scaler = StandardScaler(with_mean=False)\n",
    "scaler.fit(X_train) \n",
    "X_train = scaler.transform(X_train)\n",
    "X_test = scaler.transform(X_test)\n",
    "from sklearn.naive_bayes import MultinomialNB\n",
    "\n",
    "model = MultinomialNB(alpha=1.0).fit(X_train, y_train)\n",
    "import numpy as np\n",
    "\n",
    "predicted = model.predict(X_test)\n",
    "\n",
    "\n",
    "\n",
    "print(\"Naive Bayes Accuracy Score -> \", np.mean(predicted == y_test)*100)\n",
    "from sklearn.metrics import precision_score\n",
    "from sklearn.metrics import recall_score\n",
    "from sklearn.metrics import f1_score\n",
    "# accuracy: (tp + tn) / (p + n)\n",
    "accuracy = accuracy_score(y_test, predicted)\n",
    "print('Accuracy: %f' % accuracy)\n",
    "# precision tp / (tp + fp)\n",
    "precision = precision_score(y_test, predicted)\n",
    "print('Precision: %f' % precision)\n",
    "# recall: tp / (tp + fn)\n",
    "recall = recall_score(y_test, predicted)\n",
    "print('Recall: %f' % recall)\n",
    "# f1: 2 tp / (2 tp + fp + fn)\n",
    "f1 = f1_score(y_test, predicted)\n",
    "print('F1 score: %f' % f1)\n"
   ]
  },
  {
   "cell_type": "code",
   "execution_count": 42,
   "metadata": {},
   "outputs": [
    {
     "data": {
      "text/html": [
       "<div>\n",
       "<style scoped>\n",
       "    .dataframe tbody tr th:only-of-type {\n",
       "        vertical-align: middle;\n",
       "    }\n",
       "\n",
       "    .dataframe tbody tr th {\n",
       "        vertical-align: top;\n",
       "    }\n",
       "\n",
       "    .dataframe thead th {\n",
       "        text-align: right;\n",
       "    }\n",
       "</style>\n",
       "<table border=\"1\" class=\"dataframe\">\n",
       "  <thead>\n",
       "    <tr style=\"text-align: right;\">\n",
       "      <th></th>\n",
       "      <th>0</th>\n",
       "      <th>1</th>\n",
       "    </tr>\n",
       "  </thead>\n",
       "  <tbody>\n",
       "    <tr>\n",
       "      <th>0</th>\n",
       "      <td>804</td>\n",
       "      <td>849</td>\n",
       "    </tr>\n",
       "    <tr>\n",
       "      <th>1</th>\n",
       "      <td>569</td>\n",
       "      <td>956</td>\n",
       "    </tr>\n",
       "  </tbody>\n",
       "</table>\n",
       "</div>"
      ],
      "text/plain": [
       "     0    1\n",
       "0  804  849\n",
       "1  569  956"
      ]
     },
     "execution_count": 42,
     "metadata": {},
     "output_type": "execute_result"
    }
   ],
   "source": [
    "from sklearn.metrics import confusion_matrix\n",
    "labels = np.unique(y_test)\n",
    "cmtx =  confusion_matrix(y_test, predicted, labels=labels)\n",
    "\n",
    "pd.DataFrame(cmtx, index=labels, columns=labels)"
   ]
  },
  {
   "cell_type": "code",
   "execution_count": 43,
   "metadata": {},
   "outputs": [
    {
     "data": {
      "image/png": "[encoded data removed]",
      "text/plain": [
       "<Figure size 432x288 with 1 Axes>"
      ]
     },
     "metadata": {
      "needs_background": "light"
     },
     "output_type": "display_data"
    }
   ],
   "source": [
    "import matplotlib.pyplot as plt\n",
    "\n",
    "x_units = ['SVM', 'Naive Bayes']\n",
    "\n",
    "y_units = [f1_score(predictions_SVM, y_test)*100, f1_score(predicted, y_test)*100]\n",
    "\n",
    "model_label = ['SVM', 'Naive Bayes']\n",
    "\n",
    "plt.bar(x_units, y_units, tick_label=model_label,\n",
    "        width=0.8, color=['red', 'blue'])\n",
    "\n",
    "plt.xlabel('Machine Learning Algorithm')\n",
    "plt.ylabel('F1 Score')\n",
    "plt.title('SVM Vs. Naive Bayes')\n",
    "\n",
    " \n",
    "\n",
    "plt.show()"
   ]
  }
 ],
 "metadata": {
  "kernelspec": {
   "display_name": "Python 3",
   "language": "python",
   "name": "python3"
  },
  "language_info": {
   "codemirror_mode": {
    "name": "ipython",
    "version": 3
   },
   "file_extension": ".py",
   "mimetype": "text/x-python",
   "name": "python",
   "nbconvert_exporter": "python",
   "pygments_lexer": "ipython3",
   "version": "3.8.3"
  }
 },
 "nbformat": 4,
 "nbformat_minor": 4
}
